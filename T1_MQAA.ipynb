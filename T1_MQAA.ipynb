{
  "nbformat": 4,
  "nbformat_minor": 0,
  "metadata": {
    "colab": {
      "provenance": [],
      "collapsed_sections": [
        "ERzV-i3w7VSb",
        "vYMOcB7U_E2k",
        "bsT7s2KxHqBx",
        "htG2hkoQSu8T"
      ],
      "toc_visible": true
    },
    "kernelspec": {
      "name": "python3",
      "display_name": "Python 3"
    },
    "language_info": {
      "name": "python"
    }
  },
  "cells": [
    {
      "cell_type": "markdown",
      "source": [
        "#Drive"
      ],
      "metadata": {
        "id": "n3QhGkAnTrrg"
      }
    },
    {
      "cell_type": "markdown",
      "source": [
        "# Dependências"
      ],
      "metadata": {
        "id": "iSNsCZhaTwoW"
      }
    },
    {
      "cell_type": "code",
      "execution_count": 1,
      "metadata": {
        "colab": {
          "base_uri": "https://localhost:8080/"
        },
        "id": "08YPlMELSgpR",
        "outputId": "65065408-9b6c-438e-836a-4aa3f86cd294"
      },
      "outputs": [
        {
          "output_type": "stream",
          "name": "stdout",
          "text": [
            "Mounted at /content/gdrive\n"
          ]
        }
      ],
      "source": [
        "from google.colab import drive\n",
        "drive.mount('/content/gdrive')"
      ]
    },
    {
      "cell_type": "code",
      "source": [
        "#diretório para trabalho\n",
        "%cd /content/gdrive/Shareddrives/MQAA2022/Trabalho"
      ],
      "metadata": {
        "colab": {
          "base_uri": "https://localhost:8080/"
        },
        "id": "BB98CZ_kTOtV",
        "outputId": "7cd72f8d-7490-435d-f1ac-143a17e9893b"
      },
      "execution_count": 2,
      "outputs": [
        {
          "output_type": "stream",
          "name": "stdout",
          "text": [
            "/content/gdrive/Shareddrives/MQAA2022/Trabalho\n"
          ]
        }
      ]
    },
    {
      "cell_type": "code",
      "source": [
        "#install\n",
        "!pip install ipython\n",
        "!pip install basedosdados\n",
        "!pip install matplotlib\n",
        "!pip install pandas\n"
      ],
      "metadata": {
        "id": "P3bucfpLT0zX",
        "colab": {
          "base_uri": "https://localhost:8080/",
          "height": 1000
        },
        "outputId": "fda1657f-d7fa-4c47-a506-66b7ecc5c4a7"
      },
      "execution_count": 3,
      "outputs": [
        {
          "output_type": "stream",
          "name": "stdout",
          "text": [
            "Looking in indexes: https://pypi.org/simple, https://us-python.pkg.dev/colab-wheels/public/simple/\n",
            "Requirement already satisfied: ipython in /usr/local/lib/python3.7/dist-packages (7.9.0)\n",
            "Requirement already satisfied: traitlets>=4.2 in /usr/local/lib/python3.7/dist-packages (from ipython) (5.1.1)\n",
            "Requirement already satisfied: pygments in /usr/local/lib/python3.7/dist-packages (from ipython) (2.6.1)\n",
            "Requirement already satisfied: pickleshare in /usr/local/lib/python3.7/dist-packages (from ipython) (0.7.5)\n",
            "Collecting jedi>=0.10\n",
            "  Downloading jedi-0.18.1-py2.py3-none-any.whl (1.6 MB)\n",
            "\u001b[K     |████████████████████████████████| 1.6 MB 4.8 MB/s \n",
            "\u001b[?25hRequirement already satisfied: setuptools>=18.5 in /usr/local/lib/python3.7/dist-packages (from ipython) (57.4.0)\n",
            "Requirement already satisfied: backcall in /usr/local/lib/python3.7/dist-packages (from ipython) (0.2.0)\n",
            "Requirement already satisfied: decorator in /usr/local/lib/python3.7/dist-packages (from ipython) (4.4.2)\n",
            "Requirement already satisfied: prompt-toolkit<2.1.0,>=2.0.0 in /usr/local/lib/python3.7/dist-packages (from ipython) (2.0.10)\n",
            "Requirement already satisfied: pexpect in /usr/local/lib/python3.7/dist-packages (from ipython) (4.8.0)\n",
            "Requirement already satisfied: parso<0.9.0,>=0.8.0 in /usr/local/lib/python3.7/dist-packages (from jedi>=0.10->ipython) (0.8.3)\n",
            "Requirement already satisfied: six>=1.9.0 in /usr/local/lib/python3.7/dist-packages (from prompt-toolkit<2.1.0,>=2.0.0->ipython) (1.15.0)\n",
            "Requirement already satisfied: wcwidth in /usr/local/lib/python3.7/dist-packages (from prompt-toolkit<2.1.0,>=2.0.0->ipython) (0.2.5)\n",
            "Requirement already satisfied: ptyprocess>=0.5 in /usr/local/lib/python3.7/dist-packages (from pexpect->ipython) (0.7.0)\n",
            "Installing collected packages: jedi\n",
            "Successfully installed jedi-0.18.1\n",
            "Looking in indexes: https://pypi.org/simple, https://us-python.pkg.dev/colab-wheels/public/simple/\n",
            "Collecting basedosdados\n",
            "  Downloading basedosdados-1.6.8-py3-none-any.whl (50 kB)\n",
            "\u001b[K     |████████████████████████████████| 50 kB 3.1 MB/s \n",
            "\u001b[?25hCollecting pandas==1.2.4\n",
            "  Downloading pandas-1.2.4-cp37-cp37m-manylinux1_x86_64.whl (9.9 MB)\n",
            "\u001b[K     |████████████████████████████████| 9.9 MB 9.0 MB/s \n",
            "\u001b[?25hRequirement already satisfied: importlib-metadata<5.0.0,>=4.11.3 in /usr/local/lib/python3.7/dist-packages (from basedosdados) (4.13.0)\n",
            "Collecting mkdocs-click<0.6.0,>=0.5.0\n",
            "  Downloading mkdocs_click-0.5.0-py3-none-any.whl (14 kB)\n",
            "Collecting ruamel.yaml==0.17.10\n",
            "  Downloading ruamel.yaml-0.17.10-py3-none-any.whl (108 kB)\n",
            "\u001b[K     |████████████████████████████████| 108 kB 70.2 MB/s \n",
            "\u001b[?25hCollecting google-cloud-storage==1.42.3\n",
            "  Downloading google_cloud_storage-1.42.3-py2.py3-none-any.whl (105 kB)\n",
            "\u001b[K     |████████████████████████████████| 105 kB 73.9 MB/s \n",
            "\u001b[?25hRequirement already satisfied: ipykernel==5.3.4 in /usr/local/lib/python3.7/dist-packages (from basedosdados) (5.3.4)\n",
            "Collecting loguru<0.7.0,>=0.6.0\n",
            "  Downloading loguru-0.6.0-py3-none-any.whl (58 kB)\n",
            "\u001b[K     |████████████████████████████████| 58 kB 7.8 MB/s \n",
            "\u001b[?25hCollecting google-cloud-bigquery==2.30.1\n",
            "  Downloading google_cloud_bigquery-2.30.1-py2.py3-none-any.whl (203 kB)\n",
            "\u001b[K     |████████████████████████████████| 203 kB 14.3 MB/s \n",
            "\u001b[?25hCollecting tomlkit==0.7.0\n",
            "  Downloading tomlkit-0.7.0-py2.py3-none-any.whl (32 kB)\n",
            "Collecting mkdocs<2.0.0,>=1.2.3\n",
            "  Downloading mkdocs-1.4.1-py3-none-any.whl (3.6 MB)\n",
            "\u001b[K     |████████████████████████████████| 3.6 MB 45.2 MB/s \n",
            "\u001b[?25hCollecting google-cloud-bigquery-storage==1.1.0\n",
            "  Downloading google_cloud_bigquery_storage-1.1.0-py2.py3-none-any.whl (135 kB)\n",
            "\u001b[K     |████████████████████████████████| 135 kB 18.9 MB/s \n",
            "\u001b[?25hCollecting pandavro<2.0.0,>=1.6.0\n",
            "  Downloading pandavro-1.7.1.tar.gz (8.1 kB)\n",
            "Collecting mkdocstrings<0.19.0,>=0.18.1\n",
            "  Downloading mkdocstrings-0.18.1-py3-none-any.whl (24 kB)\n",
            "Collecting Jinja2==3.0.3\n",
            "  Downloading Jinja2-3.0.3-py3-none-any.whl (133 kB)\n",
            "\u001b[K     |████████████████████████████████| 133 kB 74.2 MB/s \n",
            "\u001b[?25hCollecting black==20.8b1\n",
            "  Downloading black-20.8b1.tar.gz (1.1 MB)\n",
            "\u001b[K     |████████████████████████████████| 1.1 MB 60.8 MB/s \n",
            "\u001b[?25h  Installing build dependencies ... \u001b[?25l\u001b[?25hdone\n",
            "  Getting requirements to build wheel ... \u001b[?25l\u001b[?25hdone\n",
            "    Preparing wheel metadata ... \u001b[?25l\u001b[?25hdone\n",
            "Collecting tqdm==4.50.2\n",
            "  Downloading tqdm-4.50.2-py2.py3-none-any.whl (70 kB)\n",
            "\u001b[K     |████████████████████████████████| 70 kB 8.9 MB/s \n",
            "\u001b[?25hCollecting ckanapi==4.6\n",
            "  Downloading ckanapi-4.6.tar.gz (32 kB)\n",
            "Collecting click==8.0.3\n",
            "  Downloading click-8.0.3-py3-none-any.whl (97 kB)\n",
            "\u001b[K     |████████████████████████████████| 97 kB 8.1 MB/s \n",
            "\u001b[?25hCollecting pytest==6.0.2\n",
            "  Downloading pytest-6.0.2-py3-none-any.whl (270 kB)\n",
            "\u001b[K     |████████████████████████████████| 270 kB 67.3 MB/s \n",
            "\u001b[?25hCollecting jupyter<2.0.0,>=1.0.0\n",
            "  Downloading jupyter-1.0.0-py2.py3-none-any.whl (2.7 kB)\n",
            "Collecting pyarrow==6.0.0\n",
            "  Downloading pyarrow-6.0.0-cp37-cp37m-manylinux_2_17_x86_64.manylinux2014_x86_64.whl (25.5 MB)\n",
            "\u001b[K     |████████████████████████████████| 25.5 MB 1.5 MB/s \n",
            "\u001b[?25hCollecting pyaml==20.4.0\n",
            "  Downloading pyaml-20.4.0-py2.py3-none-any.whl (17 kB)\n",
            "Requirement already satisfied: toml<0.11.0,>=0.10.2 in /usr/local/lib/python3.7/dist-packages (from basedosdados) (0.10.2)\n",
            "Collecting mkdocs-material<9.0.0,>=8.2.7\n",
            "  Downloading mkdocs_material-8.5.6-py3-none-any.whl (7.5 MB)\n",
            "\u001b[K     |████████████████████████████████| 7.5 MB 59.8 MB/s \n",
            "\u001b[?25hCollecting pandas-gbq<0.18.0,>=0.17.4\n",
            "  Downloading pandas_gbq-0.17.9-py2.py3-none-any.whl (25 kB)\n",
            "Requirement already satisfied: appdirs in /usr/local/lib/python3.7/dist-packages (from black==20.8b1->basedosdados) (1.4.4)\n",
            "Requirement already satisfied: typing-extensions>=3.7.4 in /usr/local/lib/python3.7/dist-packages (from black==20.8b1->basedosdados) (4.1.1)\n",
            "Requirement already satisfied: regex>=2020.1.8 in /usr/local/lib/python3.7/dist-packages (from black==20.8b1->basedosdados) (2022.6.2)\n",
            "Collecting typed-ast>=1.4.0\n",
            "  Downloading typed_ast-1.5.4-cp37-cp37m-manylinux_2_5_x86_64.manylinux1_x86_64.manylinux_2_12_x86_64.manylinux2010_x86_64.whl (843 kB)\n",
            "\u001b[K     |████████████████████████████████| 843 kB 61.5 MB/s \n",
            "\u001b[?25hCollecting pathspec<1,>=0.6\n",
            "  Downloading pathspec-0.10.1-py3-none-any.whl (27 kB)\n",
            "Collecting mypy-extensions>=0.4.3\n",
            "  Downloading mypy_extensions-0.4.3-py2.py3-none-any.whl (4.5 kB)\n",
            "Requirement already satisfied: setuptools in /usr/local/lib/python3.7/dist-packages (from ckanapi==4.6->basedosdados) (57.4.0)\n",
            "Collecting docopt\n",
            "  Downloading docopt-0.6.2.tar.gz (25 kB)\n",
            "Requirement already satisfied: requests in /usr/local/lib/python3.7/dist-packages (from ckanapi==4.6->basedosdados) (2.23.0)\n",
            "Requirement already satisfied: python-slugify>=1.0 in /usr/local/lib/python3.7/dist-packages (from ckanapi==4.6->basedosdados) (6.1.2)\n",
            "Requirement already satisfied: six<2.0,>=1.9 in /usr/local/lib/python3.7/dist-packages (from ckanapi==4.6->basedosdados) (1.15.0)\n",
            "Requirement already satisfied: protobuf>=3.12.0 in /usr/local/lib/python3.7/dist-packages (from google-cloud-bigquery==2.30.1->basedosdados) (3.17.3)\n",
            "Requirement already satisfied: packaging>=14.3 in /usr/local/lib/python3.7/dist-packages (from google-cloud-bigquery==2.30.1->basedosdados) (21.3)\n",
            "Requirement already satisfied: google-api-core[grpc]<3.0.0dev,>=1.29.0 in /usr/local/lib/python3.7/dist-packages (from google-cloud-bigquery==2.30.1->basedosdados) (1.31.6)\n",
            "Requirement already satisfied: python-dateutil<3.0dev,>=2.7.2 in /usr/local/lib/python3.7/dist-packages (from google-cloud-bigquery==2.30.1->basedosdados) (2.8.2)\n",
            "Collecting google-cloud-core<3.0.0dev,>=1.4.1\n",
            "  Downloading google_cloud_core-2.3.2-py2.py3-none-any.whl (29 kB)\n",
            "Collecting proto-plus>=1.10.0\n",
            "  Downloading proto_plus-1.22.1-py3-none-any.whl (47 kB)\n",
            "\u001b[K     |████████████████████████████████| 47 kB 5.6 MB/s \n",
            "\u001b[?25hCollecting google-resumable-media<3.0dev,>=0.6.0\n",
            "  Downloading google_resumable_media-2.4.0-py2.py3-none-any.whl (77 kB)\n",
            "\u001b[K     |████████████████████████████████| 77 kB 5.1 MB/s \n",
            "\u001b[?25hRequirement already satisfied: grpcio<2.0dev,>=1.38.1 in /usr/local/lib/python3.7/dist-packages (from google-cloud-bigquery==2.30.1->basedosdados) (1.49.1)\n",
            "Requirement already satisfied: google-auth<3.0dev,>=1.25.0 in /usr/local/lib/python3.7/dist-packages (from google-cloud-storage==1.42.3->basedosdados) (1.35.0)\n",
            "Requirement already satisfied: traitlets>=4.1.0 in /usr/local/lib/python3.7/dist-packages (from ipykernel==5.3.4->basedosdados) (5.1.1)\n",
            "Requirement already satisfied: tornado>=4.2 in /usr/local/lib/python3.7/dist-packages (from ipykernel==5.3.4->basedosdados) (5.1.1)\n",
            "Requirement already satisfied: jupyter-client in /usr/local/lib/python3.7/dist-packages (from ipykernel==5.3.4->basedosdados) (6.1.12)\n",
            "Requirement already satisfied: ipython>=5.0.0 in /usr/local/lib/python3.7/dist-packages (from ipykernel==5.3.4->basedosdados) (7.9.0)\n",
            "Requirement already satisfied: MarkupSafe>=2.0 in /usr/local/lib/python3.7/dist-packages (from Jinja2==3.0.3->basedosdados) (2.0.1)\n",
            "Requirement already satisfied: pytz>=2017.3 in /usr/local/lib/python3.7/dist-packages (from pandas==1.2.4->basedosdados) (2022.4)\n",
            "Requirement already satisfied: numpy>=1.16.5 in /usr/local/lib/python3.7/dist-packages (from pandas==1.2.4->basedosdados) (1.21.6)\n",
            "Requirement already satisfied: PyYAML in /usr/local/lib/python3.7/dist-packages (from pyaml==20.4.0->basedosdados) (6.0)\n",
            "Collecting pluggy<1.0,>=0.12\n",
            "  Downloading pluggy-0.13.1-py2.py3-none-any.whl (18 kB)\n",
            "Requirement already satisfied: py>=1.8.2 in /usr/local/lib/python3.7/dist-packages (from pytest==6.0.2->basedosdados) (1.11.0)\n",
            "Requirement already satisfied: more-itertools>=4.0.0 in /usr/local/lib/python3.7/dist-packages (from pytest==6.0.2->basedosdados) (8.14.0)\n",
            "Collecting iniconfig\n",
            "  Downloading iniconfig-1.1.1-py2.py3-none-any.whl (5.0 kB)\n",
            "Requirement already satisfied: attrs>=17.4.0 in /usr/local/lib/python3.7/dist-packages (from pytest==6.0.2->basedosdados) (22.1.0)\n",
            "Collecting ruamel.yaml.clib>=0.1.2\n",
            "  Downloading ruamel.yaml.clib-0.2.6-cp37-cp37m-manylinux1_x86_64.whl (546 kB)\n",
            "\u001b[K     |████████████████████████████████| 546 kB 69.8 MB/s \n",
            "\u001b[?25hRequirement already satisfied: googleapis-common-protos<2.0dev,>=1.6.0 in /usr/local/lib/python3.7/dist-packages (from google-api-core[grpc]<3.0.0dev,>=1.29.0->google-cloud-bigquery==2.30.1->basedosdados) (1.56.4)\n",
            "Requirement already satisfied: pyasn1-modules>=0.2.1 in /usr/local/lib/python3.7/dist-packages (from google-auth<3.0dev,>=1.25.0->google-cloud-storage==1.42.3->basedosdados) (0.2.8)\n",
            "Requirement already satisfied: cachetools<5.0,>=2.0.0 in /usr/local/lib/python3.7/dist-packages (from google-auth<3.0dev,>=1.25.0->google-cloud-storage==1.42.3->basedosdados) (4.2.4)\n",
            "Requirement already satisfied: rsa<5,>=3.1.4 in /usr/local/lib/python3.7/dist-packages (from google-auth<3.0dev,>=1.25.0->google-cloud-storage==1.42.3->basedosdados) (4.9)\n",
            "Collecting google-crc32c<2.0dev,>=1.0\n",
            "  Downloading google_crc32c-1.5.0-cp37-cp37m-manylinux_2_17_x86_64.manylinux2014_x86_64.whl (32 kB)\n",
            "Requirement already satisfied: zipp>=0.5 in /usr/local/lib/python3.7/dist-packages (from importlib-metadata<5.0.0,>=4.11.3->basedosdados) (3.9.0)\n",
            "Requirement already satisfied: pexpect in /usr/local/lib/python3.7/dist-packages (from ipython>=5.0.0->ipykernel==5.3.4->basedosdados) (4.8.0)\n",
            "Requirement already satisfied: jedi>=0.10 in /usr/local/lib/python3.7/dist-packages (from ipython>=5.0.0->ipykernel==5.3.4->basedosdados) (0.18.1)\n",
            "Requirement already satisfied: decorator in /usr/local/lib/python3.7/dist-packages (from ipython>=5.0.0->ipykernel==5.3.4->basedosdados) (4.4.2)\n",
            "Requirement already satisfied: prompt-toolkit<2.1.0,>=2.0.0 in /usr/local/lib/python3.7/dist-packages (from ipython>=5.0.0->ipykernel==5.3.4->basedosdados) (2.0.10)\n",
            "Requirement already satisfied: backcall in /usr/local/lib/python3.7/dist-packages (from ipython>=5.0.0->ipykernel==5.3.4->basedosdados) (0.2.0)\n",
            "Requirement already satisfied: pickleshare in /usr/local/lib/python3.7/dist-packages (from ipython>=5.0.0->ipykernel==5.3.4->basedosdados) (0.7.5)\n",
            "Requirement already satisfied: pygments in /usr/local/lib/python3.7/dist-packages (from ipython>=5.0.0->ipykernel==5.3.4->basedosdados) (2.6.1)\n",
            "Requirement already satisfied: parso<0.9.0,>=0.8.0 in /usr/local/lib/python3.7/dist-packages (from jedi>=0.10->ipython>=5.0.0->ipykernel==5.3.4->basedosdados) (0.8.3)\n",
            "Requirement already satisfied: nbconvert in /usr/local/lib/python3.7/dist-packages (from jupyter<2.0.0,>=1.0.0->basedosdados) (5.6.1)\n",
            "Requirement already satisfied: notebook in /usr/local/lib/python3.7/dist-packages (from jupyter<2.0.0,>=1.0.0->basedosdados) (5.5.0)\n",
            "Requirement already satisfied: ipywidgets in /usr/local/lib/python3.7/dist-packages (from jupyter<2.0.0,>=1.0.0->basedosdados) (7.7.1)\n",
            "Collecting qtconsole\n",
            "  Downloading qtconsole-5.3.2-py3-none-any.whl (120 kB)\n",
            "\u001b[K     |████████████████████████████████| 120 kB 68.9 MB/s \n",
            "\u001b[?25hRequirement already satisfied: jupyter-console in /usr/local/lib/python3.7/dist-packages (from jupyter<2.0.0,>=1.0.0->basedosdados) (6.1.0)\n",
            "Collecting mergedeep>=1.3.4\n",
            "  Downloading mergedeep-1.3.4-py3-none-any.whl (6.4 kB)\n",
            "Collecting watchdog>=2.0\n",
            "  Downloading watchdog-2.1.9-py3-none-manylinux2014_x86_64.whl (78 kB)\n",
            "\u001b[K     |████████████████████████████████| 78 kB 6.3 MB/s \n",
            "\u001b[?25hCollecting markdown<3.4,>=3.2.1\n",
            "  Downloading Markdown-3.3.7-py3-none-any.whl (97 kB)\n",
            "\u001b[K     |████████████████████████████████| 97 kB 9.3 MB/s \n",
            "\u001b[?25hCollecting pyyaml-env-tag>=0.1\n",
            "  Downloading pyyaml_env_tag-0.1-py3-none-any.whl (3.9 kB)\n",
            "Collecting ghp-import>=1.0\n",
            "  Downloading ghp_import-2.1.0-py3-none-any.whl (11 kB)\n",
            "Collecting mkdocs-material-extensions>=1.0.3\n",
            "  Downloading mkdocs_material_extensions-1.0.3-py3-none-any.whl (8.1 kB)\n",
            "Collecting pygments\n",
            "  Downloading Pygments-2.13.0-py3-none-any.whl (1.1 MB)\n",
            "\u001b[K     |████████████████████████████████| 1.1 MB 57.7 MB/s \n",
            "\u001b[?25hCollecting requests\n",
            "  Downloading requests-2.28.1-py3-none-any.whl (62 kB)\n",
            "\u001b[K     |████████████████████████████████| 62 kB 1.8 MB/s \n",
            "\u001b[?25hCollecting pymdown-extensions>=9.4\n",
            "  Downloading pymdown_extensions-9.6-py3-none-any.whl (218 kB)\n",
            "\u001b[K     |████████████████████████████████| 218 kB 74.9 MB/s \n",
            "\u001b[?25hCollecting mkdocstrings-python-legacy>=0.2\n",
            "  Downloading mkdocstrings_python_legacy-0.2.3-py3-none-any.whl (26 kB)\n",
            "Collecting mkdocs-autorefs>=0.3.1\n",
            "  Downloading mkdocs_autorefs-0.4.1-py3-none-any.whl (9.8 kB)\n",
            "Collecting pytkdocs>=0.14\n",
            "  Downloading pytkdocs-0.16.1-py3-none-any.whl (37 kB)\n",
            "Collecting mkdocstrings-python-legacy>=0.2\n",
            "  Downloading mkdocstrings_python_legacy-0.2.2-py3-none-any.whl (25 kB)\n",
            "Requirement already satisfied: pyparsing!=3.0.5,>=2.0.2 in /usr/local/lib/python3.7/dist-packages (from packaging>=14.3->google-cloud-bigquery==2.30.1->basedosdados) (3.0.9)\n",
            "Requirement already satisfied: google-auth-oauthlib>=0.0.1 in /usr/local/lib/python3.7/dist-packages (from pandas-gbq<0.18.0,>=0.17.4->basedosdados) (0.4.6)\n",
            "Requirement already satisfied: pydata-google-auth in /usr/local/lib/python3.7/dist-packages (from pandas-gbq<0.18.0,>=0.17.4->basedosdados) (1.4.0)\n",
            "Collecting db-dtypes<2.0.0,>=0.3.1\n",
            "  Downloading db_dtypes-1.0.4-py2.py3-none-any.whl (14 kB)\n",
            "Requirement already satisfied: requests-oauthlib>=0.7.0 in /usr/local/lib/python3.7/dist-packages (from google-auth-oauthlib>=0.0.1->pandas-gbq<0.18.0,>=0.17.4->basedosdados) (1.3.1)\n",
            "Collecting fastavro==1.5.1\n",
            "  Downloading fastavro-1.5.1-cp37-cp37m-manylinux_2_17_x86_64.manylinux2014_x86_64.whl (2.3 MB)\n",
            "\u001b[K     |████████████████████████████████| 2.3 MB 43.9 MB/s \n",
            "\u001b[?25hRequirement already satisfied: wcwidth in /usr/local/lib/python3.7/dist-packages (from prompt-toolkit<2.1.0,>=2.0.0->ipython>=5.0.0->ipykernel==5.3.4->basedosdados) (0.2.5)\n",
            "Collecting protobuf>=3.12.0\n",
            "  Downloading protobuf-3.20.3-cp37-cp37m-manylinux_2_5_x86_64.manylinux1_x86_64.whl (1.0 MB)\n",
            "\u001b[K     |████████████████████████████████| 1.0 MB 60.5 MB/s \n",
            "\u001b[?25hRequirement already satisfied: pyasn1<0.5.0,>=0.4.6 in /usr/local/lib/python3.7/dist-packages (from pyasn1-modules>=0.2.1->google-auth<3.0dev,>=1.25.0->google-cloud-storage==1.42.3->basedosdados) (0.4.8)\n",
            "Requirement already satisfied: text-unidecode>=1.3 in /usr/local/lib/python3.7/dist-packages (from python-slugify>=1.0->ckanapi==4.6->basedosdados) (1.3)\n",
            "Requirement already satisfied: astunparse>=1.6 in /usr/local/lib/python3.7/dist-packages (from pytkdocs>=0.14->mkdocstrings-python-legacy>=0.2->mkdocstrings<0.19.0,>=0.18.1->basedosdados) (1.6.3)\n",
            "Requirement already satisfied: cached-property>=1.5 in /usr/local/lib/python3.7/dist-packages (from pytkdocs>=0.14->mkdocstrings-python-legacy>=0.2->mkdocstrings<0.19.0,>=0.18.1->basedosdados) (1.5.2)\n",
            "Requirement already satisfied: wheel<1.0,>=0.23.0 in /usr/local/lib/python3.7/dist-packages (from astunparse>=1.6->pytkdocs>=0.14->mkdocstrings-python-legacy>=0.2->mkdocstrings<0.19.0,>=0.18.1->basedosdados) (0.37.1)\n",
            "Requirement already satisfied: certifi>=2017.4.17 in /usr/local/lib/python3.7/dist-packages (from requests->ckanapi==4.6->basedosdados) (2022.9.24)\n",
            "Requirement already satisfied: charset-normalizer<3,>=2 in /usr/local/lib/python3.7/dist-packages (from requests->ckanapi==4.6->basedosdados) (2.1.1)\n",
            "Requirement already satisfied: urllib3<1.27,>=1.21.1 in /usr/local/lib/python3.7/dist-packages (from requests->ckanapi==4.6->basedosdados) (1.24.3)\n",
            "Requirement already satisfied: idna<4,>=2.5 in /usr/local/lib/python3.7/dist-packages (from requests->ckanapi==4.6->basedosdados) (2.10)\n",
            "Requirement already satisfied: oauthlib>=3.0.0 in /usr/local/lib/python3.7/dist-packages (from requests-oauthlib>=0.7.0->google-auth-oauthlib>=0.0.1->pandas-gbq<0.18.0,>=0.17.4->basedosdados) (3.2.1)\n",
            "Requirement already satisfied: jupyterlab-widgets>=1.0.0 in /usr/local/lib/python3.7/dist-packages (from ipywidgets->jupyter<2.0.0,>=1.0.0->basedosdados) (3.0.3)\n",
            "Requirement already satisfied: ipython-genutils~=0.2.0 in /usr/local/lib/python3.7/dist-packages (from ipywidgets->jupyter<2.0.0,>=1.0.0->basedosdados) (0.2.0)\n",
            "Requirement already satisfied: widgetsnbextension~=3.6.0 in /usr/local/lib/python3.7/dist-packages (from ipywidgets->jupyter<2.0.0,>=1.0.0->basedosdados) (3.6.1)\n",
            "Requirement already satisfied: terminado>=0.8.1 in /usr/local/lib/python3.7/dist-packages (from notebook->jupyter<2.0.0,>=1.0.0->basedosdados) (0.13.3)\n",
            "Requirement already satisfied: pyzmq>=17 in /usr/local/lib/python3.7/dist-packages (from notebook->jupyter<2.0.0,>=1.0.0->basedosdados) (23.2.1)\n",
            "Requirement already satisfied: Send2Trash in /usr/local/lib/python3.7/dist-packages (from notebook->jupyter<2.0.0,>=1.0.0->basedosdados) (1.8.0)\n",
            "Requirement already satisfied: nbformat in /usr/local/lib/python3.7/dist-packages (from notebook->jupyter<2.0.0,>=1.0.0->basedosdados) (5.7.0)\n",
            "Requirement already satisfied: jupyter-core>=4.4.0 in /usr/local/lib/python3.7/dist-packages (from notebook->jupyter<2.0.0,>=1.0.0->basedosdados) (4.11.1)\n",
            "Requirement already satisfied: ptyprocess in /usr/local/lib/python3.7/dist-packages (from terminado>=0.8.1->notebook->jupyter<2.0.0,>=1.0.0->basedosdados) (0.7.0)\n",
            "Requirement already satisfied: pandocfilters>=1.4.1 in /usr/local/lib/python3.7/dist-packages (from nbconvert->jupyter<2.0.0,>=1.0.0->basedosdados) (1.5.0)\n",
            "Requirement already satisfied: entrypoints>=0.2.2 in /usr/local/lib/python3.7/dist-packages (from nbconvert->jupyter<2.0.0,>=1.0.0->basedosdados) (0.4)\n",
            "Requirement already satisfied: testpath in /usr/local/lib/python3.7/dist-packages (from nbconvert->jupyter<2.0.0,>=1.0.0->basedosdados) (0.6.0)\n",
            "Requirement already satisfied: mistune<2,>=0.8.1 in /usr/local/lib/python3.7/dist-packages (from nbconvert->jupyter<2.0.0,>=1.0.0->basedosdados) (0.8.4)\n",
            "Requirement already satisfied: defusedxml in /usr/local/lib/python3.7/dist-packages (from nbconvert->jupyter<2.0.0,>=1.0.0->basedosdados) (0.7.1)\n",
            "Requirement already satisfied: bleach in /usr/local/lib/python3.7/dist-packages (from nbconvert->jupyter<2.0.0,>=1.0.0->basedosdados) (5.0.1)\n",
            "Requirement already satisfied: fastjsonschema in /usr/local/lib/python3.7/dist-packages (from nbformat->notebook->jupyter<2.0.0,>=1.0.0->basedosdados) (2.16.2)\n",
            "Requirement already satisfied: jsonschema>=2.6 in /usr/local/lib/python3.7/dist-packages (from nbformat->notebook->jupyter<2.0.0,>=1.0.0->basedosdados) (4.3.3)\n",
            "Requirement already satisfied: importlib-resources>=1.4.0 in /usr/local/lib/python3.7/dist-packages (from jsonschema>=2.6->nbformat->notebook->jupyter<2.0.0,>=1.0.0->basedosdados) (5.10.0)\n",
            "Requirement already satisfied: pyrsistent!=0.17.0,!=0.17.1,!=0.17.2,>=0.14.0 in /usr/local/lib/python3.7/dist-packages (from jsonschema>=2.6->nbformat->notebook->jupyter<2.0.0,>=1.0.0->basedosdados) (0.18.1)\n",
            "Requirement already satisfied: webencodings in /usr/local/lib/python3.7/dist-packages (from bleach->nbconvert->jupyter<2.0.0,>=1.0.0->basedosdados) (0.5.1)\n",
            "Collecting qtpy>=2.0.1\n",
            "  Downloading QtPy-2.2.1-py3-none-any.whl (82 kB)\n",
            "\u001b[K     |████████████████████████████████| 82 kB 984 kB/s \n",
            "\u001b[?25hBuilding wheels for collected packages: black, ckanapi, pandavro, docopt\n",
            "  Building wheel for black (PEP 517) ... \u001b[?25l\u001b[?25hdone\n",
            "  Created wheel for black: filename=black-20.8b1-py3-none-any.whl size=124195 sha256=b170a6a3772403731baf02f1221ac7e630c09a0e72088200d9cf6b7dbf0cfe59\n",
            "  Stored in directory: /root/.cache/pip/wheels/c5/85/79/f3af8daaf8037c0bf14beb3b7a1511a39b6e6902ca2aaf494e\n",
            "  Building wheel for ckanapi (setup.py) ... \u001b[?25l\u001b[?25hdone\n",
            "  Created wheel for ckanapi: filename=ckanapi-4.6-py3-none-any.whl size=40703 sha256=24fd4411b489f06fbf4486e14694eb28357e62585ad8f6ea8e7742caa02d914a\n",
            "  Stored in directory: /root/.cache/pip/wheels/0f/f5/46/360296ef0079076b23d9dbcff2e09ad295d91d4919bd47c016\n",
            "  Building wheel for pandavro (setup.py) ... \u001b[?25l\u001b[?25hdone\n",
            "  Created wheel for pandavro: filename=pandavro-1.7.1-py3-none-any.whl size=5689 sha256=f051d4ffbc5bf65979433843a38dc5659396eef5fd7d2f74084605aabf9d5c1a\n",
            "  Stored in directory: /root/.cache/pip/wheels/cf/dc/a2/f6ecb1c372207d6d233229e9de27e95307411ebab75b19db64\n",
            "  Building wheel for docopt (setup.py) ... \u001b[?25l\u001b[?25hdone\n",
            "  Created wheel for docopt: filename=docopt-0.6.2-py2.py3-none-any.whl size=13723 sha256=218ceeeff33171041d6eb1fec33e741aba9183092b3e7d9b2facbc0b42cd1a11\n",
            "  Stored in directory: /root/.cache/pip/wheels/72/b0/3f/1d95f96ff986c7dfffe46ce2be4062f38ebd04b506c77c81b9\n",
            "Successfully built black ckanapi pandavro docopt\n",
            "Installing collected packages: pygments, protobuf, Jinja2, requests, watchdog, pyyaml-env-tag, mergedeep, markdown, google-crc32c, ghp-import, click, qtpy, pytkdocs, pyarrow, proto-plus, pandas, mkdocs, google-resumable-media, google-cloud-core, typed-ast, ruamel.yaml.clib, qtconsole, pymdown-extensions, pluggy, pathspec, mypy-extensions, mkdocstrings-python-legacy, mkdocs-material-extensions, mkdocs-autorefs, iniconfig, google-cloud-bigquery-storage, google-cloud-bigquery, fastavro, docopt, db-dtypes, tqdm, tomlkit, ruamel.yaml, pytest, pyaml, pandavro, pandas-gbq, mkdocstrings, mkdocs-material, mkdocs-click, loguru, jupyter, google-cloud-storage, ckanapi, black, basedosdados\n",
            "  Attempting uninstall: pygments\n",
            "    Found existing installation: Pygments 2.6.1\n",
            "    Uninstalling Pygments-2.6.1:\n",
            "      Successfully uninstalled Pygments-2.6.1\n",
            "  Attempting uninstall: protobuf\n",
            "    Found existing installation: protobuf 3.17.3\n",
            "    Uninstalling protobuf-3.17.3:\n",
            "      Successfully uninstalled protobuf-3.17.3\n",
            "  Attempting uninstall: Jinja2\n",
            "    Found existing installation: Jinja2 2.11.3\n",
            "    Uninstalling Jinja2-2.11.3:\n",
            "      Successfully uninstalled Jinja2-2.11.3\n",
            "  Attempting uninstall: requests\n",
            "    Found existing installation: requests 2.23.0\n",
            "    Uninstalling requests-2.23.0:\n",
            "      Successfully uninstalled requests-2.23.0\n",
            "  Attempting uninstall: markdown\n",
            "    Found existing installation: Markdown 3.4.1\n",
            "    Uninstalling Markdown-3.4.1:\n",
            "      Successfully uninstalled Markdown-3.4.1\n",
            "  Attempting uninstall: click\n",
            "    Found existing installation: click 7.1.2\n",
            "    Uninstalling click-7.1.2:\n",
            "      Successfully uninstalled click-7.1.2\n",
            "  Attempting uninstall: pyarrow\n",
            "    Found existing installation: pyarrow 6.0.1\n",
            "    Uninstalling pyarrow-6.0.1:\n",
            "      Successfully uninstalled pyarrow-6.0.1\n",
            "  Attempting uninstall: pandas\n",
            "    Found existing installation: pandas 1.3.5\n",
            "    Uninstalling pandas-1.3.5:\n",
            "      Successfully uninstalled pandas-1.3.5\n",
            "  Attempting uninstall: google-resumable-media\n",
            "    Found existing installation: google-resumable-media 0.4.1\n",
            "    Uninstalling google-resumable-media-0.4.1:\n",
            "      Successfully uninstalled google-resumable-media-0.4.1\n",
            "  Attempting uninstall: google-cloud-core\n",
            "    Found existing installation: google-cloud-core 1.0.3\n",
            "    Uninstalling google-cloud-core-1.0.3:\n",
            "      Successfully uninstalled google-cloud-core-1.0.3\n",
            "  Attempting uninstall: pluggy\n",
            "    Found existing installation: pluggy 0.7.1\n",
            "    Uninstalling pluggy-0.7.1:\n",
            "      Successfully uninstalled pluggy-0.7.1\n",
            "  Attempting uninstall: google-cloud-bigquery-storage\n",
            "    Found existing installation: google-cloud-bigquery-storage 1.1.2\n",
            "    Uninstalling google-cloud-bigquery-storage-1.1.2:\n",
            "      Successfully uninstalled google-cloud-bigquery-storage-1.1.2\n",
            "  Attempting uninstall: google-cloud-bigquery\n",
            "    Found existing installation: google-cloud-bigquery 1.21.0\n",
            "    Uninstalling google-cloud-bigquery-1.21.0:\n",
            "      Successfully uninstalled google-cloud-bigquery-1.21.0\n",
            "  Attempting uninstall: tqdm\n",
            "    Found existing installation: tqdm 4.64.1\n",
            "    Uninstalling tqdm-4.64.1:\n",
            "      Successfully uninstalled tqdm-4.64.1\n",
            "  Attempting uninstall: pytest\n",
            "    Found existing installation: pytest 3.6.4\n",
            "    Uninstalling pytest-3.6.4:\n",
            "      Successfully uninstalled pytest-3.6.4\n",
            "  Attempting uninstall: pandas-gbq\n",
            "    Found existing installation: pandas-gbq 0.13.3\n",
            "    Uninstalling pandas-gbq-0.13.3:\n",
            "      Successfully uninstalled pandas-gbq-0.13.3\n",
            "  Attempting uninstall: google-cloud-storage\n",
            "    Found existing installation: google-cloud-storage 1.18.1\n",
            "    Uninstalling google-cloud-storage-1.18.1:\n",
            "      Successfully uninstalled google-cloud-storage-1.18.1\n",
            "\u001b[31mERROR: pip's dependency resolver does not currently take into account all the packages that are installed. This behaviour is the source of the following dependency conflicts.\n",
            "tensorflow 2.9.2 requires protobuf<3.20,>=3.9.2, but you have protobuf 3.20.3 which is incompatible.\n",
            "tensorboard 2.9.1 requires protobuf<3.20,>=3.9.2, but you have protobuf 3.20.3 which is incompatible.\n",
            "google-cloud-translate 1.5.0 requires google-cloud-core<2.0dev,>=1.0.0, but you have google-cloud-core 2.3.2 which is incompatible.\n",
            "google-cloud-firestore 1.7.0 requires google-cloud-core<2.0dev,>=1.0.3, but you have google-cloud-core 2.3.2 which is incompatible.\n",
            "google-cloud-datastore 1.8.0 requires google-cloud-core<2.0dev,>=1.0.0, but you have google-cloud-core 2.3.2 which is incompatible.\n",
            "flask 1.1.4 requires click<8.0,>=5.1, but you have click 8.0.3 which is incompatible.\n",
            "flask 1.1.4 requires Jinja2<3.0,>=2.10.1, but you have jinja2 3.0.3 which is incompatible.\u001b[0m\n",
            "Successfully installed Jinja2-3.0.3 basedosdados-1.6.8 black-20.8b1 ckanapi-4.6 click-8.0.3 db-dtypes-1.0.4 docopt-0.6.2 fastavro-1.5.1 ghp-import-2.1.0 google-cloud-bigquery-2.30.1 google-cloud-bigquery-storage-1.1.0 google-cloud-core-2.3.2 google-cloud-storage-1.42.3 google-crc32c-1.5.0 google-resumable-media-2.4.0 iniconfig-1.1.1 jupyter-1.0.0 loguru-0.6.0 markdown-3.3.7 mergedeep-1.3.4 mkdocs-1.4.1 mkdocs-autorefs-0.4.1 mkdocs-click-0.5.0 mkdocs-material-8.5.6 mkdocs-material-extensions-1.0.3 mkdocstrings-0.18.1 mkdocstrings-python-legacy-0.2.2 mypy-extensions-0.4.3 pandas-1.2.4 pandas-gbq-0.17.9 pandavro-1.7.1 pathspec-0.10.1 pluggy-0.13.1 proto-plus-1.22.1 protobuf-3.20.3 pyaml-20.4.0 pyarrow-6.0.0 pygments-2.13.0 pymdown-extensions-9.6 pytest-6.0.2 pytkdocs-0.16.1 pyyaml-env-tag-0.1 qtconsole-5.3.2 qtpy-2.2.1 requests-2.28.1 ruamel.yaml-0.17.10 ruamel.yaml.clib-0.2.6 tomlkit-0.7.0 tqdm-4.50.2 typed-ast-1.5.4 watchdog-2.1.9\n"
          ]
        },
        {
          "output_type": "display_data",
          "data": {
            "application/vnd.colab-display-data+json": {
              "pip_warning": {
                "packages": [
                  "google",
                  "pygments"
                ]
              }
            }
          },
          "metadata": {}
        },
        {
          "output_type": "stream",
          "name": "stdout",
          "text": [
            "Looking in indexes: https://pypi.org/simple, https://us-python.pkg.dev/colab-wheels/public/simple/\n",
            "Requirement already satisfied: matplotlib in /usr/local/lib/python3.7/dist-packages (3.2.2)\n",
            "Requirement already satisfied: kiwisolver>=1.0.1 in /usr/local/lib/python3.7/dist-packages (from matplotlib) (1.4.4)\n",
            "Requirement already satisfied: pyparsing!=2.0.4,!=2.1.2,!=2.1.6,>=2.0.1 in /usr/local/lib/python3.7/dist-packages (from matplotlib) (3.0.9)\n",
            "Requirement already satisfied: python-dateutil>=2.1 in /usr/local/lib/python3.7/dist-packages (from matplotlib) (2.8.2)\n",
            "Requirement already satisfied: numpy>=1.11 in /usr/local/lib/python3.7/dist-packages (from matplotlib) (1.21.6)\n",
            "Requirement already satisfied: cycler>=0.10 in /usr/local/lib/python3.7/dist-packages (from matplotlib) (0.11.0)\n",
            "Requirement already satisfied: typing-extensions in /usr/local/lib/python3.7/dist-packages (from kiwisolver>=1.0.1->matplotlib) (4.1.1)\n",
            "Requirement already satisfied: six>=1.5 in /usr/local/lib/python3.7/dist-packages (from python-dateutil>=2.1->matplotlib) (1.15.0)\n",
            "Looking in indexes: https://pypi.org/simple, https://us-python.pkg.dev/colab-wheels/public/simple/\n",
            "Requirement already satisfied: pandas in /usr/local/lib/python3.7/dist-packages (1.2.4)\n",
            "Requirement already satisfied: python-dateutil>=2.7.3 in /usr/local/lib/python3.7/dist-packages (from pandas) (2.8.2)\n",
            "Requirement already satisfied: pytz>=2017.3 in /usr/local/lib/python3.7/dist-packages (from pandas) (2022.4)\n",
            "Requirement already satisfied: numpy>=1.16.5 in /usr/local/lib/python3.7/dist-packages (from pandas) (1.21.6)\n",
            "Requirement already satisfied: six>=1.5 in /usr/local/lib/python3.7/dist-packages (from python-dateutil>=2.7.3->pandas) (1.15.0)\n"
          ]
        }
      ]
    },
    {
      "cell_type": "code",
      "source": [
        "#imports\n",
        "import pandas as pd\n",
        "from IPython.display import display\n",
        "import matplotlib.pyplot as plt\n",
        "import numpy as np\n",
        "import seaborn as sns\n",
        "import statsmodels.api as sm"
      ],
      "metadata": {
        "id": "dBCPO4MET3wG"
      },
      "execution_count": 4,
      "outputs": []
    },
    {
      "cell_type": "markdown",
      "source": [
        "# Trabalho\n"
      ],
      "metadata": {
        "id": "e5nXiXbnUQqS"
      }
    },
    {
      "cell_type": "code",
      "source": [
        "baixarBanco = True"
      ],
      "metadata": {
        "id": "DmyUlQhsivPA"
      },
      "execution_count": 5,
      "outputs": []
    },
    {
      "cell_type": "code",
      "source": [
        "\n",
        "if baixarBanco:\n",
        "  import basedosdados as bd\n",
        "  # Para carregar o dado direto no pandas\n",
        "  df = bd.read_table(dataset_id='br_cgu_pessoal_executivo_federal',\n",
        "  table_id='terceirizados',\n",
        "  billing_project_id=\"emprego-287823\")\n",
        "  display(df)\n",
        "  df.to_excel('terceirizados.xlsx',sheet_name='Terceirizados')\n",
        "else:\n",
        "  df = pd.read_excel('terceirizados.xlsx')"
      ],
      "metadata": {
        "id": "7tDNuxwWUT3_",
        "colab": {
          "base_uri": "https://localhost:8080/",
          "height": 520
        },
        "outputId": "17cae8b3-da87-4308-a824-1e5b4781c193"
      },
      "execution_count": 6,
      "outputs": [
        {
          "output_type": "error",
          "ename": "FileNotFoundError",
          "evalue": "ignored",
          "traceback": [
            "\u001b[0;31m---------------------------------------------------------------------------\u001b[0m",
            "\u001b[0;31mAttributeError\u001b[0m                            Traceback (most recent call last)",
            "\u001b[0;32m/usr/local/lib/python3.7/dist-packages/pkg_resources/__init__.py\u001b[0m in \u001b[0;36m_dep_map\u001b[0;34m(self)\u001b[0m\n\u001b[1;32m   3015\u001b[0m         \u001b[0;32mtry\u001b[0m\u001b[0;34m:\u001b[0m\u001b[0;34m\u001b[0m\u001b[0;34m\u001b[0m\u001b[0m\n\u001b[0;32m-> 3016\u001b[0;31m             \u001b[0;32mreturn\u001b[0m \u001b[0mself\u001b[0m\u001b[0;34m.\u001b[0m\u001b[0m__dep_map\u001b[0m\u001b[0;34m\u001b[0m\u001b[0;34m\u001b[0m\u001b[0m\n\u001b[0m\u001b[1;32m   3017\u001b[0m         \u001b[0;32mexcept\u001b[0m \u001b[0mAttributeError\u001b[0m\u001b[0;34m:\u001b[0m\u001b[0;34m\u001b[0m\u001b[0;34m\u001b[0m\u001b[0m\n",
            "\u001b[0;32m/usr/local/lib/python3.7/dist-packages/pkg_resources/__init__.py\u001b[0m in \u001b[0;36m__getattr__\u001b[0;34m(self, attr)\u001b[0m\n\u001b[1;32m   2812\u001b[0m         \u001b[0;32mif\u001b[0m \u001b[0mattr\u001b[0m\u001b[0;34m.\u001b[0m\u001b[0mstartswith\u001b[0m\u001b[0;34m(\u001b[0m\u001b[0;34m'_'\u001b[0m\u001b[0;34m)\u001b[0m\u001b[0;34m:\u001b[0m\u001b[0;34m\u001b[0m\u001b[0;34m\u001b[0m\u001b[0m\n\u001b[0;32m-> 2813\u001b[0;31m             \u001b[0;32mraise\u001b[0m \u001b[0mAttributeError\u001b[0m\u001b[0;34m(\u001b[0m\u001b[0mattr\u001b[0m\u001b[0;34m)\u001b[0m\u001b[0;34m\u001b[0m\u001b[0;34m\u001b[0m\u001b[0m\n\u001b[0m\u001b[1;32m   2814\u001b[0m         \u001b[0;32mreturn\u001b[0m \u001b[0mgetattr\u001b[0m\u001b[0;34m(\u001b[0m\u001b[0mself\u001b[0m\u001b[0;34m.\u001b[0m\u001b[0m_provider\u001b[0m\u001b[0;34m,\u001b[0m \u001b[0mattr\u001b[0m\u001b[0;34m)\u001b[0m\u001b[0;34m\u001b[0m\u001b[0;34m\u001b[0m\u001b[0m\n",
            "\u001b[0;31mAttributeError\u001b[0m: _DistInfoDistribution__dep_map",
            "\nDuring handling of the above exception, another exception occurred:\n",
            "\u001b[0;31mAttributeError\u001b[0m                            Traceback (most recent call last)",
            "\u001b[0;32m/usr/local/lib/python3.7/dist-packages/pkg_resources/__init__.py\u001b[0m in \u001b[0;36m_parsed_pkg_info\u001b[0;34m(self)\u001b[0m\n\u001b[1;32m   3006\u001b[0m         \u001b[0;32mtry\u001b[0m\u001b[0;34m:\u001b[0m\u001b[0;34m\u001b[0m\u001b[0;34m\u001b[0m\u001b[0m\n\u001b[0;32m-> 3007\u001b[0;31m             \u001b[0;32mreturn\u001b[0m \u001b[0mself\u001b[0m\u001b[0;34m.\u001b[0m\u001b[0m_pkg_info\u001b[0m\u001b[0;34m\u001b[0m\u001b[0;34m\u001b[0m\u001b[0m\n\u001b[0m\u001b[1;32m   3008\u001b[0m         \u001b[0;32mexcept\u001b[0m \u001b[0mAttributeError\u001b[0m\u001b[0;34m:\u001b[0m\u001b[0;34m\u001b[0m\u001b[0;34m\u001b[0m\u001b[0m\n",
            "\u001b[0;32m/usr/local/lib/python3.7/dist-packages/pkg_resources/__init__.py\u001b[0m in \u001b[0;36m__getattr__\u001b[0;34m(self, attr)\u001b[0m\n\u001b[1;32m   2812\u001b[0m         \u001b[0;32mif\u001b[0m \u001b[0mattr\u001b[0m\u001b[0;34m.\u001b[0m\u001b[0mstartswith\u001b[0m\u001b[0;34m(\u001b[0m\u001b[0;34m'_'\u001b[0m\u001b[0;34m)\u001b[0m\u001b[0;34m:\u001b[0m\u001b[0;34m\u001b[0m\u001b[0;34m\u001b[0m\u001b[0m\n\u001b[0;32m-> 2813\u001b[0;31m             \u001b[0;32mraise\u001b[0m \u001b[0mAttributeError\u001b[0m\u001b[0;34m(\u001b[0m\u001b[0mattr\u001b[0m\u001b[0;34m)\u001b[0m\u001b[0;34m\u001b[0m\u001b[0;34m\u001b[0m\u001b[0m\n\u001b[0m\u001b[1;32m   2814\u001b[0m         \u001b[0;32mreturn\u001b[0m \u001b[0mgetattr\u001b[0m\u001b[0;34m(\u001b[0m\u001b[0mself\u001b[0m\u001b[0;34m.\u001b[0m\u001b[0m_provider\u001b[0m\u001b[0;34m,\u001b[0m \u001b[0mattr\u001b[0m\u001b[0;34m)\u001b[0m\u001b[0;34m\u001b[0m\u001b[0;34m\u001b[0m\u001b[0m\n",
            "\u001b[0;31mAttributeError\u001b[0m: _pkg_info",
            "\nDuring handling of the above exception, another exception occurred:\n",
            "\u001b[0;31mFileNotFoundError\u001b[0m                         Traceback (most recent call last)",
            "\u001b[0;32m<ipython-input-6-a17e23d21335>\u001b[0m in \u001b[0;36m<module>\u001b[0;34m\u001b[0m\n\u001b[1;32m      1\u001b[0m \u001b[0;32mif\u001b[0m \u001b[0mbaixarBanco\u001b[0m\u001b[0;34m:\u001b[0m\u001b[0;34m\u001b[0m\u001b[0;34m\u001b[0m\u001b[0m\n\u001b[0;32m----> 2\u001b[0;31m   \u001b[0;32mimport\u001b[0m \u001b[0mbasedosdados\u001b[0m \u001b[0;32mas\u001b[0m \u001b[0mbd\u001b[0m\u001b[0;34m\u001b[0m\u001b[0;34m\u001b[0m\u001b[0m\n\u001b[0m\u001b[1;32m      3\u001b[0m   \u001b[0;31m# Para carregar o dado direto no pandas\u001b[0m\u001b[0;34m\u001b[0m\u001b[0;34m\u001b[0m\u001b[0;34m\u001b[0m\u001b[0m\n\u001b[1;32m      4\u001b[0m   df = bd.read_table(dataset_id='br_cgu_pessoal_executivo_federal',\n\u001b[1;32m      5\u001b[0m   \u001b[0mtable_id\u001b[0m\u001b[0;34m=\u001b[0m\u001b[0;34m'terceirizados'\u001b[0m\u001b[0;34m,\u001b[0m\u001b[0;34m\u001b[0m\u001b[0;34m\u001b[0m\u001b[0m\n",
            "\u001b[0;32m/usr/local/lib/python3.7/dist-packages/basedosdados/__init__.py\u001b[0m in \u001b[0;36m<module>\u001b[0;34m\u001b[0m\n\u001b[1;32m     12\u001b[0m \u001b[0;34m\u001b[0m\u001b[0m\n\u001b[1;32m     13\u001b[0m \u001b[0;32mfrom\u001b[0m \u001b[0mbasedosdados\u001b[0m\u001b[0;34m.\u001b[0m\u001b[0mconstants\u001b[0m \u001b[0;32mimport\u001b[0m \u001b[0mconstants\u001b[0m\u001b[0;34m,\u001b[0m \u001b[0mconfig\u001b[0m\u001b[0;34m\u001b[0m\u001b[0;34m\u001b[0m\u001b[0m\n\u001b[0;32m---> 14\u001b[0;31m \u001b[0;32mfrom\u001b[0m \u001b[0mbasedosdados\u001b[0m\u001b[0;34m.\u001b[0m\u001b[0mupload\u001b[0m\u001b[0;34m.\u001b[0m\u001b[0mdataset\u001b[0m \u001b[0;32mimport\u001b[0m \u001b[0mDataset\u001b[0m\u001b[0;34m\u001b[0m\u001b[0;34m\u001b[0m\u001b[0m\n\u001b[0m\u001b[1;32m     15\u001b[0m \u001b[0;32mfrom\u001b[0m \u001b[0mbasedosdados\u001b[0m\u001b[0;34m.\u001b[0m\u001b[0mupload\u001b[0m\u001b[0;34m.\u001b[0m\u001b[0mstorage\u001b[0m \u001b[0;32mimport\u001b[0m \u001b[0mStorage\u001b[0m\u001b[0;34m\u001b[0m\u001b[0;34m\u001b[0m\u001b[0m\n\u001b[1;32m     16\u001b[0m \u001b[0;32mfrom\u001b[0m \u001b[0mbasedosdados\u001b[0m\u001b[0;34m.\u001b[0m\u001b[0mupload\u001b[0m\u001b[0;34m.\u001b[0m\u001b[0mtable\u001b[0m \u001b[0;32mimport\u001b[0m \u001b[0mTable\u001b[0m\u001b[0;34m\u001b[0m\u001b[0;34m\u001b[0m\u001b[0m\n",
            "\u001b[0;32m/usr/local/lib/python3.7/dist-packages/basedosdados/upload/dataset.py\u001b[0m in \u001b[0;36m<module>\u001b[0;34m\u001b[0m\n\u001b[1;32m     10\u001b[0m \u001b[0;34m\u001b[0m\u001b[0m\n\u001b[1;32m     11\u001b[0m \u001b[0;32mfrom\u001b[0m \u001b[0mbasedosdados\u001b[0m\u001b[0;34m.\u001b[0m\u001b[0mupload\u001b[0m\u001b[0;34m.\u001b[0m\u001b[0mbase\u001b[0m \u001b[0;32mimport\u001b[0m \u001b[0mBase\u001b[0m\u001b[0;34m\u001b[0m\u001b[0;34m\u001b[0m\u001b[0m\n\u001b[0;32m---> 12\u001b[0;31m \u001b[0;32mfrom\u001b[0m \u001b[0mbasedosdados\u001b[0m\u001b[0;34m.\u001b[0m\u001b[0mupload\u001b[0m\u001b[0;34m.\u001b[0m\u001b[0mmetadata\u001b[0m \u001b[0;32mimport\u001b[0m \u001b[0mMetadata\u001b[0m\u001b[0;34m\u001b[0m\u001b[0;34m\u001b[0m\u001b[0m\n\u001b[0m\u001b[1;32m     13\u001b[0m \u001b[0;34m\u001b[0m\u001b[0m\n\u001b[1;32m     14\u001b[0m \u001b[0;34m\u001b[0m\u001b[0m\n",
            "\u001b[0;32m/usr/local/lib/python3.7/dist-packages/basedosdados/upload/metadata.py\u001b[0m in \u001b[0;36m<module>\u001b[0;34m\u001b[0m\n\u001b[1;32m     13\u001b[0m \u001b[0;32mfrom\u001b[0m \u001b[0mbasedosdados\u001b[0m\u001b[0;34m.\u001b[0m\u001b[0mexceptions\u001b[0m \u001b[0;32mimport\u001b[0m \u001b[0mBaseDosDadosException\u001b[0m\u001b[0;34m\u001b[0m\u001b[0;34m\u001b[0m\u001b[0m\n\u001b[1;32m     14\u001b[0m \u001b[0;32mfrom\u001b[0m \u001b[0mbasedosdados\u001b[0m\u001b[0;34m.\u001b[0m\u001b[0mupload\u001b[0m\u001b[0;34m.\u001b[0m\u001b[0mbase\u001b[0m \u001b[0;32mimport\u001b[0m \u001b[0mBase\u001b[0m\u001b[0;34m\u001b[0m\u001b[0;34m\u001b[0m\u001b[0m\n\u001b[0;32m---> 15\u001b[0;31m \u001b[0;32mfrom\u001b[0m \u001b[0mckanapi\u001b[0m \u001b[0;32mimport\u001b[0m \u001b[0mRemoteCKAN\u001b[0m\u001b[0;34m\u001b[0m\u001b[0;34m\u001b[0m\u001b[0m\n\u001b[0m\u001b[1;32m     16\u001b[0m \u001b[0;32mfrom\u001b[0m \u001b[0mckanapi\u001b[0m\u001b[0;34m.\u001b[0m\u001b[0merrors\u001b[0m \u001b[0;32mimport\u001b[0m \u001b[0mNotAuthorized\u001b[0m\u001b[0;34m,\u001b[0m \u001b[0mValidationError\u001b[0m\u001b[0;34m\u001b[0m\u001b[0;34m\u001b[0m\u001b[0m\n\u001b[1;32m     17\u001b[0m \u001b[0;32mfrom\u001b[0m \u001b[0mruamel\u001b[0m\u001b[0;34m.\u001b[0m\u001b[0myaml\u001b[0m\u001b[0;34m.\u001b[0m\u001b[0mcomments\u001b[0m \u001b[0;32mimport\u001b[0m \u001b[0mCommentedMap\u001b[0m\u001b[0;34m\u001b[0m\u001b[0;34m\u001b[0m\u001b[0m\n",
            "\u001b[0;32m/usr/local/lib/python3.7/dist-packages/ckanapi/__init__.py\u001b[0m in \u001b[0;36m<module>\u001b[0;34m\u001b[0m\n\u001b[1;32m     17\u001b[0m     )\n\u001b[1;32m     18\u001b[0m \u001b[0;32mfrom\u001b[0m \u001b[0mckanapi\u001b[0m\u001b[0;34m.\u001b[0m\u001b[0mlocalckan\u001b[0m \u001b[0;32mimport\u001b[0m \u001b[0mLocalCKAN\u001b[0m\u001b[0;34m\u001b[0m\u001b[0;34m\u001b[0m\u001b[0m\n\u001b[0;32m---> 19\u001b[0;31m \u001b[0;32mfrom\u001b[0m \u001b[0mckanapi\u001b[0m\u001b[0;34m.\u001b[0m\u001b[0mremoteckan\u001b[0m \u001b[0;32mimport\u001b[0m \u001b[0mRemoteCKAN\u001b[0m\u001b[0;34m\u001b[0m\u001b[0;34m\u001b[0m\u001b[0m\n\u001b[0m\u001b[1;32m     20\u001b[0m \u001b[0;32mfrom\u001b[0m \u001b[0mckanapi\u001b[0m\u001b[0;34m.\u001b[0m\u001b[0mtestappckan\u001b[0m \u001b[0;32mimport\u001b[0m \u001b[0mTestAppCKAN\u001b[0m\u001b[0;34m\u001b[0m\u001b[0;34m\u001b[0m\u001b[0m\n\u001b[1;32m     21\u001b[0m \u001b[0;34m\u001b[0m\u001b[0m\n",
            "\u001b[0;32m/usr/local/lib/python3.7/dist-packages/ckanapi/remoteckan.py\u001b[0m in \u001b[0;36m<module>\u001b[0;34m\u001b[0m\n\u001b[1;32m      9\u001b[0m from ckanapi.common import (ActionShortcut, prepare_action,\n\u001b[1;32m     10\u001b[0m     reverse_apicontroller_action)\n\u001b[0;32m---> 11\u001b[0;31m \u001b[0;32mfrom\u001b[0m \u001b[0mckanapi\u001b[0m\u001b[0;34m.\u001b[0m\u001b[0mversion\u001b[0m \u001b[0;32mimport\u001b[0m \u001b[0m__version__\u001b[0m\u001b[0;34m\u001b[0m\u001b[0;34m\u001b[0m\u001b[0m\n\u001b[0m\u001b[1;32m     12\u001b[0m \u001b[0;32mimport\u001b[0m \u001b[0mos\u001b[0m\u001b[0;34m\u001b[0m\u001b[0;34m\u001b[0m\u001b[0m\n\u001b[1;32m     13\u001b[0m \u001b[0;34m\u001b[0m\u001b[0m\n",
            "\u001b[0;32m/usr/local/lib/python3.7/dist-packages/ckanapi/version.py\u001b[0m in \u001b[0;36m<module>\u001b[0;34m\u001b[0m\n\u001b[1;32m      1\u001b[0m \u001b[0;32mimport\u001b[0m \u001b[0mpkg_resources\u001b[0m\u001b[0;34m\u001b[0m\u001b[0;34m\u001b[0m\u001b[0m\n\u001b[1;32m      2\u001b[0m \u001b[0;34m\u001b[0m\u001b[0m\n\u001b[0;32m----> 3\u001b[0;31m \u001b[0m__version__\u001b[0m \u001b[0;34m=\u001b[0m \u001b[0mpkg_resources\u001b[0m\u001b[0;34m.\u001b[0m\u001b[0mrequire\u001b[0m\u001b[0;34m(\u001b[0m\u001b[0;34m\"ckanapi\"\u001b[0m\u001b[0;34m)\u001b[0m\u001b[0;34m[\u001b[0m\u001b[0;36m0\u001b[0m\u001b[0;34m]\u001b[0m\u001b[0;34m.\u001b[0m\u001b[0mversion\u001b[0m\u001b[0;34m\u001b[0m\u001b[0;34m\u001b[0m\u001b[0m\n\u001b[0m\u001b[1;32m      4\u001b[0m \u001b[0;34m\u001b[0m\u001b[0m\n\u001b[1;32m      5\u001b[0m \u001b[0;34m\u001b[0m\u001b[0m\n",
            "\u001b[0;32m/usr/local/lib/python3.7/dist-packages/pkg_resources/__init__.py\u001b[0m in \u001b[0;36mrequire\u001b[0;34m(self, *requirements)\u001b[0m\n\u001b[1;32m    884\u001b[0m         \u001b[0mincluded\u001b[0m\u001b[0;34m,\u001b[0m \u001b[0meven\u001b[0m \u001b[0;32mif\u001b[0m \u001b[0mthey\u001b[0m \u001b[0mwere\u001b[0m \u001b[0malready\u001b[0m \u001b[0mactivated\u001b[0m \u001b[0;32min\u001b[0m \u001b[0mthis\u001b[0m \u001b[0mworking\u001b[0m \u001b[0mset\u001b[0m\u001b[0;34m.\u001b[0m\u001b[0;34m\u001b[0m\u001b[0;34m\u001b[0m\u001b[0m\n\u001b[1;32m    885\u001b[0m         \"\"\"\n\u001b[0;32m--> 886\u001b[0;31m         \u001b[0mneeded\u001b[0m \u001b[0;34m=\u001b[0m \u001b[0mself\u001b[0m\u001b[0;34m.\u001b[0m\u001b[0mresolve\u001b[0m\u001b[0;34m(\u001b[0m\u001b[0mparse_requirements\u001b[0m\u001b[0;34m(\u001b[0m\u001b[0mrequirements\u001b[0m\u001b[0;34m)\u001b[0m\u001b[0;34m)\u001b[0m\u001b[0;34m\u001b[0m\u001b[0;34m\u001b[0m\u001b[0m\n\u001b[0m\u001b[1;32m    887\u001b[0m \u001b[0;34m\u001b[0m\u001b[0m\n\u001b[1;32m    888\u001b[0m         \u001b[0;32mfor\u001b[0m \u001b[0mdist\u001b[0m \u001b[0;32min\u001b[0m \u001b[0mneeded\u001b[0m\u001b[0;34m:\u001b[0m\u001b[0;34m\u001b[0m\u001b[0;34m\u001b[0m\u001b[0m\n",
            "\u001b[0;32m/usr/local/lib/python3.7/dist-packages/pkg_resources/__init__.py\u001b[0m in \u001b[0;36mresolve\u001b[0;34m(self, requirements, env, installer, replace_conflicting, extras)\u001b[0m\n\u001b[1;32m    778\u001b[0m \u001b[0;34m\u001b[0m\u001b[0m\n\u001b[1;32m    779\u001b[0m             \u001b[0;31m# push the new requirements onto the stack\u001b[0m\u001b[0;34m\u001b[0m\u001b[0;34m\u001b[0m\u001b[0;34m\u001b[0m\u001b[0m\n\u001b[0;32m--> 780\u001b[0;31m             \u001b[0mnew_requirements\u001b[0m \u001b[0;34m=\u001b[0m \u001b[0mdist\u001b[0m\u001b[0;34m.\u001b[0m\u001b[0mrequires\u001b[0m\u001b[0;34m(\u001b[0m\u001b[0mreq\u001b[0m\u001b[0;34m.\u001b[0m\u001b[0mextras\u001b[0m\u001b[0;34m)\u001b[0m\u001b[0;34m[\u001b[0m\u001b[0;34m:\u001b[0m\u001b[0;34m:\u001b[0m\u001b[0;34m-\u001b[0m\u001b[0;36m1\u001b[0m\u001b[0;34m]\u001b[0m\u001b[0;34m\u001b[0m\u001b[0;34m\u001b[0m\u001b[0m\n\u001b[0m\u001b[1;32m    781\u001b[0m             \u001b[0mrequirements\u001b[0m\u001b[0;34m.\u001b[0m\u001b[0mextend\u001b[0m\u001b[0;34m(\u001b[0m\u001b[0mnew_requirements\u001b[0m\u001b[0;34m)\u001b[0m\u001b[0;34m\u001b[0m\u001b[0;34m\u001b[0m\u001b[0m\n\u001b[1;32m    782\u001b[0m \u001b[0;34m\u001b[0m\u001b[0m\n",
            "\u001b[0;32m/usr/local/lib/python3.7/dist-packages/pkg_resources/__init__.py\u001b[0m in \u001b[0;36mrequires\u001b[0;34m(self, extras)\u001b[0m\n\u001b[1;32m   2732\u001b[0m     \u001b[0;32mdef\u001b[0m \u001b[0mrequires\u001b[0m\u001b[0;34m(\u001b[0m\u001b[0mself\u001b[0m\u001b[0;34m,\u001b[0m \u001b[0mextras\u001b[0m\u001b[0;34m=\u001b[0m\u001b[0;34m(\u001b[0m\u001b[0;34m)\u001b[0m\u001b[0;34m)\u001b[0m\u001b[0;34m:\u001b[0m\u001b[0;34m\u001b[0m\u001b[0;34m\u001b[0m\u001b[0m\n\u001b[1;32m   2733\u001b[0m         \u001b[0;34m\"\"\"List of Requirements needed for this distro if `extras` are used\"\"\"\u001b[0m\u001b[0;34m\u001b[0m\u001b[0;34m\u001b[0m\u001b[0m\n\u001b[0;32m-> 2734\u001b[0;31m         \u001b[0mdm\u001b[0m \u001b[0;34m=\u001b[0m \u001b[0mself\u001b[0m\u001b[0;34m.\u001b[0m\u001b[0m_dep_map\u001b[0m\u001b[0;34m\u001b[0m\u001b[0;34m\u001b[0m\u001b[0m\n\u001b[0m\u001b[1;32m   2735\u001b[0m         \u001b[0mdeps\u001b[0m \u001b[0;34m=\u001b[0m \u001b[0;34m[\u001b[0m\u001b[0;34m]\u001b[0m\u001b[0;34m\u001b[0m\u001b[0;34m\u001b[0m\u001b[0m\n\u001b[1;32m   2736\u001b[0m         \u001b[0mdeps\u001b[0m\u001b[0;34m.\u001b[0m\u001b[0mextend\u001b[0m\u001b[0;34m(\u001b[0m\u001b[0mdm\u001b[0m\u001b[0;34m.\u001b[0m\u001b[0mget\u001b[0m\u001b[0;34m(\u001b[0m\u001b[0;32mNone\u001b[0m\u001b[0;34m,\u001b[0m \u001b[0;34m(\u001b[0m\u001b[0;34m)\u001b[0m\u001b[0;34m)\u001b[0m\u001b[0;34m)\u001b[0m\u001b[0;34m\u001b[0m\u001b[0;34m\u001b[0m\u001b[0m\n",
            "\u001b[0;32m/usr/local/lib/python3.7/dist-packages/pkg_resources/__init__.py\u001b[0m in \u001b[0;36m_dep_map\u001b[0;34m(self)\u001b[0m\n\u001b[1;32m   3016\u001b[0m             \u001b[0;32mreturn\u001b[0m \u001b[0mself\u001b[0m\u001b[0;34m.\u001b[0m\u001b[0m__dep_map\u001b[0m\u001b[0;34m\u001b[0m\u001b[0;34m\u001b[0m\u001b[0m\n\u001b[1;32m   3017\u001b[0m         \u001b[0;32mexcept\u001b[0m \u001b[0mAttributeError\u001b[0m\u001b[0;34m:\u001b[0m\u001b[0;34m\u001b[0m\u001b[0;34m\u001b[0m\u001b[0m\n\u001b[0;32m-> 3018\u001b[0;31m             \u001b[0mself\u001b[0m\u001b[0;34m.\u001b[0m\u001b[0m__dep_map\u001b[0m \u001b[0;34m=\u001b[0m \u001b[0mself\u001b[0m\u001b[0;34m.\u001b[0m\u001b[0m_compute_dependencies\u001b[0m\u001b[0;34m(\u001b[0m\u001b[0;34m)\u001b[0m\u001b[0;34m\u001b[0m\u001b[0;34m\u001b[0m\u001b[0m\n\u001b[0m\u001b[1;32m   3019\u001b[0m             \u001b[0;32mreturn\u001b[0m \u001b[0mself\u001b[0m\u001b[0;34m.\u001b[0m\u001b[0m__dep_map\u001b[0m\u001b[0;34m\u001b[0m\u001b[0;34m\u001b[0m\u001b[0m\n\u001b[1;32m   3020\u001b[0m \u001b[0;34m\u001b[0m\u001b[0m\n",
            "\u001b[0;32m/usr/local/lib/python3.7/dist-packages/pkg_resources/__init__.py\u001b[0m in \u001b[0;36m_compute_dependencies\u001b[0;34m(self)\u001b[0m\n\u001b[1;32m   3025\u001b[0m         \u001b[0mreqs\u001b[0m \u001b[0;34m=\u001b[0m \u001b[0;34m[\u001b[0m\u001b[0;34m]\u001b[0m\u001b[0;34m\u001b[0m\u001b[0;34m\u001b[0m\u001b[0m\n\u001b[1;32m   3026\u001b[0m         \u001b[0;31m# Including any condition expressions\u001b[0m\u001b[0;34m\u001b[0m\u001b[0;34m\u001b[0m\u001b[0;34m\u001b[0m\u001b[0m\n\u001b[0;32m-> 3027\u001b[0;31m         \u001b[0;32mfor\u001b[0m \u001b[0mreq\u001b[0m \u001b[0;32min\u001b[0m \u001b[0mself\u001b[0m\u001b[0;34m.\u001b[0m\u001b[0m_parsed_pkg_info\u001b[0m\u001b[0;34m.\u001b[0m\u001b[0mget_all\u001b[0m\u001b[0;34m(\u001b[0m\u001b[0;34m'Requires-Dist'\u001b[0m\u001b[0;34m)\u001b[0m \u001b[0;32mor\u001b[0m \u001b[0;34m[\u001b[0m\u001b[0;34m]\u001b[0m\u001b[0;34m:\u001b[0m\u001b[0;34m\u001b[0m\u001b[0;34m\u001b[0m\u001b[0m\n\u001b[0m\u001b[1;32m   3028\u001b[0m             \u001b[0mreqs\u001b[0m\u001b[0;34m.\u001b[0m\u001b[0mextend\u001b[0m\u001b[0;34m(\u001b[0m\u001b[0mparse_requirements\u001b[0m\u001b[0;34m(\u001b[0m\u001b[0mreq\u001b[0m\u001b[0;34m)\u001b[0m\u001b[0;34m)\u001b[0m\u001b[0;34m\u001b[0m\u001b[0;34m\u001b[0m\u001b[0m\n\u001b[1;32m   3029\u001b[0m \u001b[0;34m\u001b[0m\u001b[0m\n",
            "\u001b[0;32m/usr/local/lib/python3.7/dist-packages/pkg_resources/__init__.py\u001b[0m in \u001b[0;36m_parsed_pkg_info\u001b[0;34m(self)\u001b[0m\n\u001b[1;32m   3007\u001b[0m             \u001b[0;32mreturn\u001b[0m \u001b[0mself\u001b[0m\u001b[0;34m.\u001b[0m\u001b[0m_pkg_info\u001b[0m\u001b[0;34m\u001b[0m\u001b[0;34m\u001b[0m\u001b[0m\n\u001b[1;32m   3008\u001b[0m         \u001b[0;32mexcept\u001b[0m \u001b[0mAttributeError\u001b[0m\u001b[0;34m:\u001b[0m\u001b[0;34m\u001b[0m\u001b[0;34m\u001b[0m\u001b[0m\n\u001b[0;32m-> 3009\u001b[0;31m             \u001b[0mmetadata\u001b[0m \u001b[0;34m=\u001b[0m \u001b[0mself\u001b[0m\u001b[0;34m.\u001b[0m\u001b[0mget_metadata\u001b[0m\u001b[0;34m(\u001b[0m\u001b[0mself\u001b[0m\u001b[0;34m.\u001b[0m\u001b[0mPKG_INFO\u001b[0m\u001b[0;34m)\u001b[0m\u001b[0;34m\u001b[0m\u001b[0;34m\u001b[0m\u001b[0m\n\u001b[0m\u001b[1;32m   3010\u001b[0m             \u001b[0mself\u001b[0m\u001b[0;34m.\u001b[0m\u001b[0m_pkg_info\u001b[0m \u001b[0;34m=\u001b[0m \u001b[0memail\u001b[0m\u001b[0;34m.\u001b[0m\u001b[0mparser\u001b[0m\u001b[0;34m.\u001b[0m\u001b[0mParser\u001b[0m\u001b[0;34m(\u001b[0m\u001b[0;34m)\u001b[0m\u001b[0;34m.\u001b[0m\u001b[0mparsestr\u001b[0m\u001b[0;34m(\u001b[0m\u001b[0mmetadata\u001b[0m\u001b[0;34m)\u001b[0m\u001b[0;34m\u001b[0m\u001b[0;34m\u001b[0m\u001b[0m\n\u001b[1;32m   3011\u001b[0m             \u001b[0;32mreturn\u001b[0m \u001b[0mself\u001b[0m\u001b[0;34m.\u001b[0m\u001b[0m_pkg_info\u001b[0m\u001b[0;34m\u001b[0m\u001b[0;34m\u001b[0m\u001b[0m\n",
            "\u001b[0;32m/usr/local/lib/python3.7/dist-packages/pkg_resources/__init__.py\u001b[0m in \u001b[0;36mget_metadata\u001b[0;34m(self, name)\u001b[0m\n\u001b[1;32m   1405\u001b[0m             \u001b[0;32mreturn\u001b[0m \u001b[0;34m\"\"\u001b[0m\u001b[0;34m\u001b[0m\u001b[0;34m\u001b[0m\u001b[0m\n\u001b[1;32m   1406\u001b[0m         \u001b[0mpath\u001b[0m \u001b[0;34m=\u001b[0m \u001b[0mself\u001b[0m\u001b[0;34m.\u001b[0m\u001b[0m_get_metadata_path\u001b[0m\u001b[0;34m(\u001b[0m\u001b[0mname\u001b[0m\u001b[0;34m)\u001b[0m\u001b[0;34m\u001b[0m\u001b[0;34m\u001b[0m\u001b[0m\n\u001b[0;32m-> 1407\u001b[0;31m         \u001b[0mvalue\u001b[0m \u001b[0;34m=\u001b[0m \u001b[0mself\u001b[0m\u001b[0;34m.\u001b[0m\u001b[0m_get\u001b[0m\u001b[0;34m(\u001b[0m\u001b[0mpath\u001b[0m\u001b[0;34m)\u001b[0m\u001b[0;34m\u001b[0m\u001b[0;34m\u001b[0m\u001b[0m\n\u001b[0m\u001b[1;32m   1408\u001b[0m         \u001b[0;32mtry\u001b[0m\u001b[0;34m:\u001b[0m\u001b[0;34m\u001b[0m\u001b[0;34m\u001b[0m\u001b[0m\n\u001b[1;32m   1409\u001b[0m             \u001b[0;32mreturn\u001b[0m \u001b[0mvalue\u001b[0m\u001b[0;34m.\u001b[0m\u001b[0mdecode\u001b[0m\u001b[0;34m(\u001b[0m\u001b[0;34m'utf-8'\u001b[0m\u001b[0;34m)\u001b[0m\u001b[0;34m\u001b[0m\u001b[0;34m\u001b[0m\u001b[0m\n",
            "\u001b[0;32m/usr/local/lib/python3.7/dist-packages/pkg_resources/__init__.py\u001b[0m in \u001b[0;36m_get\u001b[0;34m(self, path)\u001b[0m\n\u001b[1;32m   1609\u001b[0m \u001b[0;34m\u001b[0m\u001b[0m\n\u001b[1;32m   1610\u001b[0m     \u001b[0;32mdef\u001b[0m \u001b[0m_get\u001b[0m\u001b[0;34m(\u001b[0m\u001b[0mself\u001b[0m\u001b[0;34m,\u001b[0m \u001b[0mpath\u001b[0m\u001b[0;34m)\u001b[0m\u001b[0;34m:\u001b[0m\u001b[0;34m\u001b[0m\u001b[0;34m\u001b[0m\u001b[0m\n\u001b[0;32m-> 1611\u001b[0;31m         \u001b[0;32mwith\u001b[0m \u001b[0mopen\u001b[0m\u001b[0;34m(\u001b[0m\u001b[0mpath\u001b[0m\u001b[0;34m,\u001b[0m \u001b[0;34m'rb'\u001b[0m\u001b[0;34m)\u001b[0m \u001b[0;32mas\u001b[0m \u001b[0mstream\u001b[0m\u001b[0;34m:\u001b[0m\u001b[0;34m\u001b[0m\u001b[0;34m\u001b[0m\u001b[0m\n\u001b[0m\u001b[1;32m   1612\u001b[0m             \u001b[0;32mreturn\u001b[0m \u001b[0mstream\u001b[0m\u001b[0;34m.\u001b[0m\u001b[0mread\u001b[0m\u001b[0;34m(\u001b[0m\u001b[0;34m)\u001b[0m\u001b[0;34m\u001b[0m\u001b[0;34m\u001b[0m\u001b[0m\n\u001b[1;32m   1613\u001b[0m \u001b[0;34m\u001b[0m\u001b[0m\n",
            "\u001b[0;31mFileNotFoundError\u001b[0m: [Errno 2] No such file or directory: '/usr/local/lib/python3.7/dist-packages/requests-2.23.0.dist-info/METADATA'"
          ]
        }
      ]
    },
    {
      "cell_type": "markdown",
      "source": [
        "## Recorte"
      ],
      "metadata": {
        "id": "CPleDAoL7LHZ"
      }
    },
    {
      "cell_type": "code",
      "source": [
        "#removendo linhas com células vazias\n",
        "df.dropna(inplace = True)\n",
        "\n",
        "original = df"
      ],
      "metadata": {
        "id": "4OjFqA7DV3zG"
      },
      "execution_count": null,
      "outputs": []
    },
    {
      "cell_type": "code",
      "source": [
        "df = original"
      ],
      "metadata": {
        "id": "Fvq2aJ4YiyMY"
      },
      "execution_count": null,
      "outputs": []
    },
    {
      "cell_type": "code",
      "source": [
        "#selecionando colunas\n",
        "df = df[['ano',\n",
        "   'mes',\n",
        "   'id_terceirizado',\n",
        "   'sigla_orgao_superior_unidade_gestora',\n",
        "   'sigla_unidade_gestora',\n",
        "   'contrato_empresa',\n",
        "   'cnpj_empresa',\n",
        "   'razao_social_empresa',\n",
        "   'nome',\n",
        "   'categoria_profissional',\n",
        "   'nivel_escolaridade',\n",
        "   'quantidade_horas_trabalhadas_semanais',\n",
        "   'unidade_trabalho',\n",
        "   'valor_mensal',\n",
        "   'custo_mensal',\n",
        "   'sigla_orgao_trabalho'\n",
        "   ]]\n",
        "  \n",
        "#display(df)"
      ],
      "metadata": {
        "id": "jTrfAvS56Ihs"
      },
      "execution_count": null,
      "outputs": []
    },
    {
      "cell_type": "code",
      "source": [
        "#padronizando números mensais\n",
        "df['custo_mensal'] = df['custo_mensal'].str.replace(',','.')\n",
        "df['custo_mensal'] = df['custo_mensal'].astype(float)\n",
        "df['custo_mensal'] = df['custo_mensal']*100\n",
        "df['custo_mensal'] = df['custo_mensal'].astype(int)\n",
        "df['custo_mensal'] = df['custo_mensal']/100\n",
        "df['custo_mensal'] = df['custo_mensal'].astype(float)\n",
        "\n",
        "df['valor_mensal'] = df['valor_mensal'].str.replace(',','.')\n",
        "df['valor_mensal'] = df['valor_mensal'].astype(float)\n",
        "df['valor_mensal'] = df['valor_mensal']*100\n",
        "df['valor_mensal'] = df['valor_mensal'].astype(int)\n",
        "df['valor_mensal'] = df['valor_mensal']/100\n",
        "df['valor_mensal'] = df['valor_mensal'].astype(float)\n",
        "\n",
        "#display(df['custo_mensal'])\n",
        "#display(df['valor_mensal'])"
      ],
      "metadata": {
        "id": "xtLXuk3BdIVo",
        "colab": {
          "base_uri": "https://localhost:8080/"
        },
        "outputId": "751e009c-b2c8-4f5c-e671-928b218af620"
      },
      "execution_count": null,
      "outputs": [
        {
          "output_type": "stream",
          "name": "stderr",
          "text": [
            "/usr/local/lib/python3.7/dist-packages/ipykernel_launcher.py:2: SettingWithCopyWarning: \n",
            "A value is trying to be set on a copy of a slice from a DataFrame.\n",
            "Try using .loc[row_indexer,col_indexer] = value instead\n",
            "\n",
            "See the caveats in the documentation: https://pandas.pydata.org/pandas-docs/stable/user_guide/indexing.html#returning-a-view-versus-a-copy\n",
            "  \n",
            "/usr/local/lib/python3.7/dist-packages/ipykernel_launcher.py:3: SettingWithCopyWarning: \n",
            "A value is trying to be set on a copy of a slice from a DataFrame.\n",
            "Try using .loc[row_indexer,col_indexer] = value instead\n",
            "\n",
            "See the caveats in the documentation: https://pandas.pydata.org/pandas-docs/stable/user_guide/indexing.html#returning-a-view-versus-a-copy\n",
            "  This is separate from the ipykernel package so we can avoid doing imports until\n",
            "/usr/local/lib/python3.7/dist-packages/ipykernel_launcher.py:4: SettingWithCopyWarning: \n",
            "A value is trying to be set on a copy of a slice from a DataFrame.\n",
            "Try using .loc[row_indexer,col_indexer] = value instead\n",
            "\n",
            "See the caveats in the documentation: https://pandas.pydata.org/pandas-docs/stable/user_guide/indexing.html#returning-a-view-versus-a-copy\n",
            "  after removing the cwd from sys.path.\n",
            "/usr/local/lib/python3.7/dist-packages/ipykernel_launcher.py:5: SettingWithCopyWarning: \n",
            "A value is trying to be set on a copy of a slice from a DataFrame.\n",
            "Try using .loc[row_indexer,col_indexer] = value instead\n",
            "\n",
            "See the caveats in the documentation: https://pandas.pydata.org/pandas-docs/stable/user_guide/indexing.html#returning-a-view-versus-a-copy\n",
            "  \"\"\"\n",
            "/usr/local/lib/python3.7/dist-packages/ipykernel_launcher.py:6: SettingWithCopyWarning: \n",
            "A value is trying to be set on a copy of a slice from a DataFrame.\n",
            "Try using .loc[row_indexer,col_indexer] = value instead\n",
            "\n",
            "See the caveats in the documentation: https://pandas.pydata.org/pandas-docs/stable/user_guide/indexing.html#returning-a-view-versus-a-copy\n",
            "  \n",
            "/usr/local/lib/python3.7/dist-packages/ipykernel_launcher.py:7: SettingWithCopyWarning: \n",
            "A value is trying to be set on a copy of a slice from a DataFrame.\n",
            "Try using .loc[row_indexer,col_indexer] = value instead\n",
            "\n",
            "See the caveats in the documentation: https://pandas.pydata.org/pandas-docs/stable/user_guide/indexing.html#returning-a-view-versus-a-copy\n",
            "  import sys\n",
            "/usr/local/lib/python3.7/dist-packages/ipykernel_launcher.py:9: SettingWithCopyWarning: \n",
            "A value is trying to be set on a copy of a slice from a DataFrame.\n",
            "Try using .loc[row_indexer,col_indexer] = value instead\n",
            "\n",
            "See the caveats in the documentation: https://pandas.pydata.org/pandas-docs/stable/user_guide/indexing.html#returning-a-view-versus-a-copy\n",
            "  if __name__ == '__main__':\n",
            "/usr/local/lib/python3.7/dist-packages/ipykernel_launcher.py:10: SettingWithCopyWarning: \n",
            "A value is trying to be set on a copy of a slice from a DataFrame.\n",
            "Try using .loc[row_indexer,col_indexer] = value instead\n",
            "\n",
            "See the caveats in the documentation: https://pandas.pydata.org/pandas-docs/stable/user_guide/indexing.html#returning-a-view-versus-a-copy\n",
            "  # Remove the CWD from sys.path while we load stuff.\n",
            "/usr/local/lib/python3.7/dist-packages/ipykernel_launcher.py:11: SettingWithCopyWarning: \n",
            "A value is trying to be set on a copy of a slice from a DataFrame.\n",
            "Try using .loc[row_indexer,col_indexer] = value instead\n",
            "\n",
            "See the caveats in the documentation: https://pandas.pydata.org/pandas-docs/stable/user_guide/indexing.html#returning-a-view-versus-a-copy\n",
            "  # This is added back by InteractiveShellApp.init_path()\n",
            "/usr/local/lib/python3.7/dist-packages/ipykernel_launcher.py:12: SettingWithCopyWarning: \n",
            "A value is trying to be set on a copy of a slice from a DataFrame.\n",
            "Try using .loc[row_indexer,col_indexer] = value instead\n",
            "\n",
            "See the caveats in the documentation: https://pandas.pydata.org/pandas-docs/stable/user_guide/indexing.html#returning-a-view-versus-a-copy\n",
            "  if sys.path[0] == '':\n",
            "/usr/local/lib/python3.7/dist-packages/ipykernel_launcher.py:13: SettingWithCopyWarning: \n",
            "A value is trying to be set on a copy of a slice from a DataFrame.\n",
            "Try using .loc[row_indexer,col_indexer] = value instead\n",
            "\n",
            "See the caveats in the documentation: https://pandas.pydata.org/pandas-docs/stable/user_guide/indexing.html#returning-a-view-versus-a-copy\n",
            "  del sys.path[0]\n",
            "/usr/local/lib/python3.7/dist-packages/ipykernel_launcher.py:14: SettingWithCopyWarning: \n",
            "A value is trying to be set on a copy of a slice from a DataFrame.\n",
            "Try using .loc[row_indexer,col_indexer] = value instead\n",
            "\n",
            "See the caveats in the documentation: https://pandas.pydata.org/pandas-docs/stable/user_guide/indexing.html#returning-a-view-versus-a-copy\n",
            "  \n"
          ]
        }
      ]
    },
    {
      "cell_type": "code",
      "source": [
        "df.loc[df['custo_mensal'] >= 710000, ['nome','cnpj_empresa','razao_social_empresa']]"
      ],
      "metadata": {
        "id": "GhlW_OWzAXnh",
        "colab": {
          "base_uri": "https://localhost:8080/",
          "height": 81
        },
        "outputId": "84191610-d986-4361-8b3c-35f8f2076dd9"
      },
      "execution_count": null,
      "outputs": [
        {
          "output_type": "execute_result",
          "data": {
            "text/plain": [
              "                         nome  cnpj_empresa  \\\n",
              "268027  LEANDRO ABEL DA SILVA  3.328330e+11   \n",
              "\n",
              "                                  razao_social_empresa  \n",
              "268027  DINAMICA ADMINISTRACAO, SERVICOS E OBRAS LTDA.  "
            ],
            "text/html": [
              "\n",
              "  <div id=\"df-8271f476-6860-45e5-b52b-a3f7b7c0292c\">\n",
              "    <div class=\"colab-df-container\">\n",
              "      <div>\n",
              "<style scoped>\n",
              "    .dataframe tbody tr th:only-of-type {\n",
              "        vertical-align: middle;\n",
              "    }\n",
              "\n",
              "    .dataframe tbody tr th {\n",
              "        vertical-align: top;\n",
              "    }\n",
              "\n",
              "    .dataframe thead th {\n",
              "        text-align: right;\n",
              "    }\n",
              "</style>\n",
              "<table border=\"1\" class=\"dataframe\">\n",
              "  <thead>\n",
              "    <tr style=\"text-align: right;\">\n",
              "      <th></th>\n",
              "      <th>nome</th>\n",
              "      <th>cnpj_empresa</th>\n",
              "      <th>razao_social_empresa</th>\n",
              "    </tr>\n",
              "  </thead>\n",
              "  <tbody>\n",
              "    <tr>\n",
              "      <th>268027</th>\n",
              "      <td>LEANDRO ABEL DA SILVA</td>\n",
              "      <td>3.328330e+11</td>\n",
              "      <td>DINAMICA ADMINISTRACAO, SERVICOS E OBRAS LTDA.</td>\n",
              "    </tr>\n",
              "  </tbody>\n",
              "</table>\n",
              "</div>\n",
              "      <button class=\"colab-df-convert\" onclick=\"convertToInteractive('df-8271f476-6860-45e5-b52b-a3f7b7c0292c')\"\n",
              "              title=\"Convert this dataframe to an interactive table.\"\n",
              "              style=\"display:none;\">\n",
              "        \n",
              "  <svg xmlns=\"http://www.w3.org/2000/svg\" height=\"24px\"viewBox=\"0 0 24 24\"\n",
              "       width=\"24px\">\n",
              "    <path d=\"M0 0h24v24H0V0z\" fill=\"none\"/>\n",
              "    <path d=\"M18.56 5.44l.94 2.06.94-2.06 2.06-.94-2.06-.94-.94-2.06-.94 2.06-2.06.94zm-11 1L8.5 8.5l.94-2.06 2.06-.94-2.06-.94L8.5 2.5l-.94 2.06-2.06.94zm10 10l.94 2.06.94-2.06 2.06-.94-2.06-.94-.94-2.06-.94 2.06-2.06.94z\"/><path d=\"M17.41 7.96l-1.37-1.37c-.4-.4-.92-.59-1.43-.59-.52 0-1.04.2-1.43.59L10.3 9.45l-7.72 7.72c-.78.78-.78 2.05 0 2.83L4 21.41c.39.39.9.59 1.41.59.51 0 1.02-.2 1.41-.59l7.78-7.78 2.81-2.81c.8-.78.8-2.07 0-2.86zM5.41 20L4 18.59l7.72-7.72 1.47 1.35L5.41 20z\"/>\n",
              "  </svg>\n",
              "      </button>\n",
              "      \n",
              "  <style>\n",
              "    .colab-df-container {\n",
              "      display:flex;\n",
              "      flex-wrap:wrap;\n",
              "      gap: 12px;\n",
              "    }\n",
              "\n",
              "    .colab-df-convert {\n",
              "      background-color: #E8F0FE;\n",
              "      border: none;\n",
              "      border-radius: 50%;\n",
              "      cursor: pointer;\n",
              "      display: none;\n",
              "      fill: #1967D2;\n",
              "      height: 32px;\n",
              "      padding: 0 0 0 0;\n",
              "      width: 32px;\n",
              "    }\n",
              "\n",
              "    .colab-df-convert:hover {\n",
              "      background-color: #E2EBFA;\n",
              "      box-shadow: 0px 1px 2px rgba(60, 64, 67, 0.3), 0px 1px 3px 1px rgba(60, 64, 67, 0.15);\n",
              "      fill: #174EA6;\n",
              "    }\n",
              "\n",
              "    [theme=dark] .colab-df-convert {\n",
              "      background-color: #3B4455;\n",
              "      fill: #D2E3FC;\n",
              "    }\n",
              "\n",
              "    [theme=dark] .colab-df-convert:hover {\n",
              "      background-color: #434B5C;\n",
              "      box-shadow: 0px 1px 3px 1px rgba(0, 0, 0, 0.15);\n",
              "      filter: drop-shadow(0px 1px 2px rgba(0, 0, 0, 0.3));\n",
              "      fill: #FFFFFF;\n",
              "    }\n",
              "  </style>\n",
              "\n",
              "      <script>\n",
              "        const buttonEl =\n",
              "          document.querySelector('#df-8271f476-6860-45e5-b52b-a3f7b7c0292c button.colab-df-convert');\n",
              "        buttonEl.style.display =\n",
              "          google.colab.kernel.accessAllowed ? 'block' : 'none';\n",
              "\n",
              "        async function convertToInteractive(key) {\n",
              "          const element = document.querySelector('#df-8271f476-6860-45e5-b52b-a3f7b7c0292c');\n",
              "          const dataTable =\n",
              "            await google.colab.kernel.invokeFunction('convertToInteractive',\n",
              "                                                     [key], {});\n",
              "          if (!dataTable) return;\n",
              "\n",
              "          const docLinkHtml = 'Like what you see? Visit the ' +\n",
              "            '<a target=\"_blank\" href=https://colab.research.google.com/notebooks/data_table.ipynb>data table notebook</a>'\n",
              "            + ' to learn more about interactive tables.';\n",
              "          element.innerHTML = '';\n",
              "          dataTable['output_type'] = 'display_data';\n",
              "          await google.colab.output.renderOutput(dataTable, element);\n",
              "          const docLink = document.createElement('div');\n",
              "          docLink.innerHTML = docLinkHtml;\n",
              "          element.appendChild(docLink);\n",
              "        }\n",
              "      </script>\n",
              "    </div>\n",
              "  </div>\n",
              "  "
            ]
          },
          "metadata": {},
          "execution_count": 38
        }
      ]
    },
    {
      "cell_type": "code",
      "source": [
        "df.loc[df['valor_mensal'] >= 20000, ['nome','categoria_profissional']]"
      ],
      "metadata": {
        "id": "i2qI5ilKDEyt",
        "colab": {
          "base_uri": "https://localhost:8080/",
          "height": 582
        },
        "outputId": "27357964-2578-4a93-9a32-f00eae7e2258"
      },
      "execution_count": null,
      "outputs": [
        {
          "output_type": "execute_result",
          "data": {
            "text/plain": [
              "                                  nome  \\\n",
              "81933        MAURO CESAR ZANATTA ALVES   \n",
              "83181        MAURO CESAR ZANATTA ALVES   \n",
              "87072              GUSTAVO PAUL KURRLE   \n",
              "227419       PAULO HENRIQUE SILVA CRUZ   \n",
              "227508                     AKIRA HOMMA   \n",
              "227798       TATIANA GUIMARAES NORONHA   \n",
              "228044  DIEGO CAETANO DE ASSIS PEREIRA   \n",
              "228195  MARIA DE LOURDES DE SOUSA MAIA   \n",
              "228844                 LUCIANO AGONIGI   \n",
              "230697                     AKIRA HOMMA   \n",
              "231171  DIEGO CAETANO DE ASSIS PEREIRA   \n",
              "231709                 LUCIANO AGONIGI   \n",
              "237395                     AKIRA HOMMA   \n",
              "238263                 LUCIANO AGONIGI   \n",
              "246246                     AKIRA HOMMA   \n",
              "247120                 LUCIANO AGONIGI   \n",
              "314702          RODRIGO KAISER SACCONE   \n",
              "\n",
              "                                   categoria_profissional  \n",
              "81933                                 261125 - JORNALISTA  \n",
              "83181                                 261125 - JORNALISTA  \n",
              "87072                                 261125 - JORNALISTA  \n",
              "227419        203220 - PESQUISADOR DE ENGENHARIA MECANICA  \n",
              "227508  142120 - TECNOLOGO EM GESTAO ADMINISTRATIVO- F...  \n",
              "227798  142120 - TECNOLOGO EM GESTAO ADMINISTRATIVO- F...  \n",
              "228044        203220 - PESQUISADOR DE ENGENHARIA MECANICA  \n",
              "228195  142120 - TECNOLOGO EM GESTAO ADMINISTRATIVO- F...  \n",
              "228844        203220 - PESQUISADOR DE ENGENHARIA MECANICA  \n",
              "230697  142120 - TECNOLOGO EM GESTAO ADMINISTRATIVO- F...  \n",
              "231171        203220 - PESQUISADOR DE ENGENHARIA MECANICA  \n",
              "231709        203220 - PESQUISADOR DE ENGENHARIA MECANICA  \n",
              "237395  142120 - TECNOLOGO EM GESTAO ADMINISTRATIVO- F...  \n",
              "238263        203220 - PESQUISADOR DE ENGENHARIA MECANICA  \n",
              "246246  142120 - TECNOLOGO EM GESTAO ADMINISTRATIVO- F...  \n",
              "247120        203220 - PESQUISADOR DE ENGENHARIA MECANICA  \n",
              "314702                 2611 - PROFISSIONAIS DO JORNALISMO  "
            ],
            "text/html": [
              "\n",
              "  <div id=\"df-19f48af7-8ab9-4a37-912c-01d659895728\">\n",
              "    <div class=\"colab-df-container\">\n",
              "      <div>\n",
              "<style scoped>\n",
              "    .dataframe tbody tr th:only-of-type {\n",
              "        vertical-align: middle;\n",
              "    }\n",
              "\n",
              "    .dataframe tbody tr th {\n",
              "        vertical-align: top;\n",
              "    }\n",
              "\n",
              "    .dataframe thead th {\n",
              "        text-align: right;\n",
              "    }\n",
              "</style>\n",
              "<table border=\"1\" class=\"dataframe\">\n",
              "  <thead>\n",
              "    <tr style=\"text-align: right;\">\n",
              "      <th></th>\n",
              "      <th>nome</th>\n",
              "      <th>categoria_profissional</th>\n",
              "    </tr>\n",
              "  </thead>\n",
              "  <tbody>\n",
              "    <tr>\n",
              "      <th>81933</th>\n",
              "      <td>MAURO CESAR ZANATTA ALVES</td>\n",
              "      <td>261125 - JORNALISTA</td>\n",
              "    </tr>\n",
              "    <tr>\n",
              "      <th>83181</th>\n",
              "      <td>MAURO CESAR ZANATTA ALVES</td>\n",
              "      <td>261125 - JORNALISTA</td>\n",
              "    </tr>\n",
              "    <tr>\n",
              "      <th>87072</th>\n",
              "      <td>GUSTAVO PAUL KURRLE</td>\n",
              "      <td>261125 - JORNALISTA</td>\n",
              "    </tr>\n",
              "    <tr>\n",
              "      <th>227419</th>\n",
              "      <td>PAULO HENRIQUE SILVA CRUZ</td>\n",
              "      <td>203220 - PESQUISADOR DE ENGENHARIA MECANICA</td>\n",
              "    </tr>\n",
              "    <tr>\n",
              "      <th>227508</th>\n",
              "      <td>AKIRA HOMMA</td>\n",
              "      <td>142120 - TECNOLOGO EM GESTAO ADMINISTRATIVO- F...</td>\n",
              "    </tr>\n",
              "    <tr>\n",
              "      <th>227798</th>\n",
              "      <td>TATIANA GUIMARAES NORONHA</td>\n",
              "      <td>142120 - TECNOLOGO EM GESTAO ADMINISTRATIVO- F...</td>\n",
              "    </tr>\n",
              "    <tr>\n",
              "      <th>228044</th>\n",
              "      <td>DIEGO CAETANO DE ASSIS PEREIRA</td>\n",
              "      <td>203220 - PESQUISADOR DE ENGENHARIA MECANICA</td>\n",
              "    </tr>\n",
              "    <tr>\n",
              "      <th>228195</th>\n",
              "      <td>MARIA DE LOURDES DE SOUSA MAIA</td>\n",
              "      <td>142120 - TECNOLOGO EM GESTAO ADMINISTRATIVO- F...</td>\n",
              "    </tr>\n",
              "    <tr>\n",
              "      <th>228844</th>\n",
              "      <td>LUCIANO AGONIGI</td>\n",
              "      <td>203220 - PESQUISADOR DE ENGENHARIA MECANICA</td>\n",
              "    </tr>\n",
              "    <tr>\n",
              "      <th>230697</th>\n",
              "      <td>AKIRA HOMMA</td>\n",
              "      <td>142120 - TECNOLOGO EM GESTAO ADMINISTRATIVO- F...</td>\n",
              "    </tr>\n",
              "    <tr>\n",
              "      <th>231171</th>\n",
              "      <td>DIEGO CAETANO DE ASSIS PEREIRA</td>\n",
              "      <td>203220 - PESQUISADOR DE ENGENHARIA MECANICA</td>\n",
              "    </tr>\n",
              "    <tr>\n",
              "      <th>231709</th>\n",
              "      <td>LUCIANO AGONIGI</td>\n",
              "      <td>203220 - PESQUISADOR DE ENGENHARIA MECANICA</td>\n",
              "    </tr>\n",
              "    <tr>\n",
              "      <th>237395</th>\n",
              "      <td>AKIRA HOMMA</td>\n",
              "      <td>142120 - TECNOLOGO EM GESTAO ADMINISTRATIVO- F...</td>\n",
              "    </tr>\n",
              "    <tr>\n",
              "      <th>238263</th>\n",
              "      <td>LUCIANO AGONIGI</td>\n",
              "      <td>203220 - PESQUISADOR DE ENGENHARIA MECANICA</td>\n",
              "    </tr>\n",
              "    <tr>\n",
              "      <th>246246</th>\n",
              "      <td>AKIRA HOMMA</td>\n",
              "      <td>142120 - TECNOLOGO EM GESTAO ADMINISTRATIVO- F...</td>\n",
              "    </tr>\n",
              "    <tr>\n",
              "      <th>247120</th>\n",
              "      <td>LUCIANO AGONIGI</td>\n",
              "      <td>203220 - PESQUISADOR DE ENGENHARIA MECANICA</td>\n",
              "    </tr>\n",
              "    <tr>\n",
              "      <th>314702</th>\n",
              "      <td>RODRIGO KAISER SACCONE</td>\n",
              "      <td>2611 - PROFISSIONAIS DO JORNALISMO</td>\n",
              "    </tr>\n",
              "  </tbody>\n",
              "</table>\n",
              "</div>\n",
              "      <button class=\"colab-df-convert\" onclick=\"convertToInteractive('df-19f48af7-8ab9-4a37-912c-01d659895728')\"\n",
              "              title=\"Convert this dataframe to an interactive table.\"\n",
              "              style=\"display:none;\">\n",
              "        \n",
              "  <svg xmlns=\"http://www.w3.org/2000/svg\" height=\"24px\"viewBox=\"0 0 24 24\"\n",
              "       width=\"24px\">\n",
              "    <path d=\"M0 0h24v24H0V0z\" fill=\"none\"/>\n",
              "    <path d=\"M18.56 5.44l.94 2.06.94-2.06 2.06-.94-2.06-.94-.94-2.06-.94 2.06-2.06.94zm-11 1L8.5 8.5l.94-2.06 2.06-.94-2.06-.94L8.5 2.5l-.94 2.06-2.06.94zm10 10l.94 2.06.94-2.06 2.06-.94-2.06-.94-.94-2.06-.94 2.06-2.06.94z\"/><path d=\"M17.41 7.96l-1.37-1.37c-.4-.4-.92-.59-1.43-.59-.52 0-1.04.2-1.43.59L10.3 9.45l-7.72 7.72c-.78.78-.78 2.05 0 2.83L4 21.41c.39.39.9.59 1.41.59.51 0 1.02-.2 1.41-.59l7.78-7.78 2.81-2.81c.8-.78.8-2.07 0-2.86zM5.41 20L4 18.59l7.72-7.72 1.47 1.35L5.41 20z\"/>\n",
              "  </svg>\n",
              "      </button>\n",
              "      \n",
              "  <style>\n",
              "    .colab-df-container {\n",
              "      display:flex;\n",
              "      flex-wrap:wrap;\n",
              "      gap: 12px;\n",
              "    }\n",
              "\n",
              "    .colab-df-convert {\n",
              "      background-color: #E8F0FE;\n",
              "      border: none;\n",
              "      border-radius: 50%;\n",
              "      cursor: pointer;\n",
              "      display: none;\n",
              "      fill: #1967D2;\n",
              "      height: 32px;\n",
              "      padding: 0 0 0 0;\n",
              "      width: 32px;\n",
              "    }\n",
              "\n",
              "    .colab-df-convert:hover {\n",
              "      background-color: #E2EBFA;\n",
              "      box-shadow: 0px 1px 2px rgba(60, 64, 67, 0.3), 0px 1px 3px 1px rgba(60, 64, 67, 0.15);\n",
              "      fill: #174EA6;\n",
              "    }\n",
              "\n",
              "    [theme=dark] .colab-df-convert {\n",
              "      background-color: #3B4455;\n",
              "      fill: #D2E3FC;\n",
              "    }\n",
              "\n",
              "    [theme=dark] .colab-df-convert:hover {\n",
              "      background-color: #434B5C;\n",
              "      box-shadow: 0px 1px 3px 1px rgba(0, 0, 0, 0.15);\n",
              "      filter: drop-shadow(0px 1px 2px rgba(0, 0, 0, 0.3));\n",
              "      fill: #FFFFFF;\n",
              "    }\n",
              "  </style>\n",
              "\n",
              "      <script>\n",
              "        const buttonEl =\n",
              "          document.querySelector('#df-19f48af7-8ab9-4a37-912c-01d659895728 button.colab-df-convert');\n",
              "        buttonEl.style.display =\n",
              "          google.colab.kernel.accessAllowed ? 'block' : 'none';\n",
              "\n",
              "        async function convertToInteractive(key) {\n",
              "          const element = document.querySelector('#df-19f48af7-8ab9-4a37-912c-01d659895728');\n",
              "          const dataTable =\n",
              "            await google.colab.kernel.invokeFunction('convertToInteractive',\n",
              "                                                     [key], {});\n",
              "          if (!dataTable) return;\n",
              "\n",
              "          const docLinkHtml = 'Like what you see? Visit the ' +\n",
              "            '<a target=\"_blank\" href=https://colab.research.google.com/notebooks/data_table.ipynb>data table notebook</a>'\n",
              "            + ' to learn more about interactive tables.';\n",
              "          element.innerHTML = '';\n",
              "          dataTable['output_type'] = 'display_data';\n",
              "          await google.colab.output.renderOutput(dataTable, element);\n",
              "          const docLink = document.createElement('div');\n",
              "          docLink.innerHTML = docLinkHtml;\n",
              "          element.appendChild(docLink);\n",
              "        }\n",
              "      </script>\n",
              "    </div>\n",
              "  </div>\n",
              "  "
            ]
          },
          "metadata": {},
          "execution_count": 39
        }
      ]
    },
    {
      "cell_type": "code",
      "source": [
        "#padronizando horas trabalhadas e retirando valores não informados\n",
        "\n",
        "df = df[pd.to_numeric(df['quantidade_horas_trabalhadas_semanais'], errors='coerce').notnull()]\n",
        "\n",
        "df['quantidade_horas_trabalhadas_semanais'] = df['quantidade_horas_trabalhadas_semanais'].astype(float)\n",
        "#display(df['quantidade_horas_trabalhadas_semanais'])"
      ],
      "metadata": {
        "id": "hGJpCHfkuQ7q",
        "colab": {
          "base_uri": "https://localhost:8080/"
        },
        "outputId": "3bddef2a-0b80-4b06-b6ee-2fec7f14eab5"
      },
      "execution_count": null,
      "outputs": [
        {
          "output_type": "stream",
          "name": "stderr",
          "text": [
            "/usr/local/lib/python3.7/dist-packages/ipykernel_launcher.py:5: SettingWithCopyWarning: \n",
            "A value is trying to be set on a copy of a slice from a DataFrame.\n",
            "Try using .loc[row_indexer,col_indexer] = value instead\n",
            "\n",
            "See the caveats in the documentation: https://pandas.pydata.org/pandas-docs/stable/user_guide/indexing.html#returning-a-view-versus-a-copy\n",
            "  \"\"\"\n"
          ]
        }
      ]
    },
    {
      "cell_type": "markdown",
      "source": [],
      "metadata": {
        "id": "plI01jIVBnfq"
      }
    },
    {
      "cell_type": "markdown",
      "source": [
        "## Medidas Resumo"
      ],
      "metadata": {
        "id": "ERzV-i3w7VSb"
      }
    },
    {
      "cell_type": "markdown",
      "source": [
        "Sugere-se que o número de variáveis a serem analisadas não ultrapasse 5.\n",
        "\n"
      ],
      "metadata": {
        "id": "Qb8_F_Ca8abM"
      }
    },
    {
      "cell_type": "code",
      "source": [
        "#media tercerizados contratados por empresa\n",
        "#media horas trabalhadas semanais por empresa\n",
        "#media custo mensal por empresa\n",
        "#moda categoria_profissional\n",
        "#media e mediana ano/tempo de contrato (?)\n",
        "display(df)"
      ],
      "metadata": {
        "id": "VrBM9jdp7ElD",
        "colab": {
          "base_uri": "https://localhost:8080/",
          "height": 939
        },
        "outputId": "cc52f75a-f080-443b-d0a6-3067fe7342b2"
      },
      "execution_count": null,
      "outputs": [
        {
          "output_type": "display_data",
          "data": {
            "text/plain": [
              "           ano  mes  id_terceirizado sigla_orgao_superior_unidade_gestora  \\\n",
              "0       2021.0  9.0          8145166                                  ME.   \n",
              "1       2021.0  9.0          8145167                                  ME.   \n",
              "2       2021.0  9.0          8145168                                  ME.   \n",
              "3       2021.0  9.0          8145169                                  ME.   \n",
              "4       2021.0  9.0          8145170                                  ME.   \n",
              "...        ...  ...              ...                                  ...   \n",
              "406652  2019.0  1.0          7092167                                  MDS   \n",
              "406653  2019.0  1.0          7092168                                  MDS   \n",
              "406654  2019.0  1.0          7092169                                  MDS   \n",
              "406655  2019.0  1.0          7092170                                  MDS   \n",
              "406656  2019.0  1.0          7092171                                  MDS   \n",
              "\n",
              "       sigla_unidade_gestora contrato_empresa  cnpj_empresa  \\\n",
              "0                     SPU/ES          01/2018  1.195517e+13   \n",
              "1                     SPU/ES          01/2018  1.195517e+13   \n",
              "2                     SPU/ES          01/2018  1.195517e+13   \n",
              "3                     SPU/ES          01/2018  1.195517e+13   \n",
              "4                     SPU/ES          01/2018  1.195517e+13   \n",
              "...                      ...              ...           ...   \n",
              "406652             INSS/CGLC          51/2017  7.366311e+13   \n",
              "406653             INSS/CGLC          51/2017  7.366311e+13   \n",
              "406654             INSS/CGLC          51/2017  7.366311e+13   \n",
              "406655             INSS/CGLC          51/2017  7.366311e+13   \n",
              "406656             INSS/CGLC          51/2017  7.366311e+13   \n",
              "\n",
              "               razao_social_empresa                               nome  \\\n",
              "0          SPANDEX SERVICOS LTDA-ME                   DHEILLA DE JESUS   \n",
              "1          SPANDEX SERVICOS LTDA-ME  KARLA SIRLENE GOMES RIBEIRO MUNIZ   \n",
              "2          SPANDEX SERVICOS LTDA-ME            LETICIA ANANIA DA CUNHA   \n",
              "3          SPANDEX SERVICOS LTDA-ME        HELENA BOSSI PESSINI VIEIRA   \n",
              "4          SPANDEX SERVICOS LTDA-ME       THAYANE FERREIRA DE OLIVEIRA   \n",
              "...                             ...                                ...   \n",
              "406652  TEL CENTRO DE CONTATOS LTDA            VANESSA OLIVEIRA SANTOS   \n",
              "406653  TEL CENTRO DE CONTATOS LTDA         RAFAELA DOS SANTOS VITORIO   \n",
              "406654  TEL CENTRO DE CONTATOS LTDA             DAISY PEIXOTO DE JESUS   \n",
              "406655  TEL CENTRO DE CONTATOS LTDA               AGATA SERPA DA SILVA   \n",
              "406656  TEL CENTRO DE CONTATOS LTDA             MAISA SANTOS DE ARAUJO   \n",
              "\n",
              "                                   categoria_profissional  \\\n",
              "0                                        513425 - COPEIRO   \n",
              "1                        422105 - RECEPCIONISTA, EM GERAL   \n",
              "2                        422105 - RECEPCIONISTA, EM GERAL   \n",
              "3                        422105 - RECEPCIONISTA, EM GERAL   \n",
              "4                        422105 - RECEPCIONISTA, EM GERAL   \n",
              "...                                                   ...   \n",
              "406652           422305 - OPERADOR DE TELEMARKETING ATIVO   \n",
              "406653           422305 - OPERADOR DE TELEMARKETING ATIVO   \n",
              "406654           422305 - OPERADOR DE TELEMARKETING ATIVO   \n",
              "406655           422305 - OPERADOR DE TELEMARKETING ATIVO   \n",
              "406656  420135 - SUPERVISOR DE TELEMARKETING E ATENDIM...   \n",
              "\n",
              "           nivel_escolaridade  quantidade_horas_trabalhadas_semanais  \\\n",
              "0       ENSINO MEDIO COMPLETO                                   44.0   \n",
              "1           SUPERIOR COMPLETO                                   44.0   \n",
              "2         SUPERIOR INCOMPLETO                                   44.0   \n",
              "3           SUPERIOR COMPLETO                                   44.0   \n",
              "4         SUPERIOR INCOMPLETO                                   44.0   \n",
              "...                       ...                                    ...   \n",
              "406652  ENSINO MEDIO COMPLETO                                   36.0   \n",
              "406653  ENSINO MEDIO COMPLETO                                   36.0   \n",
              "406654    SUPERIOR INCOMPLETO                                   36.0   \n",
              "406655  ENSINO MEDIO COMPLETO                                   36.0   \n",
              "406656      SUPERIOR COMPLETO                                   44.0   \n",
              "\n",
              "                    unidade_trabalho  valor_mensal  custo_mensal  \\\n",
              "0                            SAMF/ES       1185.68       2887.75   \n",
              "1                             SPU/ES       1976.33       4268.79   \n",
              "2                             SPU/ES       1976.33       4268.79   \n",
              "3                             SPU/ES       1976.33       4268.79   \n",
              "4                             SPU/ES       1976.33       4268.79   \n",
              "...                              ...           ...           ...   \n",
              "406652  APS TELEATENDIMENTO SALVADOR        954.00       2222.21   \n",
              "406653  APS TELEATENDIMENTO SALVADOR        954.00       2222.21   \n",
              "406654  APS TELEATENDIMENTO SALVADOR        983.85       2291.73   \n",
              "406655  APS TELEATENDIMENTO SALVADOR        954.00       2222.21   \n",
              "406656  APS TELEATENDIMENTO SALVADOR       1375.98       3205.16   \n",
              "\n",
              "       sigla_orgao_trabalho  \n",
              "0                      MPDG  \n",
              "1                      MPDG  \n",
              "2                      MPDG  \n",
              "3                      MPDG  \n",
              "4                      MPDG  \n",
              "...                     ...  \n",
              "406652                 INSS  \n",
              "406653                 INSS  \n",
              "406654                 INSS  \n",
              "406655                 INSS  \n",
              "406656                 INSS  \n",
              "\n",
              "[400882 rows x 16 columns]"
            ],
            "text/html": [
              "\n",
              "  <div id=\"df-811d89c7-b6f5-4f50-80c6-c633d52d0fc5\">\n",
              "    <div class=\"colab-df-container\">\n",
              "      <div>\n",
              "<style scoped>\n",
              "    .dataframe tbody tr th:only-of-type {\n",
              "        vertical-align: middle;\n",
              "    }\n",
              "\n",
              "    .dataframe tbody tr th {\n",
              "        vertical-align: top;\n",
              "    }\n",
              "\n",
              "    .dataframe thead th {\n",
              "        text-align: right;\n",
              "    }\n",
              "</style>\n",
              "<table border=\"1\" class=\"dataframe\">\n",
              "  <thead>\n",
              "    <tr style=\"text-align: right;\">\n",
              "      <th></th>\n",
              "      <th>ano</th>\n",
              "      <th>mes</th>\n",
              "      <th>id_terceirizado</th>\n",
              "      <th>sigla_orgao_superior_unidade_gestora</th>\n",
              "      <th>sigla_unidade_gestora</th>\n",
              "      <th>contrato_empresa</th>\n",
              "      <th>cnpj_empresa</th>\n",
              "      <th>razao_social_empresa</th>\n",
              "      <th>nome</th>\n",
              "      <th>categoria_profissional</th>\n",
              "      <th>nivel_escolaridade</th>\n",
              "      <th>quantidade_horas_trabalhadas_semanais</th>\n",
              "      <th>unidade_trabalho</th>\n",
              "      <th>valor_mensal</th>\n",
              "      <th>custo_mensal</th>\n",
              "      <th>sigla_orgao_trabalho</th>\n",
              "    </tr>\n",
              "  </thead>\n",
              "  <tbody>\n",
              "    <tr>\n",
              "      <th>0</th>\n",
              "      <td>2021.0</td>\n",
              "      <td>9.0</td>\n",
              "      <td>8145166</td>\n",
              "      <td>ME.</td>\n",
              "      <td>SPU/ES</td>\n",
              "      <td>01/2018</td>\n",
              "      <td>1.195517e+13</td>\n",
              "      <td>SPANDEX SERVICOS LTDA-ME</td>\n",
              "      <td>DHEILLA DE JESUS</td>\n",
              "      <td>513425 - COPEIRO</td>\n",
              "      <td>ENSINO MEDIO COMPLETO</td>\n",
              "      <td>44.0</td>\n",
              "      <td>SAMF/ES</td>\n",
              "      <td>1185.68</td>\n",
              "      <td>2887.75</td>\n",
              "      <td>MPDG</td>\n",
              "    </tr>\n",
              "    <tr>\n",
              "      <th>1</th>\n",
              "      <td>2021.0</td>\n",
              "      <td>9.0</td>\n",
              "      <td>8145167</td>\n",
              "      <td>ME.</td>\n",
              "      <td>SPU/ES</td>\n",
              "      <td>01/2018</td>\n",
              "      <td>1.195517e+13</td>\n",
              "      <td>SPANDEX SERVICOS LTDA-ME</td>\n",
              "      <td>KARLA SIRLENE GOMES RIBEIRO MUNIZ</td>\n",
              "      <td>422105 - RECEPCIONISTA, EM GERAL</td>\n",
              "      <td>SUPERIOR COMPLETO</td>\n",
              "      <td>44.0</td>\n",
              "      <td>SPU/ES</td>\n",
              "      <td>1976.33</td>\n",
              "      <td>4268.79</td>\n",
              "      <td>MPDG</td>\n",
              "    </tr>\n",
              "    <tr>\n",
              "      <th>2</th>\n",
              "      <td>2021.0</td>\n",
              "      <td>9.0</td>\n",
              "      <td>8145168</td>\n",
              "      <td>ME.</td>\n",
              "      <td>SPU/ES</td>\n",
              "      <td>01/2018</td>\n",
              "      <td>1.195517e+13</td>\n",
              "      <td>SPANDEX SERVICOS LTDA-ME</td>\n",
              "      <td>LETICIA ANANIA DA CUNHA</td>\n",
              "      <td>422105 - RECEPCIONISTA, EM GERAL</td>\n",
              "      <td>SUPERIOR INCOMPLETO</td>\n",
              "      <td>44.0</td>\n",
              "      <td>SPU/ES</td>\n",
              "      <td>1976.33</td>\n",
              "      <td>4268.79</td>\n",
              "      <td>MPDG</td>\n",
              "    </tr>\n",
              "    <tr>\n",
              "      <th>3</th>\n",
              "      <td>2021.0</td>\n",
              "      <td>9.0</td>\n",
              "      <td>8145169</td>\n",
              "      <td>ME.</td>\n",
              "      <td>SPU/ES</td>\n",
              "      <td>01/2018</td>\n",
              "      <td>1.195517e+13</td>\n",
              "      <td>SPANDEX SERVICOS LTDA-ME</td>\n",
              "      <td>HELENA BOSSI PESSINI VIEIRA</td>\n",
              "      <td>422105 - RECEPCIONISTA, EM GERAL</td>\n",
              "      <td>SUPERIOR COMPLETO</td>\n",
              "      <td>44.0</td>\n",
              "      <td>SPU/ES</td>\n",
              "      <td>1976.33</td>\n",
              "      <td>4268.79</td>\n",
              "      <td>MPDG</td>\n",
              "    </tr>\n",
              "    <tr>\n",
              "      <th>4</th>\n",
              "      <td>2021.0</td>\n",
              "      <td>9.0</td>\n",
              "      <td>8145170</td>\n",
              "      <td>ME.</td>\n",
              "      <td>SPU/ES</td>\n",
              "      <td>01/2018</td>\n",
              "      <td>1.195517e+13</td>\n",
              "      <td>SPANDEX SERVICOS LTDA-ME</td>\n",
              "      <td>THAYANE FERREIRA DE OLIVEIRA</td>\n",
              "      <td>422105 - RECEPCIONISTA, EM GERAL</td>\n",
              "      <td>SUPERIOR INCOMPLETO</td>\n",
              "      <td>44.0</td>\n",
              "      <td>SPU/ES</td>\n",
              "      <td>1976.33</td>\n",
              "      <td>4268.79</td>\n",
              "      <td>MPDG</td>\n",
              "    </tr>\n",
              "    <tr>\n",
              "      <th>...</th>\n",
              "      <td>...</td>\n",
              "      <td>...</td>\n",
              "      <td>...</td>\n",
              "      <td>...</td>\n",
              "      <td>...</td>\n",
              "      <td>...</td>\n",
              "      <td>...</td>\n",
              "      <td>...</td>\n",
              "      <td>...</td>\n",
              "      <td>...</td>\n",
              "      <td>...</td>\n",
              "      <td>...</td>\n",
              "      <td>...</td>\n",
              "      <td>...</td>\n",
              "      <td>...</td>\n",
              "      <td>...</td>\n",
              "    </tr>\n",
              "    <tr>\n",
              "      <th>406652</th>\n",
              "      <td>2019.0</td>\n",
              "      <td>1.0</td>\n",
              "      <td>7092167</td>\n",
              "      <td>MDS</td>\n",
              "      <td>INSS/CGLC</td>\n",
              "      <td>51/2017</td>\n",
              "      <td>7.366311e+13</td>\n",
              "      <td>TEL CENTRO DE CONTATOS LTDA</td>\n",
              "      <td>VANESSA OLIVEIRA SANTOS</td>\n",
              "      <td>422305 - OPERADOR DE TELEMARKETING ATIVO</td>\n",
              "      <td>ENSINO MEDIO COMPLETO</td>\n",
              "      <td>36.0</td>\n",
              "      <td>APS TELEATENDIMENTO SALVADOR</td>\n",
              "      <td>954.00</td>\n",
              "      <td>2222.21</td>\n",
              "      <td>INSS</td>\n",
              "    </tr>\n",
              "    <tr>\n",
              "      <th>406653</th>\n",
              "      <td>2019.0</td>\n",
              "      <td>1.0</td>\n",
              "      <td>7092168</td>\n",
              "      <td>MDS</td>\n",
              "      <td>INSS/CGLC</td>\n",
              "      <td>51/2017</td>\n",
              "      <td>7.366311e+13</td>\n",
              "      <td>TEL CENTRO DE CONTATOS LTDA</td>\n",
              "      <td>RAFAELA DOS SANTOS VITORIO</td>\n",
              "      <td>422305 - OPERADOR DE TELEMARKETING ATIVO</td>\n",
              "      <td>ENSINO MEDIO COMPLETO</td>\n",
              "      <td>36.0</td>\n",
              "      <td>APS TELEATENDIMENTO SALVADOR</td>\n",
              "      <td>954.00</td>\n",
              "      <td>2222.21</td>\n",
              "      <td>INSS</td>\n",
              "    </tr>\n",
              "    <tr>\n",
              "      <th>406654</th>\n",
              "      <td>2019.0</td>\n",
              "      <td>1.0</td>\n",
              "      <td>7092169</td>\n",
              "      <td>MDS</td>\n",
              "      <td>INSS/CGLC</td>\n",
              "      <td>51/2017</td>\n",
              "      <td>7.366311e+13</td>\n",
              "      <td>TEL CENTRO DE CONTATOS LTDA</td>\n",
              "      <td>DAISY PEIXOTO DE JESUS</td>\n",
              "      <td>422305 - OPERADOR DE TELEMARKETING ATIVO</td>\n",
              "      <td>SUPERIOR INCOMPLETO</td>\n",
              "      <td>36.0</td>\n",
              "      <td>APS TELEATENDIMENTO SALVADOR</td>\n",
              "      <td>983.85</td>\n",
              "      <td>2291.73</td>\n",
              "      <td>INSS</td>\n",
              "    </tr>\n",
              "    <tr>\n",
              "      <th>406655</th>\n",
              "      <td>2019.0</td>\n",
              "      <td>1.0</td>\n",
              "      <td>7092170</td>\n",
              "      <td>MDS</td>\n",
              "      <td>INSS/CGLC</td>\n",
              "      <td>51/2017</td>\n",
              "      <td>7.366311e+13</td>\n",
              "      <td>TEL CENTRO DE CONTATOS LTDA</td>\n",
              "      <td>AGATA SERPA DA SILVA</td>\n",
              "      <td>422305 - OPERADOR DE TELEMARKETING ATIVO</td>\n",
              "      <td>ENSINO MEDIO COMPLETO</td>\n",
              "      <td>36.0</td>\n",
              "      <td>APS TELEATENDIMENTO SALVADOR</td>\n",
              "      <td>954.00</td>\n",
              "      <td>2222.21</td>\n",
              "      <td>INSS</td>\n",
              "    </tr>\n",
              "    <tr>\n",
              "      <th>406656</th>\n",
              "      <td>2019.0</td>\n",
              "      <td>1.0</td>\n",
              "      <td>7092171</td>\n",
              "      <td>MDS</td>\n",
              "      <td>INSS/CGLC</td>\n",
              "      <td>51/2017</td>\n",
              "      <td>7.366311e+13</td>\n",
              "      <td>TEL CENTRO DE CONTATOS LTDA</td>\n",
              "      <td>MAISA SANTOS DE ARAUJO</td>\n",
              "      <td>420135 - SUPERVISOR DE TELEMARKETING E ATENDIM...</td>\n",
              "      <td>SUPERIOR COMPLETO</td>\n",
              "      <td>44.0</td>\n",
              "      <td>APS TELEATENDIMENTO SALVADOR</td>\n",
              "      <td>1375.98</td>\n",
              "      <td>3205.16</td>\n",
              "      <td>INSS</td>\n",
              "    </tr>\n",
              "  </tbody>\n",
              "</table>\n",
              "<p>400882 rows × 16 columns</p>\n",
              "</div>\n",
              "      <button class=\"colab-df-convert\" onclick=\"convertToInteractive('df-811d89c7-b6f5-4f50-80c6-c633d52d0fc5')\"\n",
              "              title=\"Convert this dataframe to an interactive table.\"\n",
              "              style=\"display:none;\">\n",
              "        \n",
              "  <svg xmlns=\"http://www.w3.org/2000/svg\" height=\"24px\"viewBox=\"0 0 24 24\"\n",
              "       width=\"24px\">\n",
              "    <path d=\"M0 0h24v24H0V0z\" fill=\"none\"/>\n",
              "    <path d=\"M18.56 5.44l.94 2.06.94-2.06 2.06-.94-2.06-.94-.94-2.06-.94 2.06-2.06.94zm-11 1L8.5 8.5l.94-2.06 2.06-.94-2.06-.94L8.5 2.5l-.94 2.06-2.06.94zm10 10l.94 2.06.94-2.06 2.06-.94-2.06-.94-.94-2.06-.94 2.06-2.06.94z\"/><path d=\"M17.41 7.96l-1.37-1.37c-.4-.4-.92-.59-1.43-.59-.52 0-1.04.2-1.43.59L10.3 9.45l-7.72 7.72c-.78.78-.78 2.05 0 2.83L4 21.41c.39.39.9.59 1.41.59.51 0 1.02-.2 1.41-.59l7.78-7.78 2.81-2.81c.8-.78.8-2.07 0-2.86zM5.41 20L4 18.59l7.72-7.72 1.47 1.35L5.41 20z\"/>\n",
              "  </svg>\n",
              "      </button>\n",
              "      \n",
              "  <style>\n",
              "    .colab-df-container {\n",
              "      display:flex;\n",
              "      flex-wrap:wrap;\n",
              "      gap: 12px;\n",
              "    }\n",
              "\n",
              "    .colab-df-convert {\n",
              "      background-color: #E8F0FE;\n",
              "      border: none;\n",
              "      border-radius: 50%;\n",
              "      cursor: pointer;\n",
              "      display: none;\n",
              "      fill: #1967D2;\n",
              "      height: 32px;\n",
              "      padding: 0 0 0 0;\n",
              "      width: 32px;\n",
              "    }\n",
              "\n",
              "    .colab-df-convert:hover {\n",
              "      background-color: #E2EBFA;\n",
              "      box-shadow: 0px 1px 2px rgba(60, 64, 67, 0.3), 0px 1px 3px 1px rgba(60, 64, 67, 0.15);\n",
              "      fill: #174EA6;\n",
              "    }\n",
              "\n",
              "    [theme=dark] .colab-df-convert {\n",
              "      background-color: #3B4455;\n",
              "      fill: #D2E3FC;\n",
              "    }\n",
              "\n",
              "    [theme=dark] .colab-df-convert:hover {\n",
              "      background-color: #434B5C;\n",
              "      box-shadow: 0px 1px 3px 1px rgba(0, 0, 0, 0.15);\n",
              "      filter: drop-shadow(0px 1px 2px rgba(0, 0, 0, 0.3));\n",
              "      fill: #FFFFFF;\n",
              "    }\n",
              "  </style>\n",
              "\n",
              "      <script>\n",
              "        const buttonEl =\n",
              "          document.querySelector('#df-811d89c7-b6f5-4f50-80c6-c633d52d0fc5 button.colab-df-convert');\n",
              "        buttonEl.style.display =\n",
              "          google.colab.kernel.accessAllowed ? 'block' : 'none';\n",
              "\n",
              "        async function convertToInteractive(key) {\n",
              "          const element = document.querySelector('#df-811d89c7-b6f5-4f50-80c6-c633d52d0fc5');\n",
              "          const dataTable =\n",
              "            await google.colab.kernel.invokeFunction('convertToInteractive',\n",
              "                                                     [key], {});\n",
              "          if (!dataTable) return;\n",
              "\n",
              "          const docLinkHtml = 'Like what you see? Visit the ' +\n",
              "            '<a target=\"_blank\" href=https://colab.research.google.com/notebooks/data_table.ipynb>data table notebook</a>'\n",
              "            + ' to learn more about interactive tables.';\n",
              "          element.innerHTML = '';\n",
              "          dataTable['output_type'] = 'display_data';\n",
              "          await google.colab.output.renderOutput(dataTable, element);\n",
              "          const docLink = document.createElement('div');\n",
              "          docLink.innerHTML = docLinkHtml;\n",
              "          element.appendChild(docLink);\n",
              "        }\n",
              "      </script>\n",
              "    </div>\n",
              "  </div>\n",
              "  "
            ]
          },
          "metadata": {}
        }
      ]
    },
    {
      "cell_type": "code",
      "source": [
        "def medidas_resumo_agrupada(df,coluna,agrupamento):\n",
        "  print(coluna+' por '+agrupamento)\n",
        "  print(\"media:\", df.groupby(agrupamento)[coluna].sum().mean())\n",
        "  print(\"mediana:\",df.groupby(agrupamento)[coluna].sum().median())\n",
        "  print(\"moda:\", df.groupby(agrupamento)[coluna].sum().mode())\n",
        "  print(\"max:\", df.groupby(agrupamento)[coluna].sum().max())\n",
        "  print(\"min:\", df.groupby(agrupamento)[coluna].sum().min())\n",
        "\n",
        "def medidas_resumo(df,coluna):\n",
        "  media = df[coluna].mean()\n",
        "  mediana = df[coluna].median()\n",
        "  moda = df[coluna].mode().array\n",
        "  max = df[coluna].max()\n",
        "  min = df[coluna].min()\n",
        "\n",
        "  resultados =  {\n",
        "    \"media\": media,\n",
        "    \"mediana\": mediana,\n",
        "    \"moda\": moda,\n",
        "    \"max\": max,\n",
        "    \"min\": min\n",
        "  }\n",
        "  return resultados"
      ],
      "metadata": {
        "id": "h6-fh-c5arWG"
      },
      "execution_count": null,
      "outputs": []
    },
    {
      "cell_type": "markdown",
      "source": [
        "###Por empresa"
      ],
      "metadata": {
        "id": "kYJ7GTl7z6LT"
      }
    },
    {
      "cell_type": "code",
      "source": [
        "#valor mensal por empresa\n",
        "medidas_resumo_agrupada(df,'valor_mensal','cnpj_empresa')\n",
        "\n",
        "#custo mensal por empresa\n",
        "medidas_resumo_agrupada(df,'custo_mensal','cnpj_empresa')\n",
        "\n",
        "#media horas trabalhadas semanais por empresa\n",
        "medidas_resumo_agrupada(df,'quantidade_horas_trabalhadas_semanais','cnpj_empresa')"
      ],
      "metadata": {
        "id": "G-q_dZJZB0fk",
        "colab": {
          "base_uri": "https://localhost:8080/"
        },
        "outputId": "31c440fd-32de-4906-bf9d-9677b84d8b34"
      },
      "execution_count": null,
      "outputs": [
        {
          "output_type": "stream",
          "name": "stdout",
          "text": [
            "valor_mensal por cnpj_empresa\n",
            "media: 328506.08800360543\n",
            "mediana: 53084.619999999995\n",
            "moda: 0    1000.00\n",
            "1    2167.00\n",
            "2    2300.00\n",
            "3    3025.46\n",
            "4    3600.00\n",
            "5    3900.00\n",
            "6    6000.00\n",
            "7    6400.00\n",
            "dtype: float64\n",
            "max: 37584663.85999952\n",
            "min: 431.2\n",
            "custo_mensal por cnpj_empresa\n",
            "media: 850551.065534022\n",
            "mediana: 142059.15000000005\n",
            "moda: 0     7217.46\n",
            "1    80896.86\n",
            "dtype: float64\n",
            "max: 99904101.8999965\n",
            "min: 1313.65\n",
            "quantidade_horas_trabalhadas_semanais por cnpj_empresa\n",
            "media: 7449.799008562415\n",
            "mediana: 1452.0\n",
            "moda: 0    176.0\n",
            "dtype: float64\n",
            "max: 453040.0\n",
            "min: 10.0\n"
          ]
        }
      ]
    },
    {
      "cell_type": "markdown",
      "source": [
        "###Por terceirizadados"
      ],
      "metadata": {
        "id": "OysGa4Pkz-0k"
      }
    },
    {
      "cell_type": "code",
      "source": [
        "#valor mensal por empresa\n",
        "medidasValorMensal = medidas_resumo(df,'valor_mensal')\n",
        "\n",
        "#custo mensal por empresa\n",
        "medidasCustoMensal = medidas_resumo(df,'custo_mensal')\n",
        "\n",
        "#media horas trabalhadas semanais por empresa\n",
        "medidasHorasMensal = medidas_resumo(df,'quantidade_horas_trabalhadas_semanais')\n",
        "\n",
        "medidas = {\n",
        "    \"valor mensal\": medidasValorMensal,\n",
        "    \"custo mensal\": medidasCustoMensal,\n",
        "    \"horas mensais\": medidasHorasMensal,\n",
        "}\n",
        "\n",
        "medidasDf = pd.DataFrame(medidas)\n",
        "display(medidasDf)\n",
        "\n",
        "#moda categoria_profissional\n",
        "moda_categoria_profissional = df['categoria_profissional'].value_counts().nlargest(10)\n",
        "print(\"10 mais frequentes categoria_profissional:\")\n",
        "print(moda_categoria_profissional)"
      ],
      "metadata": {
        "id": "3VznuwS9HUAN",
        "colab": {
          "base_uri": "https://localhost:8080/",
          "height": 414
        },
        "outputId": "9487d375-8b6d-4365-9b5a-ecb468f60011"
      },
      "execution_count": null,
      "outputs": [
        {
          "output_type": "display_data",
          "data": {
            "text/plain": [
              "        valor mensal custo mensal horas mensais\n",
              "media       1818.378  4708.050784     41.236833\n",
              "mediana      1429.68      4032.79          44.0\n",
              "moda        [1045.0]     [1787.5]        [44.0]\n",
              "max          23839.5     710286.0          57.0\n",
              "min              0.0          0.0          10.0"
            ],
            "text/html": [
              "\n",
              "  <div id=\"df-2e7e6b02-066d-46d3-b781-86cb17a10699\">\n",
              "    <div class=\"colab-df-container\">\n",
              "      <div>\n",
              "<style scoped>\n",
              "    .dataframe tbody tr th:only-of-type {\n",
              "        vertical-align: middle;\n",
              "    }\n",
              "\n",
              "    .dataframe tbody tr th {\n",
              "        vertical-align: top;\n",
              "    }\n",
              "\n",
              "    .dataframe thead th {\n",
              "        text-align: right;\n",
              "    }\n",
              "</style>\n",
              "<table border=\"1\" class=\"dataframe\">\n",
              "  <thead>\n",
              "    <tr style=\"text-align: right;\">\n",
              "      <th></th>\n",
              "      <th>valor mensal</th>\n",
              "      <th>custo mensal</th>\n",
              "      <th>horas mensais</th>\n",
              "    </tr>\n",
              "  </thead>\n",
              "  <tbody>\n",
              "    <tr>\n",
              "      <th>media</th>\n",
              "      <td>1818.378</td>\n",
              "      <td>4708.050784</td>\n",
              "      <td>41.236833</td>\n",
              "    </tr>\n",
              "    <tr>\n",
              "      <th>mediana</th>\n",
              "      <td>1429.68</td>\n",
              "      <td>4032.79</td>\n",
              "      <td>44.0</td>\n",
              "    </tr>\n",
              "    <tr>\n",
              "      <th>moda</th>\n",
              "      <td>[1045.0]</td>\n",
              "      <td>[1787.5]</td>\n",
              "      <td>[44.0]</td>\n",
              "    </tr>\n",
              "    <tr>\n",
              "      <th>max</th>\n",
              "      <td>23839.5</td>\n",
              "      <td>710286.0</td>\n",
              "      <td>57.0</td>\n",
              "    </tr>\n",
              "    <tr>\n",
              "      <th>min</th>\n",
              "      <td>0.0</td>\n",
              "      <td>0.0</td>\n",
              "      <td>10.0</td>\n",
              "    </tr>\n",
              "  </tbody>\n",
              "</table>\n",
              "</div>\n",
              "      <button class=\"colab-df-convert\" onclick=\"convertToInteractive('df-2e7e6b02-066d-46d3-b781-86cb17a10699')\"\n",
              "              title=\"Convert this dataframe to an interactive table.\"\n",
              "              style=\"display:none;\">\n",
              "        \n",
              "  <svg xmlns=\"http://www.w3.org/2000/svg\" height=\"24px\"viewBox=\"0 0 24 24\"\n",
              "       width=\"24px\">\n",
              "    <path d=\"M0 0h24v24H0V0z\" fill=\"none\"/>\n",
              "    <path d=\"M18.56 5.44l.94 2.06.94-2.06 2.06-.94-2.06-.94-.94-2.06-.94 2.06-2.06.94zm-11 1L8.5 8.5l.94-2.06 2.06-.94-2.06-.94L8.5 2.5l-.94 2.06-2.06.94zm10 10l.94 2.06.94-2.06 2.06-.94-2.06-.94-.94-2.06-.94 2.06-2.06.94z\"/><path d=\"M17.41 7.96l-1.37-1.37c-.4-.4-.92-.59-1.43-.59-.52 0-1.04.2-1.43.59L10.3 9.45l-7.72 7.72c-.78.78-.78 2.05 0 2.83L4 21.41c.39.39.9.59 1.41.59.51 0 1.02-.2 1.41-.59l7.78-7.78 2.81-2.81c.8-.78.8-2.07 0-2.86zM5.41 20L4 18.59l7.72-7.72 1.47 1.35L5.41 20z\"/>\n",
              "  </svg>\n",
              "      </button>\n",
              "      \n",
              "  <style>\n",
              "    .colab-df-container {\n",
              "      display:flex;\n",
              "      flex-wrap:wrap;\n",
              "      gap: 12px;\n",
              "    }\n",
              "\n",
              "    .colab-df-convert {\n",
              "      background-color: #E8F0FE;\n",
              "      border: none;\n",
              "      border-radius: 50%;\n",
              "      cursor: pointer;\n",
              "      display: none;\n",
              "      fill: #1967D2;\n",
              "      height: 32px;\n",
              "      padding: 0 0 0 0;\n",
              "      width: 32px;\n",
              "    }\n",
              "\n",
              "    .colab-df-convert:hover {\n",
              "      background-color: #E2EBFA;\n",
              "      box-shadow: 0px 1px 2px rgba(60, 64, 67, 0.3), 0px 1px 3px 1px rgba(60, 64, 67, 0.15);\n",
              "      fill: #174EA6;\n",
              "    }\n",
              "\n",
              "    [theme=dark] .colab-df-convert {\n",
              "      background-color: #3B4455;\n",
              "      fill: #D2E3FC;\n",
              "    }\n",
              "\n",
              "    [theme=dark] .colab-df-convert:hover {\n",
              "      background-color: #434B5C;\n",
              "      box-shadow: 0px 1px 3px 1px rgba(0, 0, 0, 0.15);\n",
              "      filter: drop-shadow(0px 1px 2px rgba(0, 0, 0, 0.3));\n",
              "      fill: #FFFFFF;\n",
              "    }\n",
              "  </style>\n",
              "\n",
              "      <script>\n",
              "        const buttonEl =\n",
              "          document.querySelector('#df-2e7e6b02-066d-46d3-b781-86cb17a10699 button.colab-df-convert');\n",
              "        buttonEl.style.display =\n",
              "          google.colab.kernel.accessAllowed ? 'block' : 'none';\n",
              "\n",
              "        async function convertToInteractive(key) {\n",
              "          const element = document.querySelector('#df-2e7e6b02-066d-46d3-b781-86cb17a10699');\n",
              "          const dataTable =\n",
              "            await google.colab.kernel.invokeFunction('convertToInteractive',\n",
              "                                                     [key], {});\n",
              "          if (!dataTable) return;\n",
              "\n",
              "          const docLinkHtml = 'Like what you see? Visit the ' +\n",
              "            '<a target=\"_blank\" href=https://colab.research.google.com/notebooks/data_table.ipynb>data table notebook</a>'\n",
              "            + ' to learn more about interactive tables.';\n",
              "          element.innerHTML = '';\n",
              "          dataTable['output_type'] = 'display_data';\n",
              "          await google.colab.output.renderOutput(dataTable, element);\n",
              "          const docLink = document.createElement('div');\n",
              "          docLink.innerHTML = docLinkHtml;\n",
              "          element.appendChild(docLink);\n",
              "        }\n",
              "      </script>\n",
              "    </div>\n",
              "  </div>\n",
              "  "
            ]
          },
          "metadata": {}
        },
        {
          "output_type": "stream",
          "name": "stdout",
          "text": [
            "10 mais frequentes categoria_profissional:\n",
            "517330 - VIGILANTE                                      80085\n",
            "514320 - FAXINEIRO                                      72708\n",
            "422105 - RECEPCIONISTA, EM GERAL                        23795\n",
            "411005 - AUXILIAR DE ESCRITORIO                         21254\n",
            "411010 - ASSISTENTE ADMINISTRATIVO                      17281\n",
            "422305 - OPERADOR DE TELEMARKETING ATIVO                17030\n",
            "422310 - OPERADOR DE TELEMARKETING ATIVO E RECEPTIVO    13994\n",
            "351505 - TECNICO EM SECRETARIADO                         8973\n",
            "517410 - PORTEIRO DE EDIFICIOS                           8787\n",
            "422315 - OPERADOR DE TELEMARKETING RECEPTIVO             5474\n",
            "Name: categoria_profissional, dtype: int64\n"
          ]
        }
      ]
    },
    {
      "cell_type": "code",
      "source": [
        "#nivel de escolaridade\n",
        "print(df['nivel_escolaridade'].value_counts().nlargest(20))"
      ],
      "metadata": {
        "id": "MYn1kkQYZ_U8",
        "colab": {
          "base_uri": "https://localhost:8080/"
        },
        "outputId": "c1618500-97e5-424e-8ac9-af3202da18c2"
      },
      "execution_count": null,
      "outputs": [
        {
          "output_type": "stream",
          "name": "stdout",
          "text": [
            "ENSINO MEDIO COMPLETO            170727\n",
            "ENSINO FUNDAMENTAL COMPLETO       92173\n",
            "SEM EXIGENCIA                     49622\n",
            "ENSINO FUNDAMENTAL INCOMPLETO     29372\n",
            "SUPERIOR COMPLETO                 23260\n",
            "CURSO TECNICO COMPLETO            10297\n",
            "ALFABETIZADO                       8821\n",
            "SUPERIOR INCOMPLETO                7037\n",
            "ENSINO MEDIO INCOMPLETO            4510\n",
            "ESPECIALIZACAO/RESIDENCIA          2165\n",
            "NAO SABE LER/ESCREVER               584\n",
            "POS GRADUACAO                       327\n",
            "DOUTORADO                           180\n",
            "MESTRADO                            118\n",
            "19                                   89\n",
            "14                                   83\n",
            "15                                   73\n",
            "16                                   66\n",
            "17                                   62\n",
            "18                                   56\n",
            "Name: nivel_escolaridade, dtype: int64\n"
          ]
        }
      ]
    },
    {
      "cell_type": "markdown",
      "source": [
        "##Histograma"
      ],
      "metadata": {
        "id": "2SeaMRo7-TL-"
      }
    },
    {
      "cell_type": "code",
      "source": [
        "#tercerizados contratados por empresa\n",
        "#horas trabalhadas semanais por empresa\n",
        "#custo mensal"
      ],
      "metadata": {
        "id": "gdwqXTYM-I10"
      },
      "execution_count": null,
      "outputs": []
    },
    {
      "cell_type": "code",
      "source": [
        "#horas trabalhadas semanais\n",
        "df['quantidade_horas_trabalhadas_semanais'].plot.hist(bins=15)"
      ],
      "metadata": {
        "id": "YYmdt7Om3UwO",
        "colab": {
          "base_uri": "https://localhost:8080/",
          "height": 282
        },
        "outputId": "bc83cc56-51a8-47f8-9e3d-cd0b0adb1432"
      },
      "execution_count": null,
      "outputs": [
        {
          "output_type": "execute_result",
          "data": {
            "text/plain": [
              "<matplotlib.axes._subplots.AxesSubplot at 0x7f85b0f04b90>"
            ]
          },
          "metadata": {},
          "execution_count": 47
        },
        {
          "output_type": "display_data",
          "data": {
            "text/plain": [
              "<Figure size 432x288 with 1 Axes>"
            ],
            "image/png": "[encoded data removed]"
          },
          "metadata": {
            "needs_background": "light"
          }
        }
      ]
    },
    {
      "cell_type": "code",
      "source": [
        "#valor mensal\n",
        "df['valor_mensal'].plot.hist(bins=20)"
      ],
      "metadata": {
        "id": "4OOfort73eRL",
        "colab": {
          "base_uri": "https://localhost:8080/",
          "height": 282
        },
        "outputId": "0dfdcbf2-98e5-4d7f-c44c-24e9279a7869"
      },
      "execution_count": null,
      "outputs": [
        {
          "output_type": "execute_result",
          "data": {
            "text/plain": [
              "<matplotlib.axes._subplots.AxesSubplot at 0x7f85b0e07e90>"
            ]
          },
          "metadata": {},
          "execution_count": 48
        },
        {
          "output_type": "display_data",
          "data": {
            "text/plain": [
              "<Figure size 432x288 with 1 Axes>"
            ],
            "image/png": "[encoded data removed]"
          },
          "metadata": {
            "needs_background": "light"
          }
        }
      ]
    },
    {
      "cell_type": "code",
      "source": [
        "#custo mensal\n",
        "df['custo_mensal'].plot.hist(bins=100)\n",
        "sns.distplot(a=df.carat, hist=False)\n",
        "plt.show()\n"
      ],
      "metadata": {
        "id": "w5TxNse4395R",
        "colab": {
          "base_uri": "https://localhost:8080/",
          "height": 588
        },
        "outputId": "834363e9-6531-4691-964c-2d9b8bc19354"
      },
      "execution_count": null,
      "outputs": [
        {
          "output_type": "error",
          "ename": "AttributeError",
          "evalue": "ignored",
          "traceback": [
            "\u001b[0;31m---------------------------------------------------------------------------\u001b[0m",
            "\u001b[0;31mAttributeError\u001b[0m                            Traceback (most recent call last)",
            "\u001b[0;32m<ipython-input-49-ee8c4b9a392d>\u001b[0m in \u001b[0;36m<module>\u001b[0;34m\u001b[0m\n\u001b[1;32m      1\u001b[0m \u001b[0;31m#custo mensal\u001b[0m\u001b[0;34m\u001b[0m\u001b[0;34m\u001b[0m\u001b[0;34m\u001b[0m\u001b[0m\n\u001b[1;32m      2\u001b[0m \u001b[0mdf\u001b[0m\u001b[0;34m[\u001b[0m\u001b[0;34m'custo_mensal'\u001b[0m\u001b[0;34m]\u001b[0m\u001b[0;34m.\u001b[0m\u001b[0mplot\u001b[0m\u001b[0;34m.\u001b[0m\u001b[0mhist\u001b[0m\u001b[0;34m(\u001b[0m\u001b[0mbins\u001b[0m\u001b[0;34m=\u001b[0m\u001b[0;36m100\u001b[0m\u001b[0;34m)\u001b[0m\u001b[0;34m\u001b[0m\u001b[0;34m\u001b[0m\u001b[0m\n\u001b[0;32m----> 3\u001b[0;31m \u001b[0msns\u001b[0m\u001b[0;34m.\u001b[0m\u001b[0mdistplot\u001b[0m\u001b[0;34m(\u001b[0m\u001b[0ma\u001b[0m\u001b[0;34m=\u001b[0m\u001b[0mdf\u001b[0m\u001b[0;34m.\u001b[0m\u001b[0mcarat\u001b[0m\u001b[0;34m,\u001b[0m \u001b[0mhist\u001b[0m\u001b[0;34m=\u001b[0m\u001b[0;32mFalse\u001b[0m\u001b[0;34m)\u001b[0m\u001b[0;34m\u001b[0m\u001b[0;34m\u001b[0m\u001b[0m\n\u001b[0m\u001b[1;32m      4\u001b[0m \u001b[0mplt\u001b[0m\u001b[0;34m.\u001b[0m\u001b[0mshow\u001b[0m\u001b[0;34m(\u001b[0m\u001b[0;34m)\u001b[0m\u001b[0;34m\u001b[0m\u001b[0;34m\u001b[0m\u001b[0m\n",
            "\u001b[0;32m/usr/local/lib/python3.7/dist-packages/pandas/core/generic.py\u001b[0m in \u001b[0;36m__getattr__\u001b[0;34m(self, name)\u001b[0m\n\u001b[1;32m   5463\u001b[0m             \u001b[0;32mif\u001b[0m \u001b[0mself\u001b[0m\u001b[0;34m.\u001b[0m\u001b[0m_info_axis\u001b[0m\u001b[0;34m.\u001b[0m\u001b[0m_can_hold_identifiers_and_holds_name\u001b[0m\u001b[0;34m(\u001b[0m\u001b[0mname\u001b[0m\u001b[0;34m)\u001b[0m\u001b[0;34m:\u001b[0m\u001b[0;34m\u001b[0m\u001b[0;34m\u001b[0m\u001b[0m\n\u001b[1;32m   5464\u001b[0m                 \u001b[0;32mreturn\u001b[0m \u001b[0mself\u001b[0m\u001b[0;34m[\u001b[0m\u001b[0mname\u001b[0m\u001b[0;34m]\u001b[0m\u001b[0;34m\u001b[0m\u001b[0;34m\u001b[0m\u001b[0m\n\u001b[0;32m-> 5465\u001b[0;31m             \u001b[0;32mreturn\u001b[0m \u001b[0mobject\u001b[0m\u001b[0;34m.\u001b[0m\u001b[0m__getattribute__\u001b[0m\u001b[0;34m(\u001b[0m\u001b[0mself\u001b[0m\u001b[0;34m,\u001b[0m \u001b[0mname\u001b[0m\u001b[0;34m)\u001b[0m\u001b[0;34m\u001b[0m\u001b[0;34m\u001b[0m\u001b[0m\n\u001b[0m\u001b[1;32m   5466\u001b[0m \u001b[0;34m\u001b[0m\u001b[0m\n\u001b[1;32m   5467\u001b[0m     \u001b[0;32mdef\u001b[0m \u001b[0m__setattr__\u001b[0m\u001b[0;34m(\u001b[0m\u001b[0mself\u001b[0m\u001b[0;34m,\u001b[0m \u001b[0mname\u001b[0m\u001b[0;34m:\u001b[0m \u001b[0mstr\u001b[0m\u001b[0;34m,\u001b[0m \u001b[0mvalue\u001b[0m\u001b[0;34m)\u001b[0m \u001b[0;34m->\u001b[0m \u001b[0;32mNone\u001b[0m\u001b[0;34m:\u001b[0m\u001b[0;34m\u001b[0m\u001b[0;34m\u001b[0m\u001b[0m\n",
            "\u001b[0;31mAttributeError\u001b[0m: 'DataFrame' object has no attribute 'carat'"
          ]
        },
        {
          "output_type": "display_data",
          "data": {
            "text/plain": [
              "<Figure size 432x288 with 1 Axes>"
            ],
            "image/png": "[encoded data removed]"
          },
          "metadata": {
            "needs_background": "light"
          }
        }
      ]
    },
    {
      "cell_type": "code",
      "source": [
        "\n",
        "#ainda não faz sentido - tentando fazer por empresa\n",
        "df['valor_mensal'].plot.hist(by='cnpj_empresa', bins =15)\n"
      ],
      "metadata": {
        "id": "aM6PCOEq5yAb"
      },
      "execution_count": null,
      "outputs": []
    },
    {
      "cell_type": "markdown",
      "source": [
        "## Medidas de variabilidade"
      ],
      "metadata": {
        "id": "zgLa5jnA_Qw7"
      }
    },
    {
      "cell_type": "code",
      "source": [
        "#desvio padrão\n",
        "#variancia\n",
        "#coeficiente de variação"
      ],
      "metadata": {
        "id": "mwU7YCYL_Umf"
      },
      "execution_count": null,
      "outputs": []
    },
    {
      "cell_type": "code",
      "source": [
        "#desvio padrão e variancia valor_mensal\n",
        "std_valor_mensal= df['valor_mensal'].std()\n",
        "print(\"desvio padrão valor_mensal:\", std_valor_mensal)\n",
        "\n",
        "var_valor_mensal= df['valor_mensal'].var()\n",
        "print(\"variancia valor_mensal:\", var_valor_mensal)\n",
        "\n",
        "\n",
        "#desvio padrão e variancia custo_mensal\n",
        "std_custo_mensal= df['custo_mensal'].std()\n",
        "print(\"desvio padrão custo_mensal:\", std_custo_mensal)\n",
        "\n",
        "var_custo_mensal= df['custo_mensal'].var()\n",
        "print(\"variancia custo_mensal:\", var_custo_mensal)\n",
        "\n",
        "#desvio padrao e variancia horas_trabalhadas\n",
        "std_horas_trabalhadas_semanais= df['quantidade_horas_trabalhadas_semanais'].std()\n",
        "print(\"std_horas_trabalhadas_semanais:\", std_horas_trabalhadas_semanais)\n",
        "\n",
        "var_horas_trabalhadas_semanais= df['quantidade_horas_trabalhadas_semanais'].var()\n",
        "print(\"var_horas_trabalhadas_semanais:\", var_horas_trabalhadas_semanais)\n"
      ],
      "metadata": {
        "id": "XQzvhdX_72ej"
      },
      "execution_count": null,
      "outputs": []
    },
    {
      "cell_type": "markdown",
      "source": [
        "## Avaliação de normalidade"
      ],
      "metadata": {
        "id": "dTdPh6n1_VZi"
      }
    },
    {
      "cell_type": "code",
      "source": [],
      "metadata": {
        "id": "quuGAyEI_f_K"
      },
      "execution_count": null,
      "outputs": []
    },
    {
      "cell_type": "markdown",
      "source": [
        "## Medidas separatrizes"
      ],
      "metadata": {
        "id": "Td7gTavw_gRN"
      }
    },
    {
      "cell_type": "markdown",
      "source": [
        "###Boxplot"
      ],
      "metadata": {
        "id": "vYMOcB7U_E2k"
      }
    },
    {
      "cell_type": "code",
      "source": [
        "def make_boxplot(df,coluna):\n",
        "  bp = df.boxplot(column=[coluna], return_type ='dict')\n",
        "  outliers = [flier.get_ydata() for flier in bp[\"fliers\"]]\n",
        "  outliers = outliers[0]\n",
        "  print(\"Número de outliers:\", len(outliers))\n",
        "  medians = [item.get_ydata()[0] for item in bp['medians']]\n",
        "  means = df[coluna].mean()\n",
        "  print(f'Mediana: {medians}\\n'\n",
        "        f'Media:   {means}')  \n",
        "  q1 = [round(min(item.get_ydata()), 1) for item in bp['boxes']]\n",
        "  q3 = [round(max(item.get_ydata()), 1) for item in bp['boxes']]\n",
        "  print(f'Q1: {q1}\\n'\n",
        "        f'Q3: {q3}')"
      ],
      "metadata": {
        "id": "PZhzOMbvXGxC"
      },
      "execution_count": null,
      "outputs": []
    },
    {
      "cell_type": "markdown",
      "source": [
        "#### Com outliers"
      ],
      "metadata": {
        "id": "9ACQzJgnQMyB"
      }
    },
    {
      "cell_type": "code",
      "source": [
        "make_boxplot(df,'quantidade_horas_trabalhadas_semanais')"
      ],
      "metadata": {
        "id": "-JLgZL_rXjP6"
      },
      "execution_count": null,
      "outputs": []
    },
    {
      "cell_type": "code",
      "source": [
        "make_boxplot(df,'valor_mensal')"
      ],
      "metadata": {
        "id": "7kzlwYfX_bvz"
      },
      "execution_count": null,
      "outputs": []
    },
    {
      "cell_type": "code",
      "source": [
        "make_boxplot(df,'custo_mensal')"
      ],
      "metadata": {
        "id": "4GhSi7bL_l1T"
      },
      "execution_count": null,
      "outputs": []
    },
    {
      "cell_type": "markdown",
      "source": [
        "####Sem outliers"
      ],
      "metadata": {
        "id": "M6sNF72bQiF5"
      }
    },
    {
      "cell_type": "code",
      "source": [
        "df.boxplot(column=['quantidade_horas_trabalhadas_semanais'], showfliers=False)"
      ],
      "metadata": {
        "id": "AklVVsdDQwIP"
      },
      "execution_count": null,
      "outputs": []
    },
    {
      "cell_type": "code",
      "source": [
        "df.boxplot(column=['valor_mensal'], showfliers=False)\n"
      ],
      "metadata": {
        "id": "o4T7EMIwQwAY"
      },
      "execution_count": null,
      "outputs": []
    },
    {
      "cell_type": "code",
      "source": [
        "df.boxplot(column=['custo_mensal'], showfliers=False)"
      ],
      "metadata": {
        "id": "WuDxoSrzQpNQ"
      },
      "execution_count": null,
      "outputs": []
    },
    {
      "cell_type": "code",
      "source": [],
      "metadata": {
        "id": "NSg_2sQfH1hl"
      },
      "execution_count": null,
      "outputs": []
    },
    {
      "cell_type": "markdown",
      "source": [
        "# Regressão Linear Multipla\n",
        "\n"
      ],
      "metadata": {
        "id": "bsT7s2KxHqBx"
      }
    },
    {
      "cell_type": "code",
      "source": [
        "from sklearn import linear_model\n",
        "import warnings\n",
        "from sklearn.metrics import r2_score\n",
        "warnings.filterwarnings('ignore')"
      ],
      "metadata": {
        "id": "fg7vzg2SIe8r"
      },
      "execution_count": null,
      "outputs": []
    },
    {
      "cell_type": "code",
      "source": [
        "def printarParametros(model, X, y):\n",
        "  print(\"Intercept\")\n",
        "  print(model.intercept_)\n",
        "  print(\"\\nCoeficientes calculados\")\n",
        "  print(model.coef_)\n",
        "\n",
        "  print(\"\\nR²\")\n",
        "  print(model.score(X, y))\n"
      ],
      "metadata": {
        "id": "smpvXfqvIoJb"
      },
      "execution_count": null,
      "outputs": []
    },
    {
      "cell_type": "code",
      "source": [
        "def criarRegressao(X,y):\n",
        "  regr = linear_model.LinearRegression()\n",
        "  regr.fit(X, y)\n",
        "  return regr;\n",
        "\n"
      ],
      "metadata": {
        "id": "2B35tEucJL_h"
      },
      "execution_count": null,
      "outputs": []
    },
    {
      "cell_type": "code",
      "source": [
        "#filteredDf = df\n",
        "filteredDf = df[df['custo_mensal'] < 200000]\n",
        "\n",
        "X = filteredDf[['valor_mensal','quantidade_horas_trabalhadas_semanais']]\n",
        "y = filteredDf['custo_mensal']\n",
        "\n",
        "reg = criarRegressao(X, y)\n",
        "printarParametros(reg, filteredDf[['valor_mensal','quantidade_horas_trabalhadas_semanais']], filteredDf['custo_mensal'])\n"
      ],
      "metadata": {
        "id": "Ho-6-d7TJ8ZX"
      },
      "execution_count": null,
      "outputs": []
    },
    {
      "cell_type": "code",
      "source": [
        "import statsmodels.api as sm\n",
        "from scipy import stats\n",
        "\n",
        "X2 = sm.add_constant(X)\n",
        "est = sm.OLS(y, X2)\n",
        "est2 = est.fit()\n",
        "print(est2.summary())\n"
      ],
      "metadata": {
        "id": "hJEhztGsFmI8"
      },
      "execution_count": null,
      "outputs": []
    },
    {
      "cell_type": "code",
      "source": [
        "# modify figure size\n",
        "fig = plt.figure(figsize=(14, 8))\n",
        "  \n",
        "# creating regression plots\n",
        "fig = sm.graphics.plot_regress_exog(est2, \"valor_mensal\", fig=fig)"
      ],
      "metadata": {
        "id": "MitOxzFXWTHx"
      },
      "execution_count": null,
      "outputs": []
    },
    {
      "cell_type": "markdown",
      "source": [
        "# Análise de Variância\n",
        "\n",
        "Nesta seção iramos utilizar as técnicas de análise de variância ANOVA / MANOVA\n",
        "\n",
        "tais técnicas permitem entender se um certo tratamento (ou grupo) possui efeito para certa variável dependente (ANOVA) ou certas variáveis dependentes (MANOVA)\n",
        "determinando o quão acima da pura natureza aleatória dos dados é o tratamento validando-se através da estatística F."
      ],
      "metadata": {
        "id": "noGWmiLIfZuZ"
      }
    },
    {
      "cell_type": "markdown",
      "source": [
        "## Teste das suposições estatísticas para aplicação da ANOVA / MANOVA"
      ],
      "metadata": {
        "id": "tlmX9hPhgEPN"
      }
    },
    {
      "cell_type": "markdown",
      "source": [
        "### Normalidade"
      ],
      "metadata": {
        "id": "8RMxaLYEgJKR"
      }
    },
    {
      "cell_type": "code",
      "source": [
        "# importa teste de shapiro\n",
        "from scipy.stats import norm\n",
        "from scipy.stats import kstest\n",
        "import scipy.stats as stats\n",
        "\n",
        "import math\n",
        "\n",
        "def normalityTest(title, data):\n",
        "  x = np.linspace(data.min(), data.max(), 100)\n",
        "  mu, std = norm.fit(data) \n",
        "  p = norm.pdf(x, mu, std)\n",
        "  plt.hist(data, bins=math.floor(50), density=True, alpha=0.6)\n",
        "  plt.plot(x, p, 'k', linewidth=2)\n",
        "  plt.title('normalidade para ' + title)\n",
        "  plt.show()\n",
        "  \n",
        "  print('teste de Kolmogorov', kstest(data, 'norm'))"
      ],
      "metadata": {
        "id": "T1UKNfieidG7"
      },
      "execution_count": null,
      "outputs": []
    },
    {
      "cell_type": "code",
      "source": [
        "# teste de normalidade para variável custo mensal dividido pelo ano\n",
        "# Plot the PDF.\n",
        "\n",
        "custoMensal = df[df['custo_mensal'] < 200000]['custo_mensal']\n",
        "filteredCustoMensal =  df[(df['custo_mensal'] > 0) & (df['custo_mensal'] < 10000)]\n",
        "\n",
        "custoMensalAno2019 = filteredCustoMensal['valor_mensal'][filteredCustoMensal['ano'] == 2019];\n",
        "custoMensalAno2020 = filteredCustoMensal['valor_mensal'][filteredCustoMensal['ano'] == 2020];\n",
        "custoMensalAno2021 = filteredCustoMensal['valor_mensal'][filteredCustoMensal['ano'] == 2021];\n",
        "\n",
        "normalityTest('Valor mensal para o ano de 2019', custoMensalAno2019)\n",
        "normalityTest('Valor mensal para o ano de 2020', custoMensalAno2020)\n",
        "normalityTest('Valor mensal para o ano de 2021', custoMensalAno2021)"
      ],
      "metadata": {
        "id": "bO7A8XwjgMrr",
        "colab": {
          "base_uri": "https://localhost:8080/",
          "height": 861
        },
        "outputId": "029b1bd5-f15c-435b-e95a-ab8f24526614"
      },
      "execution_count": null,
      "outputs": [
        {
          "output_type": "display_data",
          "data": {
            "text/plain": [
              "<Figure size 432x288 with 1 Axes>"
            ],
            "image/png": "[encoded data removed]"
          },
          "metadata": {
            "needs_background": "light"
          }
        },
        {
          "output_type": "stream",
          "name": "stdout",
          "text": [
            "teste de Kolmogorov KstestResult(statistic=0.9999838658933051, pvalue=0.0)\n"
          ]
        },
        {
          "output_type": "display_data",
          "data": {
            "text/plain": [
              "<Figure size 432x288 with 1 Axes>"
            ],
            "image/png": "[encoded data removed]"
          },
          "metadata": {
            "needs_background": "light"
          }
        },
        {
          "output_type": "stream",
          "name": "stdout",
          "text": [
            "teste de Kolmogorov KstestResult(statistic=0.9999907840896524, pvalue=0.0)\n"
          ]
        },
        {
          "output_type": "display_data",
          "data": {
            "text/plain": [
              "<Figure size 432x288 with 1 Axes>"
            ],
            "image/png": "[encoded data removed]"
          },
          "metadata": {
            "needs_background": "light"
          }
        },
        {
          "output_type": "stream",
          "name": "stdout",
          "text": [
            "teste de Kolmogorov KstestResult(statistic=0.9999529557246163, pvalue=0.0)\n"
          ]
        }
      ]
    },
    {
      "cell_type": "code",
      "source": [
        "# teste de normalidade para variável custo mensal dividido pela escolaridade\n",
        "# Plot the PDF.\n",
        "\n",
        "custoMensal = df[df['custo_mensal'] < 200000]['custo_mensal']\n",
        "filteredCustoMensal =  df[(df['custo_mensal'] > 0) & (df['custo_mensal'] < 10000)]\n",
        "\n",
        "escolaridades = ['ENSINO MEDIO COMPLETO',\n",
        "'SUPERIOR COMPLETO',\n",
        "'ENSINO FUNDAMENTAL INCOMPLETO',\n",
        "'CURSO TECNICO COMPLETO',\n",
        "'NAO SABE LER/ESCREVER',\n",
        "'ENSINO FUNDAMENTAL COMPLETO',\n",
        "'ENSINO MEDIO INCOMPLETO',\n",
        "'POS GRADUACAO']\n",
        "\n",
        "for escolaridade in escolaridades:\n",
        "  normalityTest(f'Valor mensal para escolaridade={escolaridade}', filteredCustoMensal['valor_mensal'][filteredCustoMensal['nivel_escolaridade'] == escolaridade])\n"
      ],
      "metadata": {
        "id": "pAWRa4IlGaN7",
        "colab": {
          "base_uri": "https://localhost:8080/",
          "height": 1000
        },
        "outputId": "34b240cc-d3ab-4e87-c21d-7a7d2aeab2dd"
      },
      "execution_count": null,
      "outputs": [
        {
          "output_type": "display_data",
          "data": {
            "text/plain": [
              "<Figure size 432x288 with 1 Axes>"
            ],
            "image/png": "[encoded data removed]"
          },
          "metadata": {
            "needs_background": "light"
          }
        },
        {
          "output_type": "stream",
          "name": "stdout",
          "text": [
            "teste de Kolmogorov KstestResult(statistic=0.9999579377478668, pvalue=0.0)\n"
          ]
        },
        {
          "output_type": "display_data",
          "data": {
            "text/plain": [
              "<Figure size 432x288 with 1 Axes>"
            ],
            "image/png": "[encoded data removed]"
          },
          "metadata": {
            "needs_background": "light"
          }
        },
        {
          "output_type": "stream",
          "name": "stdout",
          "text": [
            "teste de Kolmogorov KstestResult(statistic=1.0, pvalue=0.0)\n"
          ]
        },
        {
          "output_type": "display_data",
          "data": {
            "text/plain": [
              "<Figure size 432x288 with 1 Axes>"
            ],
            "image/png": "[encoded data removed]"
          },
          "metadata": {
            "needs_background": "light"
          }
        },
        {
          "output_type": "stream",
          "name": "stdout",
          "text": [
            "teste de Kolmogorov KstestResult(statistic=1.0, pvalue=0.0)\n"
          ]
        },
        {
          "output_type": "display_data",
          "data": {
            "text/plain": [
              "<Figure size 432x288 with 1 Axes>"
            ],
            "image/png": "[encoded data removed]"
          },
          "metadata": {
            "needs_background": "light"
          }
        },
        {
          "output_type": "stream",
          "name": "stdout",
          "text": [
            "teste de Kolmogorov KstestResult(statistic=1.0, pvalue=0.0)\n"
          ]
        },
        {
          "output_type": "display_data",
          "data": {
            "text/plain": [
              "<Figure size 432x288 with 1 Axes>"
            ],
            "image/png": "[encoded data removed]"
          },
          "metadata": {
            "needs_background": "light"
          }
        },
        {
          "output_type": "stream",
          "name": "stdout",
          "text": [
            "teste de Kolmogorov KstestResult(statistic=1.0, pvalue=0.0)\n"
          ]
        },
        {
          "output_type": "display_data",
          "data": {
            "text/plain": [
              "<Figure size 432x288 with 1 Axes>"
            ],
            "image/png": "[encoded data removed]"
          },
          "metadata": {
            "needs_background": "light"
          }
        },
        {
          "output_type": "stream",
          "name": "stdout",
          "text": [
            "teste de Kolmogorov KstestResult(statistic=0.999988999989, pvalue=0.0)\n"
          ]
        },
        {
          "output_type": "display_data",
          "data": {
            "text/plain": [
              "<Figure size 432x288 with 1 Axes>"
            ],
            "image/png": "[encoded data removed]"
          },
          "metadata": {
            "needs_background": "light"
          }
        },
        {
          "output_type": "stream",
          "name": "stdout",
          "text": [
            "teste de Kolmogorov KstestResult(statistic=1.0, pvalue=0.0)\n"
          ]
        },
        {
          "output_type": "display_data",
          "data": {
            "text/plain": [
              "<Figure size 432x288 with 1 Axes>"
            ],
            "image/png": "[encoded data removed]"
          },
          "metadata": {
            "needs_background": "light"
          }
        },
        {
          "output_type": "stream",
          "name": "stdout",
          "text": [
            "teste de Kolmogorov KstestResult(statistic=1.0, pvalue=0.0)\n"
          ]
        }
      ]
    },
    {
      "cell_type": "code",
      "source": [
        "# teste de normalidade para variável salário mensal\n",
        "# Plot the PDF.\n",
        "\n",
        "salarioMensal = df['valor_mensal']\n",
        "filteredSalarioMensal =  df[(df['valor_mensal'] > 0) & (df['valor_mensal'] < 8000)]['valor_mensal']\n",
        "\n",
        "normalityTest('Salário mensal todo intervalo', salarioMensal)\n",
        "normalityTest('Salário mensal intervalo 0 até 8000', filteredSalarioMensal)"
      ],
      "metadata": {
        "colab": {
          "base_uri": "https://localhost:8080/",
          "height": 580
        },
        "id": "mq3I-9_BwU17",
        "outputId": "90033eef-d4b6-42f7-edb6-2d7c2f86b66a"
      },
      "execution_count": null,
      "outputs": [
        {
          "output_type": "display_data",
          "data": {
            "text/plain": [
              "<Figure size 432x288 with 1 Axes>"
            ],
            "image/png": "[encoded data removed]"
          },
          "metadata": {
            "needs_background": "light"
          }
        },
        {
          "output_type": "stream",
          "name": "stdout",
          "text": [
            "teste de Kolmogorov KstestResult(statistic=0.9999600880059469, pvalue=0.0)\n"
          ]
        },
        {
          "output_type": "display_data",
          "data": {
            "text/plain": [
              "<Figure size 432x288 with 1 Axes>"
            ],
            "image/png": "[encoded data removed]"
          },
          "metadata": {
            "needs_background": "light"
          }
        },
        {
          "output_type": "stream",
          "name": "stdout",
          "text": [
            "teste de Kolmogorov KstestResult(statistic=0.999997484181793, pvalue=0.0)\n"
          ]
        }
      ]
    },
    {
      "cell_type": "code",
      "source": [
        "# teste de normalidade para variável salário mensal\n",
        "# Plot the PDF.\n",
        "\n",
        "salarioMensal = df['quantidade_horas_trabalhadas_semanais']\n",
        "filteredSalarioMensal =  df[(df['quantidade_horas_trabalhadas_semanais'] > 0) & (df['quantidade_horas_trabalhadas_semanais'] < 8000)]['quantidade_horas_trabalhadas_semanais']\n",
        "\n",
        "normalityTest('Salário mensal todo intervalo', salarioMensal)\n",
        "normalityTest('Salário mensal intervalo 0 até 8000', filteredSalarioMensal)"
      ],
      "metadata": {
        "colab": {
          "base_uri": "https://localhost:8080/",
          "height": 580
        },
        "id": "6qlBO_-eyytW",
        "outputId": "d8074b78-51c0-4669-f589-f8b6fbe1db50"
      },
      "execution_count": null,
      "outputs": [
        {
          "output_type": "display_data",
          "data": {
            "text/plain": [
              "<Figure size 432x288 with 1 Axes>"
            ],
            "image/png": "[encoded data removed]"
          },
          "metadata": {
            "needs_background": "light"
          }
        },
        {
          "output_type": "stream",
          "name": "stdout",
          "text": [
            "teste de Kolmogorov KstestResult(statistic=1.0, pvalue=0.0)\n"
          ]
        },
        {
          "output_type": "display_data",
          "data": {
            "text/plain": [
              "<Figure size 432x288 with 1 Axes>"
            ],
            "image/png": "[encoded data removed]"
          },
          "metadata": {
            "needs_background": "light"
          }
        },
        {
          "output_type": "stream",
          "name": "stdout",
          "text": [
            "teste de Kolmogorov KstestResult(statistic=1.0, pvalue=0.0)\n"
          ]
        }
      ]
    },
    {
      "cell_type": "markdown",
      "source": [
        "### Variância\n",
        "\n",
        "As variancias dentre os grupos precisam ser semelhantes"
      ],
      "metadata": {
        "id": "v3WAl5vAQwMR"
      }
    },
    {
      "cell_type": "code",
      "source": [
        "filteredDf =  df[(df['custo_mensal'] > 0) & (df['custo_mensal'] < 10000)]\n",
        "\n",
        "varianciasEscolaridade = {\n",
        "           'ENSINO MEDIO COMPLETO': filteredDf['valor_mensal'][filteredDf['nivel_escolaridade'] == 'ENSINO MEDIO COMPLETO'].var(),\n",
        "           'SUPERIOR COMPLETO': filteredDf['valor_mensal'][filteredDf['nivel_escolaridade'] == 'SUPERIOR COMPLETO'].var(),\n",
        "           'ENSINO FUNDAMENTAL INCOMPLETO': filteredDf['valor_mensal'][filteredDf['nivel_escolaridade'] == 'ENSINO FUNDAMENTAL INCOMPLETO'].var(),\n",
        "           'CURSO TECNICO COMPLETO': filteredDf['valor_mensal'][filteredDf['nivel_escolaridade'] == 'CURSO TECNICO COMPLETO'].var(),\n",
        "           'ENSINO FUNDAMENTAL COMPLETO': filteredDf['valor_mensal'][filteredDf['nivel_escolaridade'] == 'ENSINO FUNDAMENTAL COMPLETO'].var(),\n",
        "           'ENSINO MEDIO INCOMPLETO': filteredDf['valor_mensal'][filteredDf['nivel_escolaridade'] == 'ENSINO MEDIO INCOMPLETO'].var(),\n",
        "           'POS GRADUACAO': filteredDf['valor_mensal'][filteredDf['nivel_escolaridade'] == 'POS GRADUACAO'].var()\n",
        "          }\n",
        "\n",
        "varianciasAno = {\n",
        "    '2019':  filteredDf['valor_mensal'][filteredDf['ano'] == 2019].var(),\n",
        "    '2020':  filteredDf['valor_mensal'][filteredDf['ano'] == 2020].var(),\n",
        "    '2021':  filteredDf['valor_mensal'][filteredDf['ano'] == 2021].var()\n",
        "}\n",
        "\n",
        "display(pd.DataFrame.from_dict(varianciasEscolaridade, orient='index'))\n",
        "display(pd.DataFrame.from_dict(varianciasAno, orient='index'))\n",
        "\n"
      ],
      "metadata": {
        "id": "6PkfJjM0Q5tg",
        "colab": {
          "base_uri": "https://localhost:8080/",
          "height": 395
        },
        "outputId": "ece8cf0b-fba2-4542-a0a0-e09e5c951920"
      },
      "execution_count": null,
      "outputs": [
        {
          "output_type": "display_data",
          "data": {
            "text/plain": [
              "                                          0\n",
              "ENSINO MEDIO COMPLETO          5.184828e+05\n",
              "SUPERIOR COMPLETO              1.884511e+06\n",
              "ENSINO FUNDAMENTAL INCOMPLETO  2.188040e+05\n",
              "CURSO TECNICO COMPLETO         3.456708e+05\n",
              "ENSINO FUNDAMENTAL COMPLETO    2.421168e+05\n",
              "ENSINO MEDIO INCOMPLETO        2.605698e+05\n",
              "POS GRADUACAO                  8.157338e+05"
            ],
            "text/html": [
              "\n",
              "  <div id=\"df-4d642a02-4cb6-476e-9984-b3f03fccb619\">\n",
              "    <div class=\"colab-df-container\">\n",
              "      <div>\n",
              "<style scoped>\n",
              "    .dataframe tbody tr th:only-of-type {\n",
              "        vertical-align: middle;\n",
              "    }\n",
              "\n",
              "    .dataframe tbody tr th {\n",
              "        vertical-align: top;\n",
              "    }\n",
              "\n",
              "    .dataframe thead th {\n",
              "        text-align: right;\n",
              "    }\n",
              "</style>\n",
              "<table border=\"1\" class=\"dataframe\">\n",
              "  <thead>\n",
              "    <tr style=\"text-align: right;\">\n",
              "      <th></th>\n",
              "      <th>0</th>\n",
              "    </tr>\n",
              "  </thead>\n",
              "  <tbody>\n",
              "    <tr>\n",
              "      <th>ENSINO MEDIO COMPLETO</th>\n",
              "      <td>5.184828e+05</td>\n",
              "    </tr>\n",
              "    <tr>\n",
              "      <th>SUPERIOR COMPLETO</th>\n",
              "      <td>1.884511e+06</td>\n",
              "    </tr>\n",
              "    <tr>\n",
              "      <th>ENSINO FUNDAMENTAL INCOMPLETO</th>\n",
              "      <td>2.188040e+05</td>\n",
              "    </tr>\n",
              "    <tr>\n",
              "      <th>CURSO TECNICO COMPLETO</th>\n",
              "      <td>3.456708e+05</td>\n",
              "    </tr>\n",
              "    <tr>\n",
              "      <th>ENSINO FUNDAMENTAL COMPLETO</th>\n",
              "      <td>2.421168e+05</td>\n",
              "    </tr>\n",
              "    <tr>\n",
              "      <th>ENSINO MEDIO INCOMPLETO</th>\n",
              "      <td>2.605698e+05</td>\n",
              "    </tr>\n",
              "    <tr>\n",
              "      <th>POS GRADUACAO</th>\n",
              "      <td>8.157338e+05</td>\n",
              "    </tr>\n",
              "  </tbody>\n",
              "</table>\n",
              "</div>\n",
              "      <button class=\"colab-df-convert\" onclick=\"convertToInteractive('df-4d642a02-4cb6-476e-9984-b3f03fccb619')\"\n",
              "              title=\"Convert this dataframe to an interactive table.\"\n",
              "              style=\"display:none;\">\n",
              "        \n",
              "  <svg xmlns=\"http://www.w3.org/2000/svg\" height=\"24px\"viewBox=\"0 0 24 24\"\n",
              "       width=\"24px\">\n",
              "    <path d=\"M0 0h24v24H0V0z\" fill=\"none\"/>\n",
              "    <path d=\"M18.56 5.44l.94 2.06.94-2.06 2.06-.94-2.06-.94-.94-2.06-.94 2.06-2.06.94zm-11 1L8.5 8.5l.94-2.06 2.06-.94-2.06-.94L8.5 2.5l-.94 2.06-2.06.94zm10 10l.94 2.06.94-2.06 2.06-.94-2.06-.94-.94-2.06-.94 2.06-2.06.94z\"/><path d=\"M17.41 7.96l-1.37-1.37c-.4-.4-.92-.59-1.43-.59-.52 0-1.04.2-1.43.59L10.3 9.45l-7.72 7.72c-.78.78-.78 2.05 0 2.83L4 21.41c.39.39.9.59 1.41.59.51 0 1.02-.2 1.41-.59l7.78-7.78 2.81-2.81c.8-.78.8-2.07 0-2.86zM5.41 20L4 18.59l7.72-7.72 1.47 1.35L5.41 20z\"/>\n",
              "  </svg>\n",
              "      </button>\n",
              "      \n",
              "  <style>\n",
              "    .colab-df-container {\n",
              "      display:flex;\n",
              "      flex-wrap:wrap;\n",
              "      gap: 12px;\n",
              "    }\n",
              "\n",
              "    .colab-df-convert {\n",
              "      background-color: #E8F0FE;\n",
              "      border: none;\n",
              "      border-radius: 50%;\n",
              "      cursor: pointer;\n",
              "      display: none;\n",
              "      fill: #1967D2;\n",
              "      height: 32px;\n",
              "      padding: 0 0 0 0;\n",
              "      width: 32px;\n",
              "    }\n",
              "\n",
              "    .colab-df-convert:hover {\n",
              "      background-color: #E2EBFA;\n",
              "      box-shadow: 0px 1px 2px rgba(60, 64, 67, 0.3), 0px 1px 3px 1px rgba(60, 64, 67, 0.15);\n",
              "      fill: #174EA6;\n",
              "    }\n",
              "\n",
              "    [theme=dark] .colab-df-convert {\n",
              "      background-color: #3B4455;\n",
              "      fill: #D2E3FC;\n",
              "    }\n",
              "\n",
              "    [theme=dark] .colab-df-convert:hover {\n",
              "      background-color: #434B5C;\n",
              "      box-shadow: 0px 1px 3px 1px rgba(0, 0, 0, 0.15);\n",
              "      filter: drop-shadow(0px 1px 2px rgba(0, 0, 0, 0.3));\n",
              "      fill: #FFFFFF;\n",
              "    }\n",
              "  </style>\n",
              "\n",
              "      <script>\n",
              "        const buttonEl =\n",
              "          document.querySelector('#df-4d642a02-4cb6-476e-9984-b3f03fccb619 button.colab-df-convert');\n",
              "        buttonEl.style.display =\n",
              "          google.colab.kernel.accessAllowed ? 'block' : 'none';\n",
              "\n",
              "        async function convertToInteractive(key) {\n",
              "          const element = document.querySelector('#df-4d642a02-4cb6-476e-9984-b3f03fccb619');\n",
              "          const dataTable =\n",
              "            await google.colab.kernel.invokeFunction('convertToInteractive',\n",
              "                                                     [key], {});\n",
              "          if (!dataTable) return;\n",
              "\n",
              "          const docLinkHtml = 'Like what you see? Visit the ' +\n",
              "            '<a target=\"_blank\" href=https://colab.research.google.com/notebooks/data_table.ipynb>data table notebook</a>'\n",
              "            + ' to learn more about interactive tables.';\n",
              "          element.innerHTML = '';\n",
              "          dataTable['output_type'] = 'display_data';\n",
              "          await google.colab.output.renderOutput(dataTable, element);\n",
              "          const docLink = document.createElement('div');\n",
              "          docLink.innerHTML = docLinkHtml;\n",
              "          element.appendChild(docLink);\n",
              "        }\n",
              "      </script>\n",
              "    </div>\n",
              "  </div>\n",
              "  "
            ]
          },
          "metadata": {}
        },
        {
          "output_type": "display_data",
          "data": {
            "text/plain": [
              "                  0\n",
              "2019  487090.536559\n",
              "2020  563784.696593\n",
              "2021  517584.048810"
            ],
            "text/html": [
              "\n",
              "  <div id=\"df-be285ae9-1316-4503-acf4-96e6c7499306\">\n",
              "    <div class=\"colab-df-container\">\n",
              "      <div>\n",
              "<style scoped>\n",
              "    .dataframe tbody tr th:only-of-type {\n",
              "        vertical-align: middle;\n",
              "    }\n",
              "\n",
              "    .dataframe tbody tr th {\n",
              "        vertical-align: top;\n",
              "    }\n",
              "\n",
              "    .dataframe thead th {\n",
              "        text-align: right;\n",
              "    }\n",
              "</style>\n",
              "<table border=\"1\" class=\"dataframe\">\n",
              "  <thead>\n",
              "    <tr style=\"text-align: right;\">\n",
              "      <th></th>\n",
              "      <th>0</th>\n",
              "    </tr>\n",
              "  </thead>\n",
              "  <tbody>\n",
              "    <tr>\n",
              "      <th>2019</th>\n",
              "      <td>487090.536559</td>\n",
              "    </tr>\n",
              "    <tr>\n",
              "      <th>2020</th>\n",
              "      <td>563784.696593</td>\n",
              "    </tr>\n",
              "    <tr>\n",
              "      <th>2021</th>\n",
              "      <td>517584.048810</td>\n",
              "    </tr>\n",
              "  </tbody>\n",
              "</table>\n",
              "</div>\n",
              "      <button class=\"colab-df-convert\" onclick=\"convertToInteractive('df-be285ae9-1316-4503-acf4-96e6c7499306')\"\n",
              "              title=\"Convert this dataframe to an interactive table.\"\n",
              "              style=\"display:none;\">\n",
              "        \n",
              "  <svg xmlns=\"http://www.w3.org/2000/svg\" height=\"24px\"viewBox=\"0 0 24 24\"\n",
              "       width=\"24px\">\n",
              "    <path d=\"M0 0h24v24H0V0z\" fill=\"none\"/>\n",
              "    <path d=\"M18.56 5.44l.94 2.06.94-2.06 2.06-.94-2.06-.94-.94-2.06-.94 2.06-2.06.94zm-11 1L8.5 8.5l.94-2.06 2.06-.94-2.06-.94L8.5 2.5l-.94 2.06-2.06.94zm10 10l.94 2.06.94-2.06 2.06-.94-2.06-.94-.94-2.06-.94 2.06-2.06.94z\"/><path d=\"M17.41 7.96l-1.37-1.37c-.4-.4-.92-.59-1.43-.59-.52 0-1.04.2-1.43.59L10.3 9.45l-7.72 7.72c-.78.78-.78 2.05 0 2.83L4 21.41c.39.39.9.59 1.41.59.51 0 1.02-.2 1.41-.59l7.78-7.78 2.81-2.81c.8-.78.8-2.07 0-2.86zM5.41 20L4 18.59l7.72-7.72 1.47 1.35L5.41 20z\"/>\n",
              "  </svg>\n",
              "      </button>\n",
              "      \n",
              "  <style>\n",
              "    .colab-df-container {\n",
              "      display:flex;\n",
              "      flex-wrap:wrap;\n",
              "      gap: 12px;\n",
              "    }\n",
              "\n",
              "    .colab-df-convert {\n",
              "      background-color: #E8F0FE;\n",
              "      border: none;\n",
              "      border-radius: 50%;\n",
              "      cursor: pointer;\n",
              "      display: none;\n",
              "      fill: #1967D2;\n",
              "      height: 32px;\n",
              "      padding: 0 0 0 0;\n",
              "      width: 32px;\n",
              "    }\n",
              "\n",
              "    .colab-df-convert:hover {\n",
              "      background-color: #E2EBFA;\n",
              "      box-shadow: 0px 1px 2px rgba(60, 64, 67, 0.3), 0px 1px 3px 1px rgba(60, 64, 67, 0.15);\n",
              "      fill: #174EA6;\n",
              "    }\n",
              "\n",
              "    [theme=dark] .colab-df-convert {\n",
              "      background-color: #3B4455;\n",
              "      fill: #D2E3FC;\n",
              "    }\n",
              "\n",
              "    [theme=dark] .colab-df-convert:hover {\n",
              "      background-color: #434B5C;\n",
              "      box-shadow: 0px 1px 3px 1px rgba(0, 0, 0, 0.15);\n",
              "      filter: drop-shadow(0px 1px 2px rgba(0, 0, 0, 0.3));\n",
              "      fill: #FFFFFF;\n",
              "    }\n",
              "  </style>\n",
              "\n",
              "      <script>\n",
              "        const buttonEl =\n",
              "          document.querySelector('#df-be285ae9-1316-4503-acf4-96e6c7499306 button.colab-df-convert');\n",
              "        buttonEl.style.display =\n",
              "          google.colab.kernel.accessAllowed ? 'block' : 'none';\n",
              "\n",
              "        async function convertToInteractive(key) {\n",
              "          const element = document.querySelector('#df-be285ae9-1316-4503-acf4-96e6c7499306');\n",
              "          const dataTable =\n",
              "            await google.colab.kernel.invokeFunction('convertToInteractive',\n",
              "                                                     [key], {});\n",
              "          if (!dataTable) return;\n",
              "\n",
              "          const docLinkHtml = 'Like what you see? Visit the ' +\n",
              "            '<a target=\"_blank\" href=https://colab.research.google.com/notebooks/data_table.ipynb>data table notebook</a>'\n",
              "            + ' to learn more about interactive tables.';\n",
              "          element.innerHTML = '';\n",
              "          dataTable['output_type'] = 'display_data';\n",
              "          await google.colab.output.renderOutput(dataTable, element);\n",
              "          const docLink = document.createElement('div');\n",
              "          docLink.innerHTML = docLinkHtml;\n",
              "          element.appendChild(docLink);\n",
              "        }\n",
              "      </script>\n",
              "    </div>\n",
              "  </div>\n",
              "  "
            ]
          },
          "metadata": {}
        }
      ]
    },
    {
      "cell_type": "markdown",
      "source": [
        "### Linearidade"
      ],
      "metadata": {
        "id": "wogD02xXzbvD"
      }
    },
    {
      "cell_type": "code",
      "source": [
        "from sklearn import linear_model\n",
        "import warnings\n",
        "from sklearn.metrics import r2_score\n",
        "warnings.filterwarnings('ignore')\n",
        "\n",
        "def criarRegressao(X,y):\n",
        "  regr = linear_model.LinearRegression()\n",
        "  regr.fit(X, y)\n",
        "  return regr;\n",
        "\n",
        "def calcularResiduos(model, features, label):\n",
        "    \"\"\"\n",
        "    Creates predictions on the features with the model and calculates residuals\n",
        "    \"\"\"\n",
        "    predictions = model.predict(features)\n",
        "    df_results = pd.DataFrame({'Actual': label, 'Predicted': predictions})\n",
        "    df_results['Residuals'] = abs(df_results['Actual']) - abs(df_results['Predicted'])\n",
        "    \n",
        "    return df_results\n",
        "def testeLinear(model, features, label):\n",
        "    \"\"\"\n",
        "    Linearity: Assumes that there is a linear relationship between the predictors and\n",
        "               the response variable. If not, either a quadratic term or another\n",
        "               algorithm should be used.\n",
        "    \"\"\"\n",
        "    \n",
        "    # Calculating residuals for the plot\n",
        "    df_results = calcularResiduos(model, features, label)\n",
        "    \n",
        "    # Plotting the actual vs predicted values\n",
        "    sns.lmplot(x='Actual', y='Predicted', data=df_results, fit_reg=False, size=7)\n",
        "        \n",
        "    # Plotting the diagonal line\n",
        "    line_coords = np.arange(df_results.min().min(), df_results.max().max())\n",
        "    plt.plot(line_coords, line_coords,  # X and y points\n",
        "             color='darkorange', linestyle='--')\n",
        "    plt.title('Actual vs. Predicted')\n",
        "    plt.show()"
      ],
      "metadata": {
        "id": "GjxdVpWUzdlP"
      },
      "execution_count": null,
      "outputs": []
    },
    {
      "cell_type": "code",
      "source": [
        "\n",
        "filteredDf = df[df['custo_mensal'] < 100000]\n",
        "\n",
        "X = filteredDf[['valor_mensal','quantidade_horas_trabalhadas_semanais']]\n",
        "y = filteredDf['custo_mensal']\n",
        "\n",
        "reg = criarRegressao(X, y)\n",
        "testeLinear(reg, X, y)"
      ],
      "metadata": {
        "id": "TIXCfG6tzgoL"
      },
      "execution_count": null,
      "outputs": []
    },
    {
      "cell_type": "markdown",
      "source": [
        "## ANOVA para Salário mensal e ANO\n",
        "\n",
        "Com esta análise espera-se obter significância do ANO como tratamento para o valor de salário mensal, de acordo com o crescimento anual do salário mínimo e reajustes do IPCA"
      ],
      "metadata": {
        "id": "mzKc-bx_3OWL"
      }
    },
    {
      "cell_type": "code",
      "source": [
        "import scipy.stats as stats\n",
        "\n",
        "\n",
        "filteredDf = df[df['custo_mensal'] < 100000]\n",
        "\n",
        "# Determinando os anos\n",
        "grupos_de_ano = filteredDf['ano'].unique();\n",
        "display(grupos_de_ano)\n",
        "\n",
        "for ano in grupos_de_ano:\n",
        "  print(f'média para {ano}:', filteredDf['valor_mensal'][filteredDf['ano'] == ano].mean())\n",
        "\n",
        "\n",
        "\n",
        "\n",
        "stats.f_oneway(filteredDf['valor_mensal'][filteredDf['ano'] == 2019],\n",
        "               filteredDf['valor_mensal'][filteredDf['ano'] == 2020],\n",
        "               filteredDf['valor_mensal'][filteredDf['ano'] == 2021])\n",
        "\n"
      ],
      "metadata": {
        "id": "XJeFXSNr3g_F"
      },
      "execution_count": null,
      "outputs": []
    },
    {
      "cell_type": "markdown",
      "source": [
        "## Anova para salário mensal e escolaridade"
      ],
      "metadata": {
        "id": "7a4bsZpu67po"
      }
    },
    {
      "cell_type": "code",
      "source": [
        "import scipy.stats as stats\n",
        "\n",
        "\n",
        "filteredDf = df[df['custo_mensal'] < 100000]\n",
        "\n",
        "# Determinando os anos\n",
        "escolaridades = filteredDf['nivel_escolaridade'][filteredDf['nivel_escolaridade'].str.isnumeric() == False].unique();\n",
        "# display(escolaridades)\n",
        "\n",
        "\n",
        "\n",
        "medias = {\n",
        "           'ENSINO MEDIO COMPLETO': filteredDf['valor_mensal'][filteredDf['nivel_escolaridade'] == 'ENSINO MEDIO COMPLETO'].mean(),\n",
        "           'SUPERIOR COMPLETO': filteredDf['valor_mensal'][filteredDf['nivel_escolaridade'] == 'SUPERIOR COMPLETO'].mean(),\n",
        "           'ENSINO FUNDAMENTAL INCOMPLETO': filteredDf['valor_mensal'][filteredDf['nivel_escolaridade'] == 'ENSINO FUNDAMENTAL INCOMPLETO'].mean(),\n",
        "           'CURSO TECNICO COMPLETO': filteredDf['valor_mensal'][filteredDf['nivel_escolaridade'] == 'CURSO TECNICO COMPLETO'].mean(),\n",
        "           'ENSINO FUNDAMENTAL COMPLETO': filteredDf['valor_mensal'][filteredDf['nivel_escolaridade'] == 'ENSINO FUNDAMENTAL COMPLETO'].mean(),\n",
        "           'ENSINO MEDIO INCOMPLETO': filteredDf['valor_mensal'][filteredDf['nivel_escolaridade'] == 'ENSINO MEDIO INCOMPLETO'].mean(),\n",
        "           'POS GRADUACAO': filteredDf['valor_mensal'][filteredDf['nivel_escolaridade'] == 'POS GRADUACAO'].mean()\n",
        "          }\n",
        "\n",
        "display(pd.DataFrame.from_dict(medias, orient='index'))\n",
        "\n",
        "\n",
        "\n",
        "anova = stats.f_oneway(\n",
        "    filteredDf['valor_mensal'][filteredDf['nivel_escolaridade'] == 'ENSINO MEDIO COMPLETO'],\n",
        "               filteredDf['valor_mensal'][filteredDf['nivel_escolaridade'] == 'SUPERIOR COMPLETO'],\n",
        "               filteredDf['valor_mensal'][filteredDf['nivel_escolaridade'] == 'ENSINO FUNDAMENTAL INCOMPLETO'],\n",
        "               filteredDf['valor_mensal'][filteredDf['nivel_escolaridade'] == 'CURSO TECNICO COMPLETO'],\n",
        "               filteredDf['valor_mensal'][filteredDf['nivel_escolaridade'] == 'ENSINO FUNDAMENTAL COMPLETO'],\n",
        "               filteredDf['valor_mensal'][filteredDf['nivel_escolaridade'] == 'ENSINO MEDIO INCOMPLETO'],\n",
        "               filteredDf['valor_mensal'][filteredDf['nivel_escolaridade'] == 'POS GRADUACAO'],               \n",
        "               )\n",
        "\n",
        "display(anova)\n",
        "\n"
      ],
      "metadata": {
        "id": "SuXXbrfs7AEJ"
      },
      "execution_count": null,
      "outputs": []
    },
    {
      "cell_type": "markdown",
      "source": [
        "# Outros"
      ],
      "metadata": {
        "id": "htG2hkoQSu8T"
      }
    },
    {
      "cell_type": "code",
      "source": [
        "import pandas as pd\n",
        "import gspread\n",
        "from google.colab import auth\n",
        "import gspread\n",
        "from google.auth import default\n",
        "\n",
        "def sheet_to_pandas(URL):\n",
        "  #autenticando usuário\n",
        "  from google.colab import auth\n",
        "  auth.authenticate_user()\n",
        "\n",
        "  #autorizando usuário para o sheets especificamente\n",
        "  import gspread\n",
        "  from google.auth import default\n",
        "  creds, _ = default()\n",
        "\n",
        "  gc = gspread.authorize(creds)\n",
        "\n",
        "  #outra forma de abrir um sheets\n",
        "  #worksheet = gc.open('Cópia de planejamento semestral aberto').sheet1\n",
        "\n",
        "  #abrindo sheets com url\n",
        "  worksheet = gc.open_by_url(URL).sheet1 #abrindo primeira página\n",
        "\n",
        "  #passando para pandas pq é uma biblioteca mais popular\n",
        "  df = pd.DataFrame(worksheet.get_all_records())\n",
        "  return df\n",
        "\n",
        "URL = 'https://docs.google.com/spreadsheets/d/1FRevSP6DMGdx8UnIdTl_HzuluOHNDGYgUdSYW6-Q7Sw/edit?usp=sharing'\n",
        "sheet_to_pandas(URL)"
      ],
      "metadata": {
        "id": "-oosvY-wSzAR"
      },
      "execution_count": null,
      "outputs": []
    }
  ]
}